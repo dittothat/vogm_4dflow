{
 "cells": [
  {
   "cell_type": "code",
   "execution_count": 1,
   "id": "9472791e-5096-4f39-8bfe-03e76e3df0b0",
   "metadata": {},
   "outputs": [],
   "source": [
    "# This is the analysis notebook for the first submission of the VOGM 4D flow manuscript\n",
    "# Jeff Stout, Boston Children's Hospital\n",
    "# 2023/10/31"
   ]
  },
  {
   "cell_type": "code",
   "execution_count": 2,
   "id": "f828673d-8e27-4779-9d6c-1b0ed352c5bb",
   "metadata": {},
   "outputs": [],
   "source": [
    "# Imports\n",
    "import matplotlib.pyplot as plt\n",
    "import numpy as np\n",
    "import os\n",
    "import glob\n",
    "import json\n",
    "import nibabel as nib\n",
    "import nilearn\n",
    "import pandas as pd\n",
    "import statsmodels.formula.api as smf\n",
    "import statsmodels.api as sm\n",
    "import scipy\n",
    "import scipy.stats\n",
    "import scipy.io\n",
    "import nilearn.image\n",
    "import nilearn.glm\n",
    "import nilearn.plotting\n",
    "import statsmodels.stats.multitest"
   ]
  },
  {
   "cell_type": "code",
   "execution_count": 3,
   "id": "2dc339d9-0d7b-4116-aa3a-37c508a23458",
   "metadata": {},
   "outputs": [],
   "source": [
    "T = pd.read_csv('VOGM_4dflowdata.csv')\n",
    "\n",
    "T['SSMD'] = T['SS-MD']\n",
    "T['SSA'] = T['SS-A']\n",
    "T['inflow_ml/min'] = T['Inflow']*60\n",
    "T['age_at_scan_weeks'] = T['age_at_scan_months']* (52/12)\n",
    "\n",
    "# Don't always have SSS from the same technqiue\n",
    "T['SSS'] = T['SSS_pre_2dpcmri']\n",
    "T.loc[1, 'SSS'] =  T.loc[1, 'SSS_pre_4dflow']\n",
    "T.loc[4, 'SSS'] =  T.loc[4, 'SSS_pre_4dflow']\n",
    "T.loc[11, 'SSS'] =  T.loc[11, 'SSS_pre_4dflow']\n",
    "T.loc[15, 'SSS'] =  T.loc[15, 'SSS_pre_4dflow']\n",
    "\n",
    "T = T.reset_index()"
   ]
  },
  {
   "cell_type": "code",
   "execution_count": 4,
   "id": "fcf77553-866d-4b1a-95d7-b0b5101ec72d",
   "metadata": {},
   "outputs": [],
   "source": [
    "# There are two groups here and the embo for some definitely affects flow\n",
    "# the slopes are about the same, different intercepts, none signficant.\n",
    "# Joint modeling would be possible.\n",
    "\n",
    "T_noembo = T[T.embo == 0].reset_index(drop=True)\n"
   ]
  },
  {
   "cell_type": "code",
   "execution_count": 5,
   "id": "26064878-3ef8-4bad-ac87-517b5abee0eb",
   "metadata": {},
   "outputs": [
    {
     "data": {
      "image/png": "[encoded data removed]",
      "text/plain": [
       "<Figure size 432x288 with 1 Axes>"
      ]
     },
     "metadata": {
      "needs_background": "light"
     },
     "output_type": "display_data"
    }
   ],
   "source": [
    "##### Figure 3a\n",
    "# Inflow versus GA. This is really abnormal\n",
    "# So this is an interesting plot when compared with the normal data that goes from 100ml/min at birth to 550ml/min at 60 weeks (ref: Varela, Liu)\n",
    "# plt.plot(T['age_at_scan_weeks'], T['inflow_ml/min'], 'ko')\n",
    "plt.plot(T.loc[T['embo']==0, 'age_at_scan_weeks'], T.loc[T['embo']==0, 'inflow_ml/min'], 'ko', fillstyle='none',)\n",
    "plt.plot(T.loc[T['embo']==1, 'age_at_scan_weeks'], T.loc[T['embo']==1, 'inflow_ml/min'], 'ko')\n",
    "plt.xlabel('Age at scan (weeks)', fontsize=18)\n",
    "plt.ylabel('inflow (ml/min)', fontsize=18)\n",
    "plt.ylim([0, 1600])\n",
    "plt.xlim([-1, 65])\n",
    "plt.xticks(fontsize=18)\n",
    "plt.yticks(fontsize=18)\n",
    "plt.grid()\n",
    "ax = plt.gca()\n",
    "ax.axhspan(100, 550, xmin=0, xmax=1, alpha=0.2, color='black')\n",
    "\n",
    "# for i, x in enumerate(T['SS-MD']):\n",
    "#     plt.annotate('%i' % (i+1), (T['age_at_scan_weeks'][i]+1, (T['inflow_ml/min'][i]+0.1)))\n",
    "    \n",
    "for i, x in enumerate(T['ID_N']):\n",
    "    if x != 11:\n",
    "        plt.annotate('%i' % x, (T['age_at_scan_weeks'][i]+1, (T['inflow_ml/min'][i])))\n",
    "for i, x in enumerate(T['ID_N']):\n",
    "    if x == 11 and i == 11:\n",
    "        plt.annotate('%i' % x, (T['age_at_scan_weeks'][i]+1, (T['inflow_ml/min'][i])+50))\n",
    "    if x == 11 and i == 12:\n",
    "        plt.annotate('%i' % x, (T['age_at_scan_weeks'][i]+1, (T['inflow_ml/min'][i])-50))\n",
    "\n",
    "fig = plt.gcf()\n",
    "plt.tight_layout()\n",
    "# fig.savefig('fig3a.png')  "
   ]
  },
  {
   "cell_type": "code",
   "execution_count": 6,
   "id": "b91f3fe3-98e4-45c2-85c7-379698f85e38",
   "metadata": {},
   "outputs": [],
   "source": [
    "# Helper function to format the statmodels output for direct copy into the results table\n",
    "def format_result(result):\n",
    "    output = \"\"\n",
    "    for name in result.model.exog_names:\n",
    "        coef = result.params.loc[name] # Get the coefficient estimate\n",
    "        lower = result.conf_int().loc[name, 0] # Get the lower limit of the confidence interval\n",
    "        upper = result.conf_int().loc[name, 1] # Get the upper limit of the confidence interval\n",
    "        pvalue = result.pvalues.loc[name] # Get the p-value\n",
    "        # Format the output as \"name: coef [lower, upper] pvalue =\"\n",
    "        output += f\"{name}: {coef:.0f} [{lower:.0f}, {upper:.0f}] P={pvalue:.3f}\\n\"\n",
    "    SW = scipy.stats.shapiro(result.resid)\n",
    "    output += f\"W={SW.statistic:.2f}, P={SW.pvalue:.3f}\"\n",
    "    return output"
   ]
  },
  {
   "cell_type": "code",
   "execution_count": 7,
   "id": "a6f22e58-2b6f-4f13-a493-2777954d74c2",
   "metadata": {},
   "outputs": [
    {
     "name": "stdout",
     "output_type": "stream",
     "text": [
      "                            OLS Regression Results                            \n",
      "==============================================================================\n",
      "Dep. Variable:          inflow_ml_min   R-squared:                       0.067\n",
      "Model:                            OLS   Adj. R-squared:                  0.001\n",
      "Method:                 Least Squares   F-statistic:                     1.010\n",
      "Date:                Mon, 23 Oct 2023   Prob (F-statistic):              0.332\n",
      "Time:                        15:24:04   Log-Likelihood:                -118.16\n",
      "No. Observations:                  16   AIC:                             240.3\n",
      "Df Residuals:                      14   BIC:                             241.9\n",
      "Df Model:                           1                                         \n",
      "Covariance Type:            nonrobust                                         \n",
      "=====================================================================================\n",
      "                        coef    std err          t      P>|t|      [0.025      0.975]\n",
      "-------------------------------------------------------------------------------------\n",
      "Intercept          1230.1925    174.595      7.046      0.000     855.722    1604.663\n",
      "age_at_scan_weeks    -5.8957      5.866     -1.005      0.332     -18.477       6.685\n",
      "==============================================================================\n",
      "Omnibus:                        1.460   Durbin-Watson:                   1.508\n",
      "Prob(Omnibus):                  0.482   Jarque-Bera (JB):                0.671\n",
      "Skew:                           0.502   Prob(JB):                        0.715\n",
      "Kurtosis:                       2.977   Cond. No.                         49.9\n",
      "==============================================================================\n",
      "\n",
      "Notes:\n",
      "[1] Standard Errors assume that the covariance matrix of the errors is correctly specified.\n"
     ]
    },
    {
     "name": "stderr",
     "output_type": "stream",
     "text": [
      "/home/jeff/virtualenv/jupyterlab3/lib/python3.8/site-packages/scipy/stats/_stats_py.py:1477: UserWarning: kurtosistest only valid for n>=20 ... continuing anyway, n=16\n",
      "  warnings.warn(\"kurtosistest only valid for n>=20 ... continuing \"\n"
     ]
    },
    {
     "data": {
      "image/png": "[encoded data removed]",
      "text/plain": [
       "<Figure size 432x288 with 1 Axes>"
      ]
     },
     "metadata": {
      "needs_background": "light"
     },
     "output_type": "display_data"
    },
    {
     "name": "stdout",
     "output_type": "stream",
     "text": [
      "Intercept: 1230 [856, 1605] P=0.000\n",
      "age_at_scan_weeks: -6 [-18, 7] P=0.332\n",
      "W=0.95, P=0.571\n",
      "                            OLS Regression Results                            \n",
      "==============================================================================\n",
      "Dep. Variable:          inflow_ml_min   R-squared:                       0.280\n",
      "Model:                            OLS   Adj. R-squared:                  0.169\n",
      "Method:                 Least Squares   F-statistic:                     2.528\n",
      "Date:                Mon, 23 Oct 2023   Prob (F-statistic):              0.118\n",
      "Time:                        15:24:05   Log-Likelihood:                -116.09\n",
      "No. Observations:                  16   AIC:                             238.2\n",
      "Df Residuals:                      13   BIC:                             240.5\n",
      "Df Model:                           2                                         \n",
      "Covariance Type:            nonrobust                                         \n",
      "=====================================================================================\n",
      "                        coef    std err          t      P>|t|      [0.025      0.975]\n",
      "-------------------------------------------------------------------------------------\n",
      "Intercept          1412.7642    184.451      7.659      0.000    1014.281    1811.247\n",
      "age_at_scan_weeks    -5.7412      5.349     -1.073      0.303     -17.297       5.815\n",
      "embo               -372.5188    190.096     -1.960      0.072    -783.196      38.158\n",
      "==============================================================================\n",
      "Omnibus:                        2.125   Durbin-Watson:                   1.839\n",
      "Prob(Omnibus):                  0.346   Jarque-Bera (JB):                1.542\n",
      "Skew:                           0.728   Prob(JB):                        0.463\n",
      "Kurtosis:                       2.562   Cond. No.                         72.0\n",
      "==============================================================================\n",
      "\n",
      "Notes:\n",
      "[1] Standard Errors assume that the covariance matrix of the errors is correctly specified.\n"
     ]
    },
    {
     "name": "stderr",
     "output_type": "stream",
     "text": [
      "/home/jeff/virtualenv/jupyterlab3/lib/python3.8/site-packages/scipy/stats/_stats_py.py:1477: UserWarning: kurtosistest only valid for n>=20 ... continuing anyway, n=16\n",
      "  warnings.warn(\"kurtosistest only valid for n>=20 ... continuing \"\n"
     ]
    },
    {
     "data": {
      "image/png": "[encoded data removed]",
      "text/plain": [
       "<Figure size 432x288 with 1 Axes>"
      ]
     },
     "metadata": {
      "needs_background": "light"
     },
     "output_type": "display_data"
    },
    {
     "name": "stderr",
     "output_type": "stream",
     "text": [
      "/home/jeff/virtualenv/jupyterlab3/lib/python3.8/site-packages/scipy/stats/_stats_py.py:1477: UserWarning: kurtosistest only valid for n>=20 ... continuing anyway, n=16\n",
      "  warnings.warn(\"kurtosistest only valid for n>=20 ... continuing \"\n"
     ]
    },
    {
     "name": "stdout",
     "output_type": "stream",
     "text": [
      "Intercept: 1413 [1014, 1811] P=0.000\n",
      "age_at_scan_weeks: -6 [-17, 6] P=0.303\n",
      "embo: -373 [-783, 38] P=0.072\n",
      "W=0.93, P=0.207\n",
      "                            OLS Regression Results                            \n",
      "==============================================================================\n",
      "Dep. Variable:          inflow_ml_min   R-squared:                       0.280\n",
      "Model:                            OLS   Adj. R-squared:                  0.100\n",
      "Method:                 Least Squares   F-statistic:                     1.557\n",
      "Date:                Mon, 23 Oct 2023   Prob (F-statistic):              0.251\n",
      "Time:                        15:24:05   Log-Likelihood:                -116.09\n",
      "No. Observations:                  16   AIC:                             240.2\n",
      "Df Residuals:                      12   BIC:                             243.3\n",
      "Df Model:                           3                                         \n",
      "Covariance Type:            nonrobust                                         \n",
      "=====================================================================================\n",
      "                        coef    std err          t      P>|t|      [0.025      0.975]\n",
      "-------------------------------------------------------------------------------------\n",
      "Intercept          1422.0496    272.894      5.211      0.000     827.464    2016.635\n",
      "age_at_scan_weeks    -5.9647      7.264     -0.821      0.428     -21.792       9.863\n",
      "embo               -374.4065    201.730     -1.856      0.088    -813.939      65.126\n",
      "NAR                 -16.0371    334.995     -0.048      0.963    -745.929     713.854\n",
      "==============================================================================\n",
      "Omnibus:                        2.029   Durbin-Watson:                   1.835\n",
      "Prob(Omnibus):                  0.363   Jarque-Bera (JB):                1.492\n",
      "Skew:                           0.711   Prob(JB):                        0.474\n",
      "Kurtosis:                       2.537   Cond. No.                         123.\n",
      "==============================================================================\n",
      "\n",
      "Notes:\n",
      "[1] Standard Errors assume that the covariance matrix of the errors is correctly specified.\n"
     ]
    },
    {
     "data": {
      "image/png": "[encoded data removed]",
      "text/plain": [
       "<Figure size 432x288 with 1 Axes>"
      ]
     },
     "metadata": {
      "needs_background": "light"
     },
     "output_type": "display_data"
    },
    {
     "name": "stdout",
     "output_type": "stream",
     "text": [
      "Intercept: 1422 [827, 2017] P=0.000\n",
      "age_at_scan_weeks: -6 [-22, 10] P=0.428\n",
      "embo: -374 [-814, 65] P=0.088\n",
      "NAR: -16 [-746, 714] P=0.963\n",
      "W=0.93, P=0.212\n"
     ]
    }
   ],
   "source": [
    "# Inflow models for paper\n",
    "T['inflow_ml_min'] = T['inflow_ml/min']\n",
    "mod = smf.ols(formula=\"inflow_ml_min ~ age_at_scan_weeks\", data=T)\n",
    "res = mod.fit()\n",
    "print(res.summary())\n",
    "plt.hist(res.resid)\n",
    "plt.show()\n",
    "print(format_result(res))\n",
    "\n",
    "mod = smf.ols(formula=\"inflow_ml_min ~ age_at_scan_weeks + embo\", data=T)\n",
    "res = mod.fit()\n",
    "print(res.summary())\n",
    "plt.hist(res.resid)\n",
    "plt.show()\n",
    "print(format_result(res))\n",
    "\n",
    "mod = smf.ols(formula=\"inflow_ml_min ~ age_at_scan_weeks + embo + NAR\", data=T)\n",
    "res = mod.fit()\n",
    "print(res.summary())\n",
    "plt.hist(res.resid)\n",
    "plt.show()\n",
    "print(format_result(res))"
   ]
  },
  {
   "cell_type": "code",
   "execution_count": 8,
   "id": "602ebeec-0b3a-4eea-87b1-06dc99c8a510",
   "metadata": {},
   "outputs": [],
   "source": [
    "# What is cortical flow? something like the inflow - varix flow\n",
    "T['cortical_flow'] = (T['Inflow'] - T['falcine'])*60\n",
    "# Or it could be SSS flow before the falcine drainage\n",
    "T['SSS_mlmin'] = T['SSS'] * 60"
   ]
  },
  {
   "cell_type": "code",
   "execution_count": 9,
   "id": "feff07a7-190b-40a5-9804-ff15741d8edd",
   "metadata": {},
   "outputs": [
    {
     "data": {
      "image/png": "[encoded data removed]",
      "text/plain": [
       "<Figure size 432x288 with 1 Axes>"
      ]
     },
     "metadata": {
      "needs_background": "light"
     },
     "output_type": "display_data"
    }
   ],
   "source": [
    "## SSS versus GA. Fig 2d\n",
    "\n",
    "# plt.plot(T['age_at_scan_weeks'], T['SSS']*60, 'ko')\n",
    "plt.plot(T.loc[T['embo']==0, 'age_at_scan_weeks'], T.loc[T['embo']==0, 'SSS_mlmin'], 'ko', fillstyle='none',)\n",
    "plt.plot(T.loc[T['embo']==1, 'age_at_scan_weeks'], T.loc[T['embo']==1, 'SSS_mlmin'], 'ko')\n",
    "plt.xlabel('Age at scan (weeks)', fontsize=18)\n",
    "plt.ylabel('SSS (ml/min)', fontsize=18)\n",
    "plt.ylim([-20, 300])\n",
    "plt.xlim([-1, 65])\n",
    "plt.xticks(fontsize=18)\n",
    "plt.yticks(fontsize=18)\n",
    "plt.grid()\n",
    "\n",
    "# Trendline\n",
    "T_nan = T.dropna(subset=['SSS']) # This wasn't plotting, becasue of nan in the SSS column\n",
    "d = np.polyfit(T_nan['age_at_scan_weeks'], T_nan['SSS_mlmin'], 1)\n",
    "f = np.poly1d(d)\n",
    "plot_x = [np.min(T_nan['age_at_scan_weeks']), np.max(T_nan['age_at_scan_weeks'])]\n",
    "plt.plot(plot_x, f(plot_x), 'k-')\n",
    "\n",
    "ax = plt.gca()\n",
    "# ax.axhspan(100, 550, xmin=0, xmax=1, alpha=0.2, color='black')\n",
    "\n",
    "# for i, x in enumerate(T['SS-MD']):\n",
    "#     plt.annotate('%i' % (i+1), (T['age_at_scan_weeks'][i]+1, (T['SSS'][i]+0.1)*60))\n",
    "for i, x in enumerate(T['ID_N']):\n",
    "    if x == 7: # move it down a bit\n",
    "        plt.annotate('%i' % x, (T['age_at_scan_weeks'][i]+1, T['SSS_mlmin'][i]-6))\n",
    "    elif x == 11 and i == 11:\n",
    "        plt.annotate('%i' % x, (T['age_at_scan_weeks'][i]+1, T['SSS_mlmin'][i]-6))\n",
    "    else:\n",
    "        plt.annotate('%i' % x, (T['age_at_scan_weeks'][i]+1, T['SSS_mlmin'][i]))\n",
    "\n",
    "# SSS from Can Wu\n",
    "sss_data = pd.read_excel('/home/jeff/jeff.stout/research/clinical_cases/ISMRM2023/Vessel Blood Flow Can Wu 2017.xlsx', header=3)\n",
    "plt.plot(52 * sss_data.loc[sss_data['Age [Y]']<1.6, 'Age [Y]'], 60 * sss_data.loc[sss_data['Age [Y]']<1.6, 'SSS'], 'kx')\n",
    "plt.xlim([-1, 70])\n",
    "plt.ylim([-20, 450])\n",
    "ax.axhspan(np.min(sss_data.loc[sss_data['Age [Y]']<1.6, 'SSS'])*60, np.max(sss_data.loc[sss_data['Age [Y]']<1.6, 'SSS'])*60, alpha=0.2, color='black')\n",
    "        \n",
    "fig = plt.gcf()\n",
    "plt.tight_layout()\n",
    "# fig.savefig('fig2d.png')"
   ]
  },
  {
   "cell_type": "code",
   "execution_count": 10,
   "id": "d796c2fe-8700-4a78-bb5e-af6f38ccb407",
   "metadata": {},
   "outputs": [
    {
     "data": {
      "image/png": "[encoded data removed]",
      "text/plain": [
       "<Figure size 432x288 with 1 Axes>"
      ]
     },
     "metadata": {
      "needs_background": "light"
     },
     "output_type": "display_data"
    }
   ],
   "source": [
    "## Inflow-flacine versus GA. fig 2c\n",
    "\n",
    "# plt.plot(T['age_at_scan_weeks'], T['SSS']*60, 'ko')\n",
    "plt.plot(T.loc[T['embo']==0, 'age_at_scan_weeks'], T.loc[T['embo']==0, 'cortical_flow'], 'ko', fillstyle='none',)\n",
    "plt.plot(T.loc[T['embo']==1, 'age_at_scan_weeks'], T.loc[T['embo']==1, 'cortical_flow'], 'ko')\n",
    "plt.xlabel('Age at scan (weeks)', fontsize=18)\n",
    "plt.ylabel('inflow - falcine (ml/min)', fontsize=18)\n",
    "# plt.ylim([-20, 300])\n",
    "plt.xlim([-1, 65])\n",
    "plt.xticks(fontsize=18)\n",
    "plt.yticks(fontsize=18)\n",
    "plt.grid()\n",
    "\n",
    "# # Trendline\n",
    "# T_nan = T.dropna(subset=['SSS']) # This wasn't plotting, becasue of nan in the SSS column\n",
    "# d = np.polyfit(T_nan['age_at_scan_weeks'], T_nan['cortical_flow'], 1)\n",
    "# f = np.poly1d(d)\n",
    "# plt.plot(T_nan['age_at_scan_weeks'], f(T_nan['age_at_scan_weeks']), 'k-')\n",
    "\n",
    "ax = plt.gca()\n",
    "# ax.axhspan(100, 550, xmin=0, xmax=1, alpha=0.2, color='black')\n",
    "\n",
    "# for i, x in enumerate(T['SS-MD']):\n",
    "#     plt.annotate('%i' % (i+1), (T['age_at_scan_weeks'][i]+1, (T['SSS'][i]+0.1)*60))\n",
    "for i, x in enumerate(T['ID_N']):\n",
    "    if x == 7: # move it down a bit\n",
    "        plt.annotate('%i' % x, (T['age_at_scan_weeks'][i]+1, T['cortical_flow'][i]-6))\n",
    "    elif x == 11 and i == 11:\n",
    "        plt.annotate('%i' % x, (T['age_at_scan_weeks'][i]+1, T['cortical_flow'][i]-6))\n",
    "    else:\n",
    "        plt.annotate('%i' % x, (T['age_at_scan_weeks'][i]+1, T['cortical_flow'][i]))\n",
    "\n",
    "        \n",
    "fig = plt.gcf()\n",
    "plt.tight_layout()\n",
    "# fig.savefig('fig2c.png')"
   ]
  },
  {
   "cell_type": "code",
   "execution_count": 11,
   "id": "fc67dd87-6968-432a-b075-cb24dde2f763",
   "metadata": {},
   "outputs": [
    {
     "data": {
      "image/png": "[encoded data removed]",
      "text/plain": [
       "<Figure size 432x288 with 1 Axes>"
      ]
     },
     "metadata": {
      "needs_background": "light"
     },
     "output_type": "display_data"
    }
   ],
   "source": [
    "## Inflow-flacine versus GA\n",
    "\n",
    "# plt.plot(T['age_at_scan_weeks'], T['SSS']*60, 'ko')\n",
    "plt.plot(T.loc[T['embo']==0, 'age_at_scan_weeks'], T.loc[T['embo']==0, 'falcine'], 'ko', fillstyle='none',)\n",
    "plt.plot(T.loc[T['embo']==1, 'age_at_scan_weeks'], T.loc[T['embo']==1, 'falcine'], 'ko')\n",
    "plt.xlabel('Age at scan (weeks)', fontsize=18)\n",
    "plt.ylabel('falcine (ml/s)', fontsize=18)\n",
    "# plt.ylim([-20, 300])\n",
    "plt.xlim([-1, 65])\n",
    "plt.xticks(fontsize=18)\n",
    "plt.yticks(fontsize=18)\n",
    "plt.grid()\n"
   ]
  },
  {
   "cell_type": "code",
   "execution_count": 29,
   "id": "8e457fdf-c15b-43f8-9223-0b9ae5815af9",
   "metadata": {},
   "outputs": [
    {
     "name": "stdout",
     "output_type": "stream",
     "text": [
      "                            OLS Regression Results                            \n",
      "==============================================================================\n",
      "Dep. Variable:          falcine_mlmin   R-squared:                       0.451\n",
      "Model:                            OLS   Adj. R-squared:                  0.412\n",
      "Method:                 Least Squares   F-statistic:                     11.52\n",
      "Date:                Mon, 23 Oct 2023   Prob (F-statistic):            0.00436\n",
      "Time:                        15:49:57   Log-Likelihood:                -116.07\n",
      "No. Observations:                  16   AIC:                             236.1\n",
      "Df Residuals:                      14   BIC:                             237.7\n",
      "Df Model:                           1                                         \n",
      "Covariance Type:            nonrobust                                         \n",
      "==============================================================================\n",
      "                 coef    std err          t      P>|t|      [0.025      0.975]\n",
      "------------------------------------------------------------------------------\n",
      "Intercept   -186.3894    250.380     -0.744      0.469    -723.401     350.622\n",
      "SSMD         146.1176     43.043      3.395      0.004      53.800     238.436\n",
      "==============================================================================\n",
      "Omnibus:                       11.839   Durbin-Watson:                   2.487\n",
      "Prob(Omnibus):                  0.003   Jarque-Bera (JB):                8.340\n",
      "Skew:                           1.594   Prob(JB):                       0.0155\n",
      "Kurtosis:                       4.533   Cond. No.                         16.3\n",
      "==============================================================================\n",
      "\n",
      "Notes:\n",
      "[1] Standard Errors assume that the covariance matrix of the errors is correctly specified.\n"
     ]
    },
    {
     "name": "stderr",
     "output_type": "stream",
     "text": [
      "/home/jeff/virtualenv/jupyterlab3/lib/python3.8/site-packages/scipy/stats/_stats_py.py:1477: UserWarning: kurtosistest only valid for n>=20 ... continuing anyway, n=16\n",
      "  warnings.warn(\"kurtosistest only valid for n>=20 ... continuing \"\n"
     ]
    },
    {
     "data": {
      "image/png": "[encoded data removed]",
      "text/plain": [
       "<Figure size 432x288 with 1 Axes>"
      ]
     },
     "metadata": {
      "needs_background": "light"
     },
     "output_type": "display_data"
    },
    {
     "name": "stdout",
     "output_type": "stream",
     "text": [
      "Intercept: -186.39 [-723.40, 350.62] P=0.469\n",
      "SSMD: 146.12 [53.80, 238.44] P=0.004\n",
      "W=0.78, P=0.002\n",
      "                            OLS Regression Results                            \n",
      "==============================================================================\n",
      "Dep. Variable:          falcine_mlmin   R-squared:                       0.647\n",
      "Model:                            OLS   Adj. R-squared:                  0.593\n",
      "Method:                 Least Squares   F-statistic:                     11.92\n",
      "Date:                Mon, 23 Oct 2023   Prob (F-statistic):            0.00115\n",
      "Time:                        15:49:57   Log-Likelihood:                -112.54\n",
      "No. Observations:                  16   AIC:                             231.1\n",
      "Df Residuals:                      13   BIC:                             233.4\n",
      "Df Model:                           2                                         \n",
      "Covariance Type:            nonrobust                                         \n",
      "==============================================================================\n",
      "                 coef    std err          t      P>|t|      [0.025      0.975]\n",
      "------------------------------------------------------------------------------\n",
      "Intercept     28.7423    223.291      0.129      0.900    -453.648     511.132\n",
      "SSMD         144.1370     35.836      4.022      0.001      66.718     221.556\n",
      "embo        -408.8130    152.293     -2.684      0.019    -737.823     -79.803\n",
      "==============================================================================\n",
      "Omnibus:                        7.260   Durbin-Watson:                   2.714\n",
      "Prob(Omnibus):                  0.027   Jarque-Bera (JB):                4.254\n",
      "Skew:                           1.177   Prob(JB):                        0.119\n",
      "Kurtosis:                       3.915   Cond. No.                         18.3\n",
      "==============================================================================\n",
      "\n",
      "Notes:\n",
      "[1] Standard Errors assume that the covariance matrix of the errors is correctly specified.\n"
     ]
    },
    {
     "name": "stderr",
     "output_type": "stream",
     "text": [
      "/home/jeff/virtualenv/jupyterlab3/lib/python3.8/site-packages/scipy/stats/_stats_py.py:1477: UserWarning: kurtosistest only valid for n>=20 ... continuing anyway, n=16\n",
      "  warnings.warn(\"kurtosistest only valid for n>=20 ... continuing \"\n"
     ]
    },
    {
     "data": {
      "image/png": "[encoded data removed]",
      "text/plain": [
       "<Figure size 432x288 with 1 Axes>"
      ]
     },
     "metadata": {
      "needs_background": "light"
     },
     "output_type": "display_data"
    },
    {
     "name": "stderr",
     "output_type": "stream",
     "text": [
      "/home/jeff/virtualenv/jupyterlab3/lib/python3.8/site-packages/scipy/stats/_stats_py.py:1477: UserWarning: kurtosistest only valid for n>=20 ... continuing anyway, n=16\n",
      "  warnings.warn(\"kurtosistest only valid for n>=20 ... continuing \"\n"
     ]
    },
    {
     "name": "stdout",
     "output_type": "stream",
     "text": [
      "Intercept: 28.74 [-453.65, 511.13] P=0.900\n",
      "SSMD: 144.14 [66.72, 221.56] P=0.001\n",
      "embo: -408.81 [-737.82, -79.80] P=0.019\n",
      "W=0.89, P=0.055\n",
      "                            OLS Regression Results                            \n",
      "==============================================================================\n",
      "Dep. Variable:          falcine_mlmin   R-squared:                       0.656\n",
      "Model:                            OLS   Adj. R-squared:                  0.570\n",
      "Method:                 Least Squares   F-statistic:                     7.616\n",
      "Date:                Mon, 23 Oct 2023   Prob (F-statistic):            0.00410\n",
      "Time:                        15:49:57   Log-Likelihood:                -112.35\n",
      "No. Observations:                  16   AIC:                             232.7\n",
      "Df Residuals:                      12   BIC:                             235.8\n",
      "Df Model:                           3                                         \n",
      "Covariance Type:            nonrobust                                         \n",
      "==============================================================================\n",
      "                 coef    std err          t      P>|t|      [0.025      0.975]\n",
      "------------------------------------------------------------------------------\n",
      "Intercept     58.0166    235.767      0.246      0.810    -455.676     571.709\n",
      "SSMD         132.9672     42.152      3.154      0.008      41.126     224.809\n",
      "embo        -393.9410    158.938     -2.479      0.029    -740.237     -47.645\n",
      "NAR          126.7947    232.428      0.546      0.595    -379.622     633.211\n",
      "==============================================================================\n",
      "Omnibus:                        8.867   Durbin-Watson:                   2.768\n",
      "Prob(Omnibus):                  0.012   Jarque-Bera (JB):                5.444\n",
      "Skew:                           1.245   Prob(JB):                       0.0658\n",
      "Kurtosis:                       4.401   Cond. No.                         19.9\n",
      "==============================================================================\n",
      "\n",
      "Notes:\n",
      "[1] Standard Errors assume that the covariance matrix of the errors is correctly specified.\n"
     ]
    },
    {
     "data": {
      "image/png": "[encoded data removed]",
      "text/plain": [
       "<Figure size 432x288 with 1 Axes>"
      ]
     },
     "metadata": {
      "needs_background": "light"
     },
     "output_type": "display_data"
    },
    {
     "name": "stdout",
     "output_type": "stream",
     "text": [
      "Intercept: 58.02 [-455.68, 571.71] P=0.810\n",
      "SSMD: 132.97 [41.13, 224.81] P=0.008\n",
      "embo: -393.94 [-740.24, -47.65] P=0.029\n",
      "NAR: 126.79 [-379.62, 633.21] P=0.595\n",
      "W=0.90, P=0.068\n",
      "                            OLS Regression Results                            \n",
      "==============================================================================\n",
      "Dep. Variable:          falcine_mlmin   R-squared:                       0.186\n",
      "Model:                            OLS   Adj. R-squared:                  0.127\n",
      "Method:                 Least Squares   F-statistic:                     3.190\n",
      "Date:                Mon, 23 Oct 2023   Prob (F-statistic):             0.0958\n",
      "Time:                        15:49:57   Log-Likelihood:                -119.23\n",
      "No. Observations:                  16   AIC:                             242.5\n",
      "Df Residuals:                      14   BIC:                             244.0\n",
      "Df Model:                           1                                         \n",
      "Covariance Type:            nonrobust                                         \n",
      "=====================================================================================\n",
      "                        coef    std err          t      P>|t|      [0.025      0.975]\n",
      "-------------------------------------------------------------------------------------\n",
      "Intercept           872.3211    186.680      4.673      0.000     471.931    1272.711\n",
      "age_at_scan_weeks   -11.2019      6.272     -1.786      0.096     -24.654       2.250\n",
      "==============================================================================\n",
      "Omnibus:                        4.448   Durbin-Watson:                   2.005\n",
      "Prob(Omnibus):                  0.108   Jarque-Bera (JB):                2.147\n",
      "Skew:                           0.831   Prob(JB):                        0.342\n",
      "Kurtosis:                       3.675   Cond. No.                         49.9\n",
      "==============================================================================\n",
      "\n",
      "Notes:\n",
      "[1] Standard Errors assume that the covariance matrix of the errors is correctly specified.\n"
     ]
    },
    {
     "name": "stderr",
     "output_type": "stream",
     "text": [
      "/home/jeff/virtualenv/jupyterlab3/lib/python3.8/site-packages/scipy/stats/_stats_py.py:1477: UserWarning: kurtosistest only valid for n>=20 ... continuing anyway, n=16\n",
      "  warnings.warn(\"kurtosistest only valid for n>=20 ... continuing \"\n"
     ]
    },
    {
     "data": {
      "image/png": "[encoded data removed]",
      "text/plain": [
       "<Figure size 432x288 with 1 Axes>"
      ]
     },
     "metadata": {
      "needs_background": "light"
     },
     "output_type": "display_data"
    },
    {
     "name": "stdout",
     "output_type": "stream",
     "text": [
      "Intercept: 872.32 [471.93, 1272.71] P=0.000\n",
      "age_at_scan_weeks: -11.20 [-24.65, 2.25] P=0.096\n",
      "W=0.93, P=0.247\n",
      "                            OLS Regression Results                            \n",
      "==============================================================================\n",
      "Dep. Variable:          falcine_mlmin   R-squared:                       0.388\n",
      "Model:                            OLS   Adj. R-squared:                  0.294\n",
      "Method:                 Least Squares   F-statistic:                     4.118\n",
      "Date:                Mon, 23 Oct 2023   Prob (F-statistic):             0.0412\n",
      "Time:                        15:49:57   Log-Likelihood:                -116.95\n",
      "No. Observations:                  16   AIC:                             239.9\n",
      "Df Residuals:                      13   BIC:                             242.2\n",
      "Df Model:                           2                                         \n",
      "Covariance Type:            nonrobust                                         \n",
      "=====================================================================================\n",
      "                        coef    std err          t      P>|t|      [0.025      0.975]\n",
      "-------------------------------------------------------------------------------------\n",
      "Intercept          1076.0312    194.609      5.529      0.000     655.605    1496.458\n",
      "age_at_scan_weeks   -11.0296      5.644     -1.954      0.073     -23.222       1.163\n",
      "embo               -415.6498    200.564     -2.072      0.059    -848.942      17.642\n",
      "==============================================================================\n",
      "Omnibus:                        3.595   Durbin-Watson:                   2.600\n",
      "Prob(Omnibus):                  0.166   Jarque-Bera (JB):                1.857\n",
      "Skew:                           0.822   Prob(JB):                        0.395\n",
      "Kurtosis:                       3.289   Cond. No.                         72.0\n",
      "==============================================================================\n",
      "\n",
      "Notes:\n",
      "[1] Standard Errors assume that the covariance matrix of the errors is correctly specified.\n"
     ]
    },
    {
     "name": "stderr",
     "output_type": "stream",
     "text": [
      "/home/jeff/virtualenv/jupyterlab3/lib/python3.8/site-packages/scipy/stats/_stats_py.py:1477: UserWarning: kurtosistest only valid for n>=20 ... continuing anyway, n=16\n",
      "  warnings.warn(\"kurtosistest only valid for n>=20 ... continuing \"\n"
     ]
    },
    {
     "data": {
      "image/png": "[encoded data removed]",
      "text/plain": [
       "<Figure size 432x288 with 1 Axes>"
      ]
     },
     "metadata": {
      "needs_background": "light"
     },
     "output_type": "display_data"
    },
    {
     "name": "stdout",
     "output_type": "stream",
     "text": [
      "Intercept: 1076.03 [655.60, 1496.46] P=0.000\n",
      "age_at_scan_weeks: -11.03 [-23.22, 1.16] P=0.073\n",
      "embo: -415.65 [-848.94, 17.64] P=0.059\n",
      "W=0.95, P=0.417\n"
     ]
    }
   ],
   "source": [
    "# Falcine models\n",
    "\n",
    "T['falcine_mlmin'] = T['falcine'] * 60\n",
    "\n",
    "mod = smf.ols(formula=\"falcine_mlmin ~ SSMD\", data=T) # And embo is not significant (Does that make sense?)\n",
    "res = mod.fit()\n",
    "print(res.summary())\n",
    "plt.hist(res.resid)\n",
    "plt.xlabel('Residual')\n",
    "plt.ylabel('Count')\n",
    "plt.show()\n",
    "print(format_result(res))\n",
    "\n",
    "mod = smf.ols(formula=\"falcine_mlmin ~ SSMD + embo\", data=T) # And embo is not significant (Does that make sense?)\n",
    "res = mod.fit()\n",
    "print(res.summary())\n",
    "plt.hist(res.resid)\n",
    "plt.show()\n",
    "print(format_result(res))\n",
    "\n",
    "mod = smf.ols(formula=\"falcine_mlmin ~ SSMD + embo + NAR\", data=T) # And embo is not significant (Does that make sense?)\n",
    "res = mod.fit()\n",
    "print(res.summary())\n",
    "plt.hist(res.resid)\n",
    "plt.show()\n",
    "print(format_result(res))\n",
    "\n",
    "mod = smf.ols(formula=\"falcine_mlmin ~ age_at_scan_weeks\", data=T) # And embo is not significant (Does that make sense?)\n",
    "res = mod.fit()\n",
    "print(res.summary())\n",
    "plt.hist(res.resid)\n",
    "plt.show()\n",
    "print(format_result(res))\n",
    "\n",
    "mod = smf.ols(formula=\"falcine_mlmin ~ age_at_scan_weeks +embo\", data=T) # And embo is not significant (Does that make sense?)\n",
    "res = mod.fit()\n",
    "print(res.summary())\n",
    "plt.hist(res.resid)\n",
    "plt.show()\n",
    "print(format_result(res))"
   ]
  },
  {
   "cell_type": "code",
   "execution_count": 13,
   "id": "aab46ea0-536d-45ef-819c-b08160f97ac2",
   "metadata": {},
   "outputs": [
    {
     "data": {
      "image/png": "[encoded data removed]",
      "text/plain": [
       "<Figure size 432x288 with 1 Axes>"
      ]
     },
     "metadata": {
      "needs_background": "light"
     },
     "output_type": "display_data"
    }
   ],
   "source": [
    "### Figure 2b (raw flow)\n",
    "# Falcince:Inflow versus SS-MD. This is really abnormal\n",
    "# So this is an interesting plot when compared with the normal data that goes from 100ml/min at birth to 550ml/min at 60 weeks (ref: Varela, Liu)\n",
    "# abstract style, all solid\n",
    "# plt.plot(T['SS-MD'], T['falcine']*60, 'ko')\n",
    "\n",
    "# # No red/black for NAR, ALL Black\n",
    "# # No NAR is black\n",
    "# plt.plot(T.loc[(T['embo']==0) , 'SS-MD'], T.loc[(T['embo']==0) , 'falcine']*60, 'ko', fillstyle='none',)\n",
    "# plt.plot(T.loc[(T['embo']==1) , 'SS-MD'], T.loc[(T['embo']==1) , 'falcine']*60, 'ko')\n",
    "\n",
    "# No NAR is black\n",
    "plt.plot(T.loc[(T['embo']==0) & (T['NAR']==0), 'SS-MD'], T.loc[(T['embo']==0) & (T['NAR']==0), 'falcine']*60, 'ko', fillstyle='none',)\n",
    "plt.plot(T.loc[(T['embo']==1) & (T['NAR']==0), 'SS-MD'], T.loc[(T['embo']==1) & (T['NAR']==0), 'falcine']*60, 'ko')\n",
    "# NAR is red\n",
    "# plt.plot(T.loc[(T['embo']==0) & (T['NAR']==1), 'SS-MD'], T.loc[(T['embo']==0) & (T['NAR']==1), 'falcine']*60, 'ro', fillstyle='none',)\n",
    "# plt.plot(T.loc[(T['embo']==1) & (T['NAR']==1), 'SS-MD'], T.loc[(T['embo']==1) & (T['NAR']==1), 'falcine']*60, 'ro')\n",
    "plt.plot(T.loc[(T['embo']==0) & (T['NAR']==1), 'SS-MD'], T.loc[(T['embo']==0) & (T['NAR']==1), 'falcine']*60, 'ko', fillstyle='none',)\n",
    "plt.plot(T.loc[(T['embo']==1) & (T['NAR']==1), 'SS-MD'], T.loc[(T['embo']==1) & (T['NAR']==1), 'falcine']*60, 'ko')\n",
    "\n",
    "plt.xlabel('mediolateral diameter (mm)', fontsize=18)\n",
    "plt.ylabel('Falcine (ml/min)', fontsize=18)\n",
    "# plt.ylim([0, 300])\n",
    "# plt.xlim([-1, 65])\n",
    "plt.xticks(fontsize=18)\n",
    "plt.yticks(fontsize=18)\n",
    "plt.grid()\n",
    "d = np.polyfit(T['SS-MD'], T['falcine']*60, 1)\n",
    "f = np.poly1d(d)\n",
    "plt.plot(T['SS-MD'], f(T['SS-MD']), 'k-')\n",
    " \n",
    "for i, x in enumerate(T['ID_N']):\n",
    "    if i == 0:\n",
    "        plt.annotate('%i' % x, (T['SS-MD'][i]+.1, (T['falcine'][i]+1)*60))\n",
    "    elif i == 11:\n",
    "        plt.annotate('%i' % x, (T['SS-MD'][i]+.1, (T['falcine'][i]+1)*60))\n",
    "    elif i == 12:\n",
    "        plt.annotate('%i' % x, (T['SS-MD'][i]+.1, (T['falcine'][i]-1)*60))\n",
    "    else:\n",
    "        plt.annotate('%i' % x, (T['SS-MD'][i]+.1, T['falcine'][i]*60))\n",
    "\n",
    "# # M.W. second time point\n",
    "# plt.plot(4.52, 3.8, 'ko', fillstyle='none')\n",
    "# plt.annotate('3', (4.52+0.1, 3.8+0.1))\n",
    "\n",
    "fig = plt.gcf()\n",
    "plt.tight_layout()\n",
    "# fig.savefig('fig2d.png')"
   ]
  },
  {
   "cell_type": "code",
   "execution_count": 14,
   "id": "c0a349b8-2836-4d82-838b-5f22c318f57e",
   "metadata": {},
   "outputs": [
    {
     "name": "stdout",
     "output_type": "stream",
     "text": [
      "                            OLS Regression Results                            \n",
      "==============================================================================\n",
      "Dep. Variable:     falcine_mlmin_root   R-squared:                       0.467\n",
      "Model:                            OLS   Adj. R-squared:                  0.429\n",
      "Method:                 Least Squares   F-statistic:                     12.28\n",
      "Date:                Mon, 23 Oct 2023   Prob (F-statistic):            0.00351\n",
      "Time:                        15:24:06   Log-Likelihood:                -18.061\n",
      "No. Observations:                  16   AIC:                             40.12\n",
      "Df Residuals:                      14   BIC:                             41.67\n",
      "Df Model:                           1                                         \n",
      "Covariance Type:            nonrobust                                         \n",
      "==============================================================================\n",
      "                 coef    std err          t      P>|t|      [0.025      0.975]\n",
      "------------------------------------------------------------------------------\n",
      "Intercept      2.8664      0.547      5.237      0.000       1.692       4.040\n",
      "SSMD           0.3297      0.094      3.504      0.004       0.128       0.532\n",
      "==============================================================================\n",
      "Omnibus:                        2.197   Durbin-Watson:                   2.119\n",
      "Prob(Omnibus):                  0.333   Jarque-Bera (JB):                0.688\n",
      "Skew:                           0.442   Prob(JB):                        0.709\n",
      "Kurtosis:                       3.501   Cond. No.                         16.3\n",
      "==============================================================================\n",
      "\n",
      "Notes:\n",
      "[1] Standard Errors assume that the covariance matrix of the errors is correctly specified.\n"
     ]
    },
    {
     "name": "stderr",
     "output_type": "stream",
     "text": [
      "/home/jeff/virtualenv/jupyterlab3/lib/python3.8/site-packages/scipy/stats/_stats_py.py:1477: UserWarning: kurtosistest only valid for n>=20 ... continuing anyway, n=16\n",
      "  warnings.warn(\"kurtosistest only valid for n>=20 ... continuing \"\n"
     ]
    },
    {
     "data": {
      "image/png": "[encoded data removed]",
      "text/plain": [
       "<Figure size 432x288 with 1 Axes>"
      ]
     },
     "metadata": {
      "needs_background": "light"
     },
     "output_type": "display_data"
    },
    {
     "name": "stdout",
     "output_type": "stream",
     "text": [
      "Intercept: 2.87 [1.69, 4.04] P=0.000\n",
      "SSMD: 0.33 [0.13, 0.53] P=0.004\n",
      "W=0.96, P=0.575\n",
      "                            OLS Regression Results                            \n",
      "==============================================================================\n",
      "Dep. Variable:     falcine_mlmin_root   R-squared:                       0.680\n",
      "Model:                            OLS   Adj. R-squared:                  0.631\n",
      "Method:                 Least Squares   F-statistic:                     13.80\n",
      "Date:                Mon, 23 Oct 2023   Prob (F-statistic):           0.000610\n",
      "Time:                        15:24:06   Log-Likelihood:                -13.987\n",
      "No. Observations:                  16   AIC:                             33.97\n",
      "Df Residuals:                      13   BIC:                             36.29\n",
      "Df Model:                           2                                         \n",
      "Covariance Type:            nonrobust                                         \n",
      "==============================================================================\n",
      "                 coef    std err          t      P>|t|      [0.025      0.975]\n",
      "------------------------------------------------------------------------------\n",
      "Intercept      3.3639      0.472      7.130      0.000       2.345       4.383\n",
      "SSMD           0.3251      0.076      4.294      0.001       0.162       0.489\n",
      "embo          -0.9454      0.322     -2.938      0.012      -1.641      -0.250\n",
      "==============================================================================\n",
      "Omnibus:                        0.467   Durbin-Watson:                   2.050\n",
      "Prob(Omnibus):                  0.792   Jarque-Bera (JB):                0.351\n",
      "Skew:                           0.314   Prob(JB):                        0.839\n",
      "Kurtosis:                       2.639   Cond. No.                         18.3\n",
      "==============================================================================\n",
      "\n",
      "Notes:\n",
      "[1] Standard Errors assume that the covariance matrix of the errors is correctly specified.\n"
     ]
    },
    {
     "name": "stderr",
     "output_type": "stream",
     "text": [
      "/home/jeff/virtualenv/jupyterlab3/lib/python3.8/site-packages/scipy/stats/_stats_py.py:1477: UserWarning: kurtosistest only valid for n>=20 ... continuing anyway, n=16\n",
      "  warnings.warn(\"kurtosistest only valid for n>=20 ... continuing \"\n"
     ]
    },
    {
     "data": {
      "image/png": "[encoded data removed]",
      "text/plain": [
       "<Figure size 432x288 with 1 Axes>"
      ]
     },
     "metadata": {
      "needs_background": "light"
     },
     "output_type": "display_data"
    },
    {
     "name": "stderr",
     "output_type": "stream",
     "text": [
      "/home/jeff/virtualenv/jupyterlab3/lib/python3.8/site-packages/scipy/stats/_stats_py.py:1477: UserWarning: kurtosistest only valid for n>=20 ... continuing anyway, n=16\n",
      "  warnings.warn(\"kurtosistest only valid for n>=20 ... continuing \"\n"
     ]
    },
    {
     "name": "stdout",
     "output_type": "stream",
     "text": [
      "Intercept: 3.36 [2.34, 4.38] P=0.000\n",
      "SSMD: 0.33 [0.16, 0.49] P=0.001\n",
      "embo: -0.95 [-1.64, -0.25] P=0.012\n",
      "W=0.98, P=0.920\n",
      "                            OLS Regression Results                            \n",
      "==============================================================================\n",
      "Dep. Variable:     falcine_mlmin_root   R-squared:                       0.691\n",
      "Model:                            OLS   Adj. R-squared:                  0.614\n",
      "Method:                 Least Squares   F-statistic:                     8.947\n",
      "Date:                Mon, 23 Oct 2023   Prob (F-statistic):            0.00219\n",
      "Time:                        15:24:06   Log-Likelihood:                -13.701\n",
      "No. Observations:                  16   AIC:                             35.40\n",
      "Df Residuals:                      12   BIC:                             38.49\n",
      "Df Model:                           3                                         \n",
      "Covariance Type:            nonrobust                                         \n",
      "==============================================================================\n",
      "                 coef    std err          t      P>|t|      [0.025      0.975]\n",
      "------------------------------------------------------------------------------\n",
      "Intercept      3.4384      0.495      6.941      0.000       2.359       4.518\n",
      "SSMD           0.2967      0.089      3.350      0.006       0.104       0.490\n",
      "embo          -0.9076      0.334     -2.718      0.019      -1.635      -0.180\n",
      "NAR            0.3225      0.488      0.660      0.522      -0.742       1.387\n",
      "==============================================================================\n",
      "Omnibus:                        0.278   Durbin-Watson:                   2.016\n",
      "Prob(Omnibus):                  0.870   Jarque-Bera (JB):                0.444\n",
      "Skew:                           0.071   Prob(JB):                        0.801\n",
      "Kurtosis:                       2.196   Cond. No.                         19.9\n",
      "==============================================================================\n",
      "\n",
      "Notes:\n",
      "[1] Standard Errors assume that the covariance matrix of the errors is correctly specified.\n"
     ]
    },
    {
     "data": {
      "image/png": "[encoded data removed]",
      "text/plain": [
       "<Figure size 432x288 with 1 Axes>"
      ]
     },
     "metadata": {
      "needs_background": "light"
     },
     "output_type": "display_data"
    },
    {
     "name": "stdout",
     "output_type": "stream",
     "text": [
      "Intercept: 3.44 [2.36, 4.52] P=0.000\n",
      "SSMD: 0.30 [0.10, 0.49] P=0.006\n",
      "embo: -0.91 [-1.64, -0.18] P=0.019\n",
      "NAR: 0.32 [-0.74, 1.39] P=0.522\n",
      "W=0.97, P=0.778\n"
     ]
    }
   ],
   "source": [
    "# Falcine models\n",
    "# fourth root\n",
    "\n",
    "# Helper function to format the statmodels output for direct copy into the results table\n",
    "def format_result(result):\n",
    "    output = \"\"\n",
    "    for name in result.model.exog_names:\n",
    "        coef = result.params.loc[name] # Get the coefficient estimate\n",
    "        lower = result.conf_int().loc[name, 0] # Get the lower limit of the confidence interval\n",
    "        upper = result.conf_int().loc[name, 1] # Get the upper limit of the confidence interval\n",
    "        pvalue = result.pvalues.loc[name] # Get the p-value\n",
    "        # Format the output as \"name: coef [lower, upper] pvalue =\"\n",
    "        output += f\"{name}: {coef:.2f} [{lower:.2f}, {upper:.2f}] P={pvalue:.3f}\\n\"\n",
    "    SW = scipy.stats.shapiro(result.resid)\n",
    "    output += f\"W={SW.statistic:.2f}, P={SW.pvalue:.3f}\"\n",
    "    return output\n",
    "\n",
    "\n",
    "T['falcine_mlmin_root'] = (T['falcine'] * 60) ** (1/4)\n",
    "\n",
    "mod = smf.ols(formula=\"falcine_mlmin_root ~ SSMD\", data=T) # And embo is not significant (Does that make sense?)\n",
    "res = mod.fit()\n",
    "print(res.summary())\n",
    "plt.hist(res.resid)\n",
    "plt.show()\n",
    "print(format_result(res))\n",
    "\n",
    "mod = smf.ols(formula=\"falcine_mlmin_root ~ SSMD + embo\", data=T) # And embo is not significant (Does that make sense?)\n",
    "res = mod.fit()\n",
    "print(res.summary())\n",
    "plt.hist(res.resid)\n",
    "plt.show()\n",
    "print(format_result(res))\n",
    "\n",
    "mod = smf.ols(formula=\"falcine_mlmin_root ~ SSMD + embo + NAR\", data=T) # And embo is not significant (Does that make sense?)\n",
    "res = mod.fit()\n",
    "print(res.summary())\n",
    "plt.hist(res.resid)\n",
    "plt.show()\n",
    "print(format_result(res))"
   ]
  },
  {
   "cell_type": "code",
   "execution_count": 30,
   "id": "4d2e52c0-67f2-4184-9dd7-75f4cb8394d6",
   "metadata": {},
   "outputs": [
    {
     "data": {
      "image/png": "[encoded data removed]",
      "text/plain": [
       "<Figure size 432x288 with 1 Axes>"
      ]
     },
     "metadata": {
      "needs_background": "light"
     },
     "output_type": "display_data"
    }
   ],
   "source": [
    "### Figure 2b\n",
    "# Falcince:Inflow versus SS-MD. This is really abnormal\n",
    "# So this is an interesting plot when compared with the normal data that goes from 100ml/min at birth to 550ml/min at 60 weeks (ref: Varela, Liu)\n",
    "# abstract style, all solid\n",
    "# plt.plot(T['SS-MD'], T['falcine']*60, 'ko')\n",
    "\n",
    "# # No red/black for NAR, ALL Black\n",
    "# # No NAR is black\n",
    "# plt.plot(T.loc[(T['embo']==0) , 'SS-MD'], T.loc[(T['embo']==0) , 'falcine']*60, 'ko', fillstyle='none',)\n",
    "# plt.plot(T.loc[(T['embo']==1) , 'SS-MD'], T.loc[(T['embo']==1) , 'falcine']*60, 'ko')\n",
    "\n",
    "# No NAR is black\n",
    "plt.plot(T.loc[(T['embo']==0) & (T['NAR']==0), 'SS-MD'], T.loc[(T['embo']==0) & (T['NAR']==0), 'falcine_mlmin_root'], 'ko', fillstyle='none',)\n",
    "plt.plot(T.loc[(T['embo']==1) & (T['NAR']==0), 'SS-MD'], T.loc[(T['embo']==1) & (T['NAR']==0), 'falcine_mlmin_root'], 'ko')\n",
    "# NAR is red\n",
    "# plt.plot(T.loc[(T['embo']==0) & (T['NAR']==1), 'SS-MD'], T.loc[(T['embo']==0) & (T['NAR']==1), 'falcine']*60, 'ro', fillstyle='none',)\n",
    "# plt.plot(T.loc[(T['embo']==1) & (T['NAR']==1), 'SS-MD'], T.loc[(T['embo']==1) & (T['NAR']==1), 'falcine']*60, 'ro')\n",
    "plt.plot(T.loc[(T['embo']==0) & (T['NAR']==1), 'SS-MD'], T.loc[(T['embo']==0) & (T['NAR']==1), 'falcine_mlmin_root'], 'ko', fillstyle='none',)\n",
    "plt.plot(T.loc[(T['embo']==1) & (T['NAR']==1), 'SS-MD'], T.loc[(T['embo']==1) & (T['NAR']==1), 'falcine_mlmin_root'], 'ko')\n",
    "\n",
    "plt.xlabel('mediolateral diameter (mm)', fontsize=18)\n",
    "plt.ylabel('\\u221C(Falcine flow ml/min)', fontsize=18)\n",
    "# plt.ylim([0, 300])\n",
    "# plt.xlim([-1, 65])\n",
    "plt.xticks(fontsize=18)\n",
    "plt.yticks(fontsize=18)\n",
    "plt.grid()\n",
    "d = np.polyfit(T['SS-MD'], T['falcine_mlmin_root'], 1)\n",
    "f = np.poly1d(d)\n",
    "plt.plot(T['SS-MD'], f(T['SS-MD']), 'k-')\n",
    " \n",
    "for i, x in enumerate(T['ID_N']):\n",
    "    if i == 0:\n",
    "        plt.annotate('%i' % x, (T['SS-MD'][i]+.1, (T['falcine_mlmin_root'][i])))\n",
    "    elif i == 11:\n",
    "        plt.annotate('%i' % x, (T['SS-MD'][i]+.1, (T['falcine_mlmin_root'][i])))\n",
    "    elif i == 12:\n",
    "        plt.annotate('%i' % x, (T['SS-MD'][i]+.1, (T['falcine_mlmin_root'][i])))\n",
    "    else:\n",
    "        plt.annotate('%i' % x, (T['SS-MD'][i]+.1, T['falcine_mlmin_root'][i]))\n",
    "\n",
    "# # M.W. second time point\n",
    "# plt.plot(4.52, 3.8, 'ko', fillstyle='none')\n",
    "# plt.annotate('3', (4.52+0.1, 3.8+0.1))\n",
    "\n",
    "fig = plt.gcf()\n",
    "plt.tight_layout()\n",
    "fig.savefig('fig2b.png')"
   ]
  },
  {
   "cell_type": "code",
   "execution_count": 27,
   "id": "92ca3ab1-23b2-4471-8e42-688f84715029",
   "metadata": {},
   "outputs": [
    {
     "name": "stdout",
     "output_type": "stream",
     "text": [
      "                            OLS Regression Results                            \n",
      "==============================================================================\n",
      "Dep. Variable:          cortical_flow   R-squared:                       0.191\n",
      "Model:                            OLS   Adj. R-squared:                  0.133\n",
      "Method:                 Least Squares   F-statistic:                     3.303\n",
      "Date:                Mon, 23 Oct 2023   Prob (F-statistic):             0.0906\n",
      "Time:                        15:39:04   Log-Likelihood:                -107.00\n",
      "No. Observations:                  16   AIC:                             218.0\n",
      "Df Residuals:                      14   BIC:                             219.5\n",
      "Df Model:                           1                                         \n",
      "Covariance Type:            nonrobust                                         \n",
      "=====================================================================================\n",
      "                        coef    std err          t      P>|t|      [0.025      0.975]\n",
      "-------------------------------------------------------------------------------------\n",
      "Intercept           357.8714     86.898      4.118      0.001     171.493     544.250\n",
      "age_at_scan_weeks     5.3062      2.920      1.817      0.091      -0.956      11.568\n",
      "==============================================================================\n",
      "Omnibus:                        2.539   Durbin-Watson:                   1.854\n",
      "Prob(Omnibus):                  0.281   Jarque-Bera (JB):                1.973\n",
      "Skew:                           0.766   Prob(JB):                        0.373\n",
      "Kurtosis:                       2.217   Cond. No.                         49.9\n",
      "==============================================================================\n",
      "\n",
      "Notes:\n",
      "[1] Standard Errors assume that the covariance matrix of the errors is correctly specified.\n"
     ]
    },
    {
     "name": "stderr",
     "output_type": "stream",
     "text": [
      "/home/jeff/virtualenv/jupyterlab3/lib/python3.8/site-packages/scipy/stats/_stats_py.py:1477: UserWarning: kurtosistest only valid for n>=20 ... continuing anyway, n=16\n",
      "  warnings.warn(\"kurtosistest only valid for n>=20 ... continuing \"\n"
     ]
    },
    {
     "data": {
      "image/png": "[encoded data removed]",
      "text/plain": [
       "<Figure size 432x288 with 1 Axes>"
      ]
     },
     "metadata": {
      "needs_background": "light"
     },
     "output_type": "display_data"
    },
    {
     "name": "stdout",
     "output_type": "stream",
     "text": [
      "Intercept: 357.87 [171.49, 544.25] P=0.001\n",
      "age_at_scan_weeks: 5.31 [-0.96, 11.57] P=0.091\n",
      "W=0.87, P=0.032\n",
      "                            OLS Regression Results                            \n",
      "==============================================================================\n",
      "Dep. Variable:          cortical_flow   R-squared:                       0.201\n",
      "Model:                            OLS   Adj. R-squared:                  0.078\n",
      "Method:                 Least Squares   F-statistic:                     1.634\n",
      "Date:                Mon, 23 Oct 2023   Prob (F-statistic):              0.233\n",
      "Time:                        15:39:05   Log-Likelihood:                -106.90\n",
      "No. Observations:                  16   AIC:                             219.8\n",
      "Df Residuals:                      13   BIC:                             222.1\n",
      "Df Model:                           2                                         \n",
      "Covariance Type:            nonrobust                                         \n",
      "=====================================================================================\n",
      "                        coef    std err          t      P>|t|      [0.025      0.975]\n",
      "-------------------------------------------------------------------------------------\n",
      "Intercept           336.7329    103.840      3.243      0.006     112.400     561.066\n",
      "age_at_scan_weeks     5.2883      3.011      1.756      0.103      -1.217      11.794\n",
      "embo                 43.1310    107.018      0.403      0.693    -188.067     274.329\n",
      "==============================================================================\n",
      "Omnibus:                        2.646   Durbin-Watson:                   1.895\n",
      "Prob(Omnibus):                  0.266   Jarque-Bera (JB):                2.058\n",
      "Skew:                           0.804   Prob(JB):                        0.357\n",
      "Kurtosis:                       2.290   Cond. No.                         72.0\n",
      "==============================================================================\n",
      "\n",
      "Notes:\n",
      "[1] Standard Errors assume that the covariance matrix of the errors is correctly specified.\n"
     ]
    },
    {
     "name": "stderr",
     "output_type": "stream",
     "text": [
      "/home/jeff/virtualenv/jupyterlab3/lib/python3.8/site-packages/scipy/stats/_stats_py.py:1477: UserWarning: kurtosistest only valid for n>=20 ... continuing anyway, n=16\n",
      "  warnings.warn(\"kurtosistest only valid for n>=20 ... continuing \"\n"
     ]
    },
    {
     "data": {
      "image/png": "[encoded data removed]",
      "text/plain": [
       "<Figure size 432x288 with 1 Axes>"
      ]
     },
     "metadata": {
      "needs_background": "light"
     },
     "output_type": "display_data"
    },
    {
     "name": "stderr",
     "output_type": "stream",
     "text": [
      "/home/jeff/virtualenv/jupyterlab3/lib/python3.8/site-packages/scipy/stats/_stats_py.py:1477: UserWarning: kurtosistest only valid for n>=20 ... continuing anyway, n=16\n",
      "  warnings.warn(\"kurtosistest only valid for n>=20 ... continuing \"\n"
     ]
    },
    {
     "name": "stdout",
     "output_type": "stream",
     "text": [
      "Intercept: 336.73 [112.40, 561.07] P=0.006\n",
      "age_at_scan_weeks: 5.29 [-1.22, 11.79] P=0.103\n",
      "embo: 43.13 [-188.07, 274.33] P=0.693\n",
      "W=0.86, P=0.019\n",
      "                            OLS Regression Results                            \n",
      "==============================================================================\n",
      "Dep. Variable:          cortical_flow   R-squared:                       0.350\n",
      "Model:                            OLS   Adj. R-squared:                  0.187\n",
      "Method:                 Least Squares   F-statistic:                     2.151\n",
      "Date:                Mon, 23 Oct 2023   Prob (F-statistic):              0.147\n",
      "Time:                        15:39:05   Log-Likelihood:                -105.25\n",
      "No. Observations:                  16   AIC:                             218.5\n",
      "Df Residuals:                      12   BIC:                             221.6\n",
      "Df Model:                           3                                         \n",
      "Covariance Type:            nonrobust                                         \n",
      "=====================================================================================\n",
      "                        coef    std err          t      P>|t|      [0.025      0.975]\n",
      "-------------------------------------------------------------------------------------\n",
      "Intercept           499.9858    138.602      3.607      0.004     197.998     801.973\n",
      "age_at_scan_weeks     1.3604      3.689      0.369      0.719      -6.678       9.399\n",
      "embo                  9.9428    102.458      0.097      0.924    -213.294     233.180\n",
      "NAR                -281.9586    170.143     -1.657      0.123    -652.668      88.750\n",
      "==============================================================================\n",
      "Omnibus:                        0.745   Durbin-Watson:                   1.625\n",
      "Prob(Omnibus):                  0.689   Jarque-Bera (JB):                0.716\n",
      "Skew:                           0.409   Prob(JB):                        0.699\n",
      "Kurtosis:                       2.363   Cond. No.                         123.\n",
      "==============================================================================\n",
      "\n",
      "Notes:\n",
      "[1] Standard Errors assume that the covariance matrix of the errors is correctly specified.\n"
     ]
    },
    {
     "data": {
      "image/png": "[encoded data removed]",
      "text/plain": [
       "<Figure size 432x288 with 1 Axes>"
      ]
     },
     "metadata": {
      "needs_background": "light"
     },
     "output_type": "display_data"
    },
    {
     "name": "stdout",
     "output_type": "stream",
     "text": [
      "Intercept: 499.99 [198.00, 801.97] P=0.004\n",
      "age_at_scan_weeks: 1.36 [-6.68, 9.40] P=0.719\n",
      "embo: 9.94 [-213.29, 233.18] P=0.924\n",
      "NAR: -281.96 [-652.67, 88.75] P=0.123\n",
      "W=0.96, P=0.623\n"
     ]
    }
   ],
   "source": [
    "## A bit more about cortical flow:\n",
    "mod = smf.ols(formula=\"cortical_flow ~ age_at_scan_weeks\", data=T)\n",
    "res = mod.fit()\n",
    "print(res.summary())\n",
    "plt.hist(res.resid)\n",
    "plt.show()\n",
    "print(format_result(res))\n",
    "\n",
    "\n",
    "mod = smf.ols(formula=\"cortical_flow ~ age_at_scan_weeks + embo\", data=T)\n",
    "res = mod.fit()\n",
    "print(res.summary())\n",
    "plt.hist(res.resid)\n",
    "plt.show()\n",
    "print(format_result(res))\n",
    "\n",
    "mod = smf.ols(formula=\"cortical_flow ~ age_at_scan_weeks + embo + NAR\", data=T)\n",
    "res = mod.fit()\n",
    "print(res.summary())\n",
    "plt.hist(res.resid)\n",
    "plt.show()\n",
    "print(format_result(res))"
   ]
  },
  {
   "cell_type": "code",
   "execution_count": 17,
   "id": "15673494-9849-41f2-bd8b-9d6bb8770afe",
   "metadata": {},
   "outputs": [
    {
     "name": "stderr",
     "output_type": "stream",
     "text": [
      "/home/jeff/virtualenv/jupyterlab3/lib/python3.8/site-packages/scipy/stats/_stats_py.py:1477: UserWarning: kurtosistest only valid for n>=20 ... continuing anyway, n=15\n",
      "  warnings.warn(\"kurtosistest only valid for n>=20 ... continuing \"\n"
     ]
    },
    {
     "name": "stdout",
     "output_type": "stream",
     "text": [
      "                            OLS Regression Results                            \n",
      "==============================================================================\n",
      "Dep. Variable:              SSS_mlmin   R-squared:                       0.467\n",
      "Model:                            OLS   Adj. R-squared:                  0.426\n",
      "Method:                 Least Squares   F-statistic:                     11.38\n",
      "Date:                Mon, 23 Oct 2023   Prob (F-statistic):            0.00499\n",
      "Time:                        15:24:06   Log-Likelihood:                -84.530\n",
      "No. Observations:                  15   AIC:                             173.1\n",
      "Df Residuals:                      13   BIC:                             174.5\n",
      "Df Model:                           1                                         \n",
      "Covariance Type:            nonrobust                                         \n",
      "=====================================================================================\n",
      "                        coef    std err          t      P>|t|      [0.025      0.975]\n",
      "-------------------------------------------------------------------------------------\n",
      "Intercept            26.3734     30.608      0.862      0.404     -39.751      92.497\n",
      "age_at_scan_weeks     3.6169      1.072      3.373      0.005       1.300       5.934\n",
      "==============================================================================\n",
      "Omnibus:                        0.514   Durbin-Watson:                   1.208\n",
      "Prob(Omnibus):                  0.773   Jarque-Bera (JB):                0.560\n",
      "Skew:                           0.136   Prob(JB):                        0.756\n",
      "Kurtosis:                       2.093   Cond. No.                         46.5\n",
      "==============================================================================\n",
      "\n",
      "Notes:\n",
      "[1] Standard Errors assume that the covariance matrix of the errors is correctly specified.\n"
     ]
    },
    {
     "data": {
      "image/png": "[encoded data removed]",
      "text/plain": [
       "<Figure size 432x288 with 1 Axes>"
      ]
     },
     "metadata": {
      "needs_background": "light"
     },
     "output_type": "display_data"
    },
    {
     "name": "stdout",
     "output_type": "stream",
     "text": [
      "Intercept: 26.37 [-39.75, 92.50] P=0.404\n",
      "age_at_scan_weeks: 3.62 [1.30, 5.93] P=0.005\n",
      "W=0.95, P=0.527\n",
      "                            OLS Regression Results                            \n",
      "==============================================================================\n",
      "Dep. Variable:              SSS_mlmin   R-squared:                       0.478\n",
      "Model:                            OLS   Adj. R-squared:                  0.391\n",
      "Method:                 Least Squares   F-statistic:                     5.494\n",
      "Date:                Mon, 23 Oct 2023   Prob (F-statistic):             0.0202\n",
      "Time:                        15:24:06   Log-Likelihood:                -84.370\n",
      "No. Observations:                  15   AIC:                             174.7\n",
      "Df Residuals:                      12   BIC:                             176.9\n",
      "Df Model:                           2                                         \n",
      "Covariance Type:            nonrobust                                         \n",
      "=====================================================================================\n",
      "                        coef    std err          t      P>|t|      [0.025      0.975]\n",
      "-------------------------------------------------------------------------------------\n",
      "Intercept            16.2941     37.229      0.438      0.669     -64.822      97.410\n",
      "age_at_scan_weeks     3.6544      1.107      3.302      0.006       1.243       6.066\n",
      "embo                 19.7875     38.896      0.509      0.620     -64.960     104.535\n",
      "==============================================================================\n",
      "Omnibus:                        0.386   Durbin-Watson:                   1.195\n",
      "Prob(Omnibus):                  0.825   Jarque-Bera (JB):                0.492\n",
      "Skew:                           0.025   Prob(JB):                        0.782\n",
      "Kurtosis:                       2.114   Cond. No.                         69.5\n",
      "==============================================================================\n",
      "\n",
      "Notes:\n",
      "[1] Standard Errors assume that the covariance matrix of the errors is correctly specified.\n"
     ]
    },
    {
     "name": "stderr",
     "output_type": "stream",
     "text": [
      "/home/jeff/virtualenv/jupyterlab3/lib/python3.8/site-packages/scipy/stats/_stats_py.py:1477: UserWarning: kurtosistest only valid for n>=20 ... continuing anyway, n=15\n",
      "  warnings.warn(\"kurtosistest only valid for n>=20 ... continuing \"\n"
     ]
    },
    {
     "data": {
      "image/png": "[encoded data removed]",
      "text/plain": [
       "<Figure size 432x288 with 1 Axes>"
      ]
     },
     "metadata": {
      "needs_background": "light"
     },
     "output_type": "display_data"
    },
    {
     "name": "stdout",
     "output_type": "stream",
     "text": [
      "Intercept: 16.29 [-64.82, 97.41] P=0.669\n",
      "age_at_scan_weeks: 3.65 [1.24, 6.07] P=0.006\n",
      "embo: 19.79 [-64.96, 104.53] P=0.620\n",
      "W=0.97, P=0.782\n",
      "                            OLS Regression Results                            \n",
      "==============================================================================\n",
      "Dep. Variable:              SSS_mlmin   R-squared:                       0.479\n",
      "Model:                            OLS   Adj. R-squared:                  0.336\n",
      "Method:                 Least Squares   F-statistic:                     3.366\n",
      "Date:                Mon, 23 Oct 2023   Prob (F-statistic):             0.0586\n",
      "Time:                        15:24:06   Log-Likelihood:                -84.361\n",
      "No. Observations:                  15   AIC:                             176.7\n",
      "Df Residuals:                      11   BIC:                             179.6\n",
      "Df Model:                           3                                         \n",
      "Covariance Type:            nonrobust                                         \n",
      "=====================================================================================\n",
      "                        coef    std err          t      P>|t|      [0.025      0.975]\n",
      "-------------------------------------------------------------------------------------\n",
      "Intercept            20.9171     55.779      0.375      0.715    -101.852     143.686\n",
      "age_at_scan_weeks     3.5406      1.518      2.332      0.040       0.199       6.882\n",
      "embo                 18.6916     41.694      0.448      0.663     -73.077     110.460\n",
      "NAR                  -7.7410     67.001     -0.116      0.910    -155.210     139.728\n",
      "==============================================================================\n",
      "Omnibus:                        0.531   Durbin-Watson:                   1.211\n",
      "Prob(Omnibus):                  0.767   Jarque-Bera (JB):                0.552\n",
      "Skew:                           0.005   Prob(JB):                        0.759\n",
      "Kurtosis:                       2.060   Cond. No.                         117.\n",
      "==============================================================================\n",
      "\n",
      "Notes:\n",
      "[1] Standard Errors assume that the covariance matrix of the errors is correctly specified.\n"
     ]
    },
    {
     "name": "stderr",
     "output_type": "stream",
     "text": [
      "/home/jeff/virtualenv/jupyterlab3/lib/python3.8/site-packages/scipy/stats/_stats_py.py:1477: UserWarning: kurtosistest only valid for n>=20 ... continuing anyway, n=15\n",
      "  warnings.warn(\"kurtosistest only valid for n>=20 ... continuing \"\n"
     ]
    },
    {
     "data": {
      "image/png": "[encoded data removed]",
      "text/plain": [
       "<Figure size 432x288 with 1 Axes>"
      ]
     },
     "metadata": {
      "needs_background": "light"
     },
     "output_type": "display_data"
    },
    {
     "name": "stdout",
     "output_type": "stream",
     "text": [
      "Intercept: 20.92 [-101.85, 143.69] P=0.715\n",
      "age_at_scan_weeks: 3.54 [0.20, 6.88] P=0.040\n",
      "embo: 18.69 [-73.08, 110.46] P=0.663\n",
      "NAR: -7.74 [-155.21, 139.73] P=0.910\n",
      "W=0.96, P=0.733\n"
     ]
    }
   ],
   "source": [
    "## SSS \n",
    "mod = smf.ols(formula=\"SSS_mlmin ~ age_at_scan_weeks\", data=T) # And embo is not significant (Does that make sense?)\n",
    "res = mod.fit()\n",
    "print(res.summary())\n",
    "plt.hist(res.resid)\n",
    "plt.show()\n",
    "print(format_result(res))\n",
    "\n",
    "## So relating falcine flow to SSMD including a categorical effect of embolizaiton works really well without Labady, and with him still looks alright\n",
    "mod = smf.ols(formula=\"SSS_mlmin ~ age_at_scan_weeks + embo\", data=T) # And embo is not significant (Does that make sense?)\n",
    "res = mod.fit()\n",
    "print(res.summary())\n",
    "plt.hist(res.resid)\n",
    "plt.show()\n",
    "print(format_result(res))\n",
    "\n",
    "## Probably a stretch, but nearly significant\n",
    "mod = smf.ols(formula=\"SSS_mlmin ~ age_at_scan_weeks + embo + NAR\", data=T) # And embo is not significant (Does that make sense?)\n",
    "res = mod.fit()\n",
    "print(res.summary())\n",
    "plt.hist(res.resid)\n",
    "plt.show()\n",
    "print(format_result(res))\n",
    "\n"
   ]
  },
  {
   "cell_type": "code",
   "execution_count": 18,
   "id": "78bdfc93-6ba3-49ed-b8ac-b19f1e2dd759",
   "metadata": {},
   "outputs": [],
   "source": [
    "## I would really like to know how the MCA/PCA ratio looks"
   ]
  },
  {
   "cell_type": "code",
   "execution_count": 19,
   "id": "0f6dbd36-03b2-4ba3-afcd-e0abdd9ef52f",
   "metadata": {},
   "outputs": [],
   "source": [
    "# Now that you have PCA flows, calc the ratio\n",
    "T.keys()\n",
    "T['R_PCAMCA'] = T['RPCA'] / T['RMCA']\n",
    "T['L_PCAMCA'] = T['LPCA'] / T['LMCA']"
   ]
  },
  {
   "cell_type": "code",
   "execution_count": 20,
   "id": "35b0f367-a92b-47e7-ad92-af3bf4332a74",
   "metadata": {},
   "outputs": [
    {
     "data": {
      "image/png": "[encoded data removed]",
      "text/plain": [
       "<Figure size 432x288 with 1 Axes>"
      ]
     },
     "metadata": {
      "needs_background": "light"
     },
     "output_type": "display_data"
    }
   ],
   "source": [
    "## RPCMCA versus GA. \n",
    "\n",
    "# plt.plot(T['age_at_scan_weeks'], T['SSS']*60, 'ko')\n",
    "plt.plot(T.loc[T['embo']==0, 'age_at_scan_weeks'], T.loc[T['embo']==0, 'R_PCAMCA'], 'ko', fillstyle='none',)\n",
    "plt.plot(T.loc[T['embo']==1, 'age_at_scan_weeks'], T.loc[T['embo']==1, 'R_PCAMCA'], 'ko')\n",
    "plt.xlabel('Age at scan (weeks)', fontsize=18)\n",
    "plt.ylabel('right PCA/MCA', fontsize=18)\n",
    "plt.ylim([0, 16])\n",
    "plt.xlim([-1, 65])\n",
    "plt.xticks(fontsize=18)\n",
    "plt.yticks(fontsize=18)\n",
    "plt.grid()\n",
    "\n",
    "# # Trendline\n",
    "# T_nan = T.dropna(subset=['SSS']) # This wasn't plotting, becasue of nan in the SSS column\n",
    "# d = np.polyfit(T_nan['age_at_scan_weeks'], T_nan['SSS_mlmin'], 1)\n",
    "# f = np.poly1d(d)\n",
    "# plot_x = [np.min(T_nan['age_at_scan_weeks']), np.max(T_nan['age_at_scan_weeks'])]\n",
    "# plt.plot(plot_x, f(plot_x), 'k-')\n",
    "\n",
    "# ax = plt.gca()\n",
    "# # ax.axhspan(100, 550, xmin=0, xmax=1, alpha=0.2, color='black')\n",
    "\n",
    "# for i, x in enumerate(T['SS-MD']):\n",
    "#     plt.annotate('%i' % (i+1), (T['age_at_scan_weeks'][i]+1, (T['SSS'][i]+0.1)*60))\n",
    "for i, x in enumerate(T['ID_N']):\n",
    "    if i == 1: # move it down a bit\n",
    "        plt.annotate('%i' % x, (T['age_at_scan_weeks'][i]+1, T['R_PCAMCA'][i] + 0.4))\n",
    "    elif i == 4: # move it down a bit\n",
    "        plt.annotate('%i' % x, (T['age_at_scan_weeks'][i]+1, T['R_PCAMCA'][i] - 0.4))\n",
    "    else:\n",
    "        plt.annotate('%i' % x, (T['age_at_scan_weeks'][i]+1, T['R_PCAMCA'][i]))\n",
    "\n",
    "# # SSS from Can Wu\n",
    "# sss_data = pd.read_excel('Vessel Blood Flow Can Wu 2017.xlsx', header=3)\n",
    "# # plt.plot(52 * sss_data.loc[sss_data['Age [Y]']<1.6, 'Age [Y]'], 60 * sss_data.loc[sss_data['Age [Y]']<1.6, 'SSS'], 'kx')\n",
    "# # plt.xlim([-1, 70])\n",
    "# plt.ylim([-20, 450])\n",
    "# ax.axhspan(np.min(sss_data.loc[sss_data['Age [Y]']<1.6, 'SSS'])*60, np.max(sss_data.loc[sss_data['Age [Y]']<1.6, 'SSS'])*60, alpha=0.2, color='black')\n",
    "        \n",
    "fig = plt.gcf()\n",
    "plt.tight_layout()\n",
    "fig.savefig('fig_rmcamca.png')"
   ]
  },
  {
   "cell_type": "code",
   "execution_count": 21,
   "id": "a9e901e7-c8b2-4187-bd6b-e5ec4c4fc194",
   "metadata": {},
   "outputs": [
    {
     "data": {
      "image/png": "[encoded data removed]",
      "text/plain": [
       "<Figure size 432x288 with 1 Axes>"
      ]
     },
     "metadata": {
      "needs_background": "light"
     },
     "output_type": "display_data"
    }
   ],
   "source": [
    "## LPCMCA versus GA. \n",
    "\n",
    "# plt.plot(T['age_at_scan_weeks'], T['SSS']*60, 'ko')\n",
    "plt.plot(T.loc[T['embo']==0, 'age_at_scan_weeks'], T.loc[T['embo']==0, 'L_PCAMCA'], 'ko', fillstyle='none',)\n",
    "plt.plot(T.loc[T['embo']==1, 'age_at_scan_weeks'], T.loc[T['embo']==1, 'L_PCAMCA'], 'ko')\n",
    "plt.xlabel('Age at scan (weeks)', fontsize=18)\n",
    "plt.ylabel('left PCA/MCA', fontsize=18)\n",
    "plt.ylim([0, 16])\n",
    "plt.xlim([-1, 65])\n",
    "plt.xticks(fontsize=18)\n",
    "plt.yticks(fontsize=18)\n",
    "plt.grid()\n",
    "\n",
    "# # Trendline\n",
    "# T_nan = T.dropna(subset=['SSS']) # This wasn't plotting, becasue of nan in the SSS column\n",
    "# d = np.polyfit(T_nan['age_at_scan_weeks'], T_nan['SSS_mlmin'], 1)\n",
    "# f = np.poly1d(d)\n",
    "# plot_x = [np.min(T_nan['age_at_scan_weeks']), np.max(T_nan['age_at_scan_weeks'])]\n",
    "# plt.plot(plot_x, f(plot_x), 'k-')\n",
    "\n",
    "# ax = plt.gca()\n",
    "# # ax.axhspan(100, 550, xmin=0, xmax=1, alpha=0.2, color='black')\n",
    "\n",
    "# for i, x in enumerate(T['SS-MD']):\n",
    "#     plt.annotate('%i' % (i+1), (T['age_at_scan_weeks'][i]+1, (T['SSS'][i]+0.1)*60))\n",
    "for i, x in enumerate(T['ID_N']):\n",
    "    if i == 11: # move it down a bit\n",
    "        plt.annotate('%i' % x, (T['age_at_scan_weeks'][i]+1, T['L_PCAMCA'][i]-0.5))\n",
    "    elif x == 11 and i == 11:\n",
    "        plt.annotate('%i' % x, (T['age_at_scan_weeks'][i]+1, T['L_PCAMCA'][i]))\n",
    "    else:\n",
    "        plt.annotate('%i' % x, (T['age_at_scan_weeks'][i]+1, T['L_PCAMCA'][i]))\n",
    "\n",
    "# # SSS from Can Wu\n",
    "# sss_data = pd.read_excel('Vessel Blood Flow Can Wu 2017.xlsx', header=3)\n",
    "# # plt.plot(52 * sss_data.loc[sss_data['Age [Y]']<1.6, 'Age [Y]'], 60 * sss_data.loc[sss_data['Age [Y]']<1.6, 'SSS'], 'kx')\n",
    "# # plt.xlim([-1, 70])\n",
    "# plt.ylim([-20, 450])\n",
    "# ax.axhspan(np.min(sss_data.loc[sss_data['Age [Y]']<1.6, 'SSS'])*60, np.max(sss_data.loc[sss_data['Age [Y]']<1.6, 'SSS'])*60, alpha=0.2, color='black')\n",
    "        \n",
    "fig = plt.gcf()\n",
    "plt.tight_layout()\n",
    "fig.savefig('fig_lmcamca.png')"
   ]
  },
  {
   "cell_type": "code",
   "execution_count": 22,
   "id": "f973a38f-0571-4dcb-adf3-6df836b01bf1",
   "metadata": {},
   "outputs": [
    {
     "data": {
      "image/png": "[encoded data removed]",
      "text/plain": [
       "<Figure size 432x288 with 1 Axes>"
      ]
     },
     "metadata": {
      "needs_background": "light"
     },
     "output_type": "display_data"
    }
   ],
   "source": [
    "### PCA/MCA versus time after embo\n",
    "\n",
    "# Falcine versus day of embo.\n",
    "# So this is an interesting plot when compared with Wu et al. 2016\n",
    "\n",
    "T_plot = T.loc[(T['ID_N']==2) | (T['ID_N']==11)].reset_index(drop=True)\n",
    "\n",
    "plt.plot(T_plot.loc[T_plot['embo']==0, 'embo_time_days'], T_plot.loc[T_plot['embo']==0, 'L_PCAMCA'], 'ko', fillstyle='none',)\n",
    "plt.plot(T_plot.loc[T_plot['embo']==1, 'embo_time_days'], T_plot.loc[T_plot['embo']==1, 'L_PCAMCA'], 'ko')\n",
    "\n",
    "plt.xlabel('Time after embolization (days)', fontsize=18)\n",
    "plt.ylabel('left PCA/MCA', fontsize=18)\n",
    "plt.ylim([0, 4])\n",
    "# plt.xlim([-1, 65])\n",
    "plt.xticks(fontsize=18)\n",
    "plt.yticks(fontsize=18)\n",
    "plt.grid(axis=\"both\")\n",
    "\n",
    "ax1 = plt.gca()\n",
    "for i, x in enumerate(T_plot['ID_N']):\n",
    "    ax1.annotate('%i' % x, (T_plot['embo_time_days'][i]+3, (T_plot['L_PCAMCA'][i])))\n",
    "\n",
    "\n",
    "fig = plt.gcf()\n",
    "plt.tight_layout()\n",
    "fig.savefig('fig_embolizationtimeLmcamca.png')"
   ]
  },
  {
   "cell_type": "code",
   "execution_count": 23,
   "id": "0ae0558e-40cb-4e4e-93fe-07a9fbca863d",
   "metadata": {},
   "outputs": [
    {
     "data": {
      "image/png": "[encoded data removed]",
      "text/plain": [
       "<Figure size 432x288 with 1 Axes>"
      ]
     },
     "metadata": {
      "needs_background": "light"
     },
     "output_type": "display_data"
    }
   ],
   "source": [
    "# Falcine versus day of embo.\n",
    "# So this is an interesting plot when compared with Wu et al. 2016\n",
    "\n",
    "T_plot = T.loc[(T['ID_N']==2) | (T['ID_N']==11)].reset_index(drop=True)\n",
    "\n",
    "plt.plot(T_plot.loc[T_plot['embo']==0, 'embo_time_days'], T_plot.loc[T_plot['embo']==0, 'R_PCAMCA'], 'ko', fillstyle='none',)\n",
    "plt.plot(T_plot.loc[T_plot['embo']==1, 'embo_time_days'], T_plot.loc[T_plot['embo']==1, 'R_PCAMCA'], 'ko')\n",
    "\n",
    "plt.xlabel('Time after embolization (days)', fontsize=18)\n",
    "plt.ylabel('right PCA/MCA', fontsize=18)\n",
    "plt.ylim([0, 4])\n",
    "# plt.xlim([-1, 65])\n",
    "plt.xticks(fontsize=18)\n",
    "plt.yticks(fontsize=18)\n",
    "plt.grid(axis=\"both\")\n",
    "\n",
    "ax1 = plt.gca()\n",
    "for i, x in enumerate(T_plot['ID_N']):\n",
    "    ax1.annotate('%i' % x, (T_plot['embo_time_days'][i]+3, (T_plot['R_PCAMCA'][i])))\n",
    "\n",
    "\n",
    "fig = plt.gcf()\n",
    "plt.tight_layout()\n",
    "fig.savefig('fig_embolizationtimeRmcamca.png')"
   ]
  },
  {
   "cell_type": "code",
   "execution_count": 24,
   "id": "dadb4cbf-8bcd-4518-a1f8-e28f29a3f69b",
   "metadata": {},
   "outputs": [
    {
     "data": {
      "image/png": "[encoded data removed]",
      "text/plain": [
       "<Figure size 432x288 with 1 Axes>"
      ]
     },
     "metadata": {
      "needs_background": "light"
     },
     "output_type": "display_data"
    }
   ],
   "source": [
    "## PCA versus GA. \n",
    "\n",
    "# plt.plot(T['age_at_scan_weeks'], T['SSS']*60, 'ko')\n",
    "plt.plot(T.loc[T['embo']==0, 'age_at_scan_weeks'], T.loc[T['embo']==0, 'RPCA']*60, 'ro', fillstyle='none',)\n",
    "plt.plot(T.loc[T['embo']==1, 'age_at_scan_weeks'], T.loc[T['embo']==1, 'RPCA']*60, 'ro')\n",
    "\n",
    "plt.plot(T.loc[T['embo']==0, 'age_at_scan_weeks'], T.loc[T['embo']==0, 'LPCA']*60, 'bo', fillstyle='none',)\n",
    "plt.plot(T.loc[T['embo']==1, 'age_at_scan_weeks'], T.loc[T['embo']==1, 'LPCA']*60, 'bo')\n",
    "\n",
    "plt.xlabel('Age at scan (weeks)', fontsize=18)\n",
    "plt.ylabel('PCA (ml/min)', fontsize=18)\n",
    "# plt.ylim([-20, 300])\n",
    "plt.xlim([-1, 65])\n",
    "plt.xticks(fontsize=18)\n",
    "plt.yticks(fontsize=18)\n",
    "plt.grid()\n",
    "\n",
    "# # Trendline\n",
    "# T_nan = T.dropna(subset=['SSS']) # This wasn't plotting, becasue of nan in the SSS column\n",
    "# d = np.polyfit(T_nan['age_at_scan_weeks'], T_nan['SSS_mlmin'], 1)\n",
    "# f = np.poly1d(d)\n",
    "# plot_x = [np.min(T_nan['age_at_scan_weeks']), np.max(T_nan['age_at_scan_weeks'])]\n",
    "# plt.plot(plot_x, f(plot_x), 'k-')\n",
    "\n",
    "# ax = plt.gca()\n",
    "# # ax.axhspan(100, 550, xmin=0, xmax=1, alpha=0.2, color='black')\n",
    "\n",
    "# # for i, x in enumerate(T['SS-MD']):\n",
    "# #     plt.annotate('%i' % (i+1), (T['age_at_scan_weeks'][i]+1, (T['SSS'][i]+0.1)*60))\n",
    "# for i, x in enumerate(T['ID_N']):\n",
    "#     if i == 11: # move it down a bit\n",
    "#         plt.annotate('%i' % x, (T['age_at_scan_weeks'][i]+1, T['L_PCAMCA'][i]-0.5))\n",
    "#     elif x == 11 and i == 11:\n",
    "#         plt.annotate('%i' % x, (T['age_at_scan_weeks'][i]+1, T['L_PCAMCA'][i]))\n",
    "#     else:\n",
    "#         plt.annotate('%i' % x, (T['age_at_scan_weeks'][i]+1, T['L_PCAMCA'][i]))\n",
    "\n",
    "# # SSS from Can Wu\n",
    "# sss_data = pd.read_excel('Vessel Blood Flow Can Wu 2017.xlsx', header=3)\n",
    "# # plt.plot(52 * sss_data.loc[sss_data['Age [Y]']<1.6, 'Age [Y]'], 60 * sss_data.loc[sss_data['Age [Y]']<1.6, 'SSS'], 'kx')\n",
    "# # plt.xlim([-1, 70])\n",
    "# plt.ylim([-20, 450])\n",
    "# ax.axhspan(np.min(sss_data.loc[sss_data['Age [Y]']<1.6, 'SSS'])*60, np.max(sss_data.loc[sss_data['Age [Y]']<1.6, 'SSS'])*60, alpha=0.2, color='black')\n",
    "        \n",
    "fig = plt.gcf()\n",
    "plt.tight_layout()\n",
    "# fig.savefig('fig_pacaVage.png')"
   ]
  },
  {
   "cell_type": "code",
   "execution_count": 25,
   "id": "d625ac52-5ce0-4bc6-be62-f4e1dd134825",
   "metadata": {},
   "outputs": [
    {
     "data": {
      "image/png": "[encoded data removed]",
      "text/plain": [
       "<Figure size 432x288 with 1 Axes>"
      ]
     },
     "metadata": {
      "needs_background": "light"
     },
     "output_type": "display_data"
    }
   ],
   "source": [
    "## PCA versus GA. \n",
    "\n",
    "# plt.plot(T['age_at_scan_weeks'], T['SSS']*60, 'ko')\n",
    "plt.plot(T.loc[T['embo']==0, 'age_at_scan_weeks'], T.loc[T['embo']==0, 'RMCA']*60, 'ro', fillstyle='none',)\n",
    "plt.plot(T.loc[T['embo']==1, 'age_at_scan_weeks'], T.loc[T['embo']==1, 'RMCA']*60, 'ro')\n",
    "\n",
    "plt.plot(T.loc[T['embo']==0, 'age_at_scan_weeks'], T.loc[T['embo']==0, 'LMCA']*60, 'bo', fillstyle='none',)\n",
    "plt.plot(T.loc[T['embo']==1, 'age_at_scan_weeks'], T.loc[T['embo']==1, 'LMCA']*60, 'bo')\n",
    "\n",
    "plt.xlabel('Age at scan (weeks)', fontsize=18)\n",
    "plt.ylabel('MCA (ml/min)', fontsize=18)\n",
    "# plt.ylim([-20, 300])\n",
    "plt.xlim([-1, 65])\n",
    "plt.xticks(fontsize=18)\n",
    "plt.yticks(fontsize=18)\n",
    "plt.grid()\n",
    "\n",
    "# # Trendline\n",
    "# T_nan = T.dropna(subset=['SSS']) # This wasn't plotting, becasue of nan in the SSS column\n",
    "# d = np.polyfit(T_nan['age_at_scan_weeks'], T_nan['SSS_mlmin'], 1)\n",
    "# f = np.poly1d(d)\n",
    "# plot_x = [np.min(T_nan['age_at_scan_weeks']), np.max(T_nan['age_at_scan_weeks'])]\n",
    "# plt.plot(plot_x, f(plot_x), 'k-')\n",
    "\n",
    "# ax = plt.gca()\n",
    "# # ax.axhspan(100, 550, xmin=0, xmax=1, alpha=0.2, color='black')\n",
    "\n",
    "# # for i, x in enumerate(T['SS-MD']):\n",
    "# #     plt.annotate('%i' % (i+1), (T['age_at_scan_weeks'][i]+1, (T['SSS'][i]+0.1)*60))\n",
    "# for i, x in enumerate(T['ID_N']):\n",
    "#     if i == 11: # move it down a bit\n",
    "#         plt.annotate('%i' % x, (T['age_at_scan_weeks'][i]+1, T['L_PCAMCA'][i]-0.5))\n",
    "#     elif x == 11 and i == 11:\n",
    "#         plt.annotate('%i' % x, (T['age_at_scan_weeks'][i]+1, T['L_PCAMCA'][i]))\n",
    "#     else:\n",
    "#         plt.annotate('%i' % x, (T['age_at_scan_weeks'][i]+1, T['L_PCAMCA'][i]))\n",
    "\n",
    "# # SSS from Can Wu\n",
    "# sss_data = pd.read_excel('Vessel Blood Flow Can Wu 2017.xlsx', header=3)\n",
    "# # plt.plot(52 * sss_data.loc[sss_data['Age [Y]']<1.6, 'Age [Y]'], 60 * sss_data.loc[sss_data['Age [Y]']<1.6, 'SSS'], 'kx')\n",
    "# # plt.xlim([-1, 70])\n",
    "# plt.ylim([-20, 450])\n",
    "# ax.axhspan(np.min(sss_data.loc[sss_data['Age [Y]']<1.6, 'SSS'])*60, np.max(sss_data.loc[sss_data['Age [Y]']<1.6, 'SSS'])*60, alpha=0.2, color='black')\n",
    "        \n",
    "fig = plt.gcf()\n",
    "plt.tight_layout()\n",
    "# fig.savefig('fig_mcaVage.png')"
   ]
  },
  {
   "cell_type": "code",
   "execution_count": 26,
   "id": "74eb040f-4020-4fe9-a589-014568e34ef6",
   "metadata": {},
   "outputs": [
    {
     "name": "stdout",
     "output_type": "stream",
     "text": [
      "                            OLS Regression Results                            \n",
      "==============================================================================\n",
      "Dep. Variable:               R_PCAMCA   R-squared:                       0.250\n",
      "Model:                            OLS   Adj. R-squared:                  0.187\n",
      "Method:                 Least Squares   F-statistic:                     3.996\n",
      "Date:                Mon, 23 Oct 2023   Prob (F-statistic):             0.0688\n",
      "Time:                        15:24:07   Log-Likelihood:                -41.185\n",
      "No. Observations:                  14   AIC:                             86.37\n",
      "Df Residuals:                      12   BIC:                             87.65\n",
      "Df Model:                           1                                         \n",
      "Covariance Type:            nonrobust                                         \n",
      "=====================================================================================\n",
      "                        coef    std err          t      P>|t|      [0.025      0.975]\n",
      "-------------------------------------------------------------------------------------\n",
      "Intercept             7.2779      2.271      3.205      0.008       2.330      12.226\n",
      "age_at_scan_weeks    -0.1441      0.072     -1.999      0.069      -0.301       0.013\n",
      "==============================================================================\n",
      "Omnibus:                        7.353   Durbin-Watson:                   2.324\n",
      "Prob(Omnibus):                  0.025   Jarque-Bera (JB):                4.130\n",
      "Skew:                           1.275   Prob(JB):                        0.127\n",
      "Kurtosis:                       3.756   Cond. No.                         54.1\n",
      "==============================================================================\n",
      "\n",
      "Notes:\n",
      "[1] Standard Errors assume that the covariance matrix of the errors is correctly specified.\n"
     ]
    },
    {
     "name": "stderr",
     "output_type": "stream",
     "text": [
      "/home/jeff/virtualenv/jupyterlab3/lib/python3.8/site-packages/scipy/stats/_stats_py.py:1477: UserWarning: kurtosistest only valid for n>=20 ... continuing anyway, n=14\n",
      "  warnings.warn(\"kurtosistest only valid for n>=20 ... continuing \"\n"
     ]
    },
    {
     "data": {
      "image/png": "[encoded data removed]",
      "text/plain": [
       "<Figure size 432x288 with 1 Axes>"
      ]
     },
     "metadata": {
      "needs_background": "light"
     },
     "output_type": "display_data"
    },
    {
     "name": "stdout",
     "output_type": "stream",
     "text": [
      "Intercept: 7.28 [2.33, 12.23] P=0.008\n",
      "age_at_scan_weeks: -0.14 [-0.30, 0.01] P=0.069\n",
      "W=0.86, P=0.027\n",
      "                            OLS Regression Results                            \n",
      "==============================================================================\n",
      "Dep. Variable:               R_PCAMCA   R-squared:                       0.259\n",
      "Model:                            OLS   Adj. R-squared:                  0.125\n",
      "Method:                 Least Squares   F-statistic:                     1.927\n",
      "Date:                Mon, 23 Oct 2023   Prob (F-statistic):              0.192\n",
      "Time:                        15:24:07   Log-Likelihood:                -41.094\n",
      "No. Observations:                  14   AIC:                             88.19\n",
      "Df Residuals:                      11   BIC:                             90.11\n",
      "Df Model:                           2                                         \n",
      "Covariance Type:            nonrobust                                         \n",
      "=====================================================================================\n",
      "                        coef    std err          t      P>|t|      [0.025      0.975]\n",
      "-------------------------------------------------------------------------------------\n",
      "Intercept             6.9159      2.544      2.718      0.020       1.316      12.515\n",
      "age_at_scan_weeks    -0.1477      0.075     -1.958      0.076      -0.314       0.018\n",
      "embo                  1.0564      2.797      0.378      0.713      -5.101       7.214\n",
      "==============================================================================\n",
      "Omnibus:                        5.776   Durbin-Watson:                   2.148\n",
      "Prob(Omnibus):                  0.056   Jarque-Bera (JB):                3.183\n",
      "Skew:                           1.148   Prob(JB):                        0.204\n",
      "Kurtosis:                       3.436   Cond. No.                         72.2\n",
      "==============================================================================\n",
      "\n",
      "Notes:\n",
      "[1] Standard Errors assume that the covariance matrix of the errors is correctly specified.\n"
     ]
    },
    {
     "name": "stderr",
     "output_type": "stream",
     "text": [
      "/home/jeff/virtualenv/jupyterlab3/lib/python3.8/site-packages/scipy/stats/_stats_py.py:1477: UserWarning: kurtosistest only valid for n>=20 ... continuing anyway, n=14\n",
      "  warnings.warn(\"kurtosistest only valid for n>=20 ... continuing \"\n"
     ]
    },
    {
     "data": {
      "image/png": "[encoded data removed]",
      "text/plain": [
       "<Figure size 432x288 with 1 Axes>"
      ]
     },
     "metadata": {
      "needs_background": "light"
     },
     "output_type": "display_data"
    },
    {
     "name": "stderr",
     "output_type": "stream",
     "text": [
      "/home/jeff/virtualenv/jupyterlab3/lib/python3.8/site-packages/scipy/stats/_stats_py.py:1477: UserWarning: kurtosistest only valid for n>=20 ... continuing anyway, n=13\n",
      "  warnings.warn(\"kurtosistest only valid for n>=20 ... continuing \"\n"
     ]
    },
    {
     "name": "stdout",
     "output_type": "stream",
     "text": [
      "Intercept: 6.92 [1.32, 12.52] P=0.020\n",
      "age_at_scan_weeks: -0.15 [-0.31, 0.02] P=0.076\n",
      "embo: 1.06 [-5.10, 7.21] P=0.713\n",
      "W=0.87, P=0.040\n",
      "                            OLS Regression Results                            \n",
      "==============================================================================\n",
      "Dep. Variable:               L_PCAMCA   R-squared:                       0.312\n",
      "Model:                            OLS   Adj. R-squared:                  0.250\n",
      "Method:                 Least Squares   F-statistic:                     4.994\n",
      "Date:                Mon, 23 Oct 2023   Prob (F-statistic):             0.0471\n",
      "Time:                        15:24:07   Log-Likelihood:                -35.178\n",
      "No. Observations:                  13   AIC:                             74.36\n",
      "Df Residuals:                      11   BIC:                             75.49\n",
      "Df Model:                           1                                         \n",
      "Covariance Type:            nonrobust                                         \n",
      "=====================================================================================\n",
      "                        coef    std err          t      P>|t|      [0.025      0.975]\n",
      "-------------------------------------------------------------------------------------\n",
      "Intercept             6.9610      1.848      3.766      0.003       2.893      11.029\n",
      "age_at_scan_weeks    -0.1284      0.057     -2.235      0.047      -0.255      -0.002\n",
      "==============================================================================\n",
      "Omnibus:                        2.805   Durbin-Watson:                   1.963\n",
      "Prob(Omnibus):                  0.246   Jarque-Bera (JB):                1.193\n",
      "Skew:                           0.736   Prob(JB):                        0.551\n",
      "Kurtosis:                       3.192   Cond. No.                         54.5\n",
      "==============================================================================\n",
      "\n",
      "Notes:\n",
      "[1] Standard Errors assume that the covariance matrix of the errors is correctly specified.\n"
     ]
    },
    {
     "data": {
      "image/png": "[encoded data removed]",
      "text/plain": [
       "<Figure size 432x288 with 1 Axes>"
      ]
     },
     "metadata": {
      "needs_background": "light"
     },
     "output_type": "display_data"
    },
    {
     "name": "stdout",
     "output_type": "stream",
     "text": [
      "Intercept: 6.96 [2.89, 11.03] P=0.003\n",
      "age_at_scan_weeks: -0.13 [-0.25, -0.00] P=0.047\n",
      "W=0.95, P=0.646\n",
      "                            OLS Regression Results                            \n",
      "==============================================================================\n",
      "Dep. Variable:               L_PCAMCA   R-squared:                       0.318\n",
      "Model:                            OLS   Adj. R-squared:                  0.181\n",
      "Method:                 Least Squares   F-statistic:                     2.328\n",
      "Date:                Mon, 23 Oct 2023   Prob (F-statistic):              0.148\n",
      "Time:                        15:24:07   Log-Likelihood:                -35.127\n",
      "No. Observations:                  13   AIC:                             76.25\n",
      "Df Residuals:                      10   BIC:                             77.95\n",
      "Df Model:                           2                                         \n",
      "Covariance Type:            nonrobust                                         \n",
      "=====================================================================================\n",
      "                        coef    std err          t      P>|t|      [0.025      0.975]\n",
      "-------------------------------------------------------------------------------------\n",
      "Intercept             6.7113      2.126      3.157      0.010       1.975      11.448\n",
      "age_at_scan_weeks    -0.1303      0.060     -2.157      0.056      -0.265       0.004\n",
      "embo                  0.6471      2.303      0.281      0.784      -4.484       5.778\n",
      "==============================================================================\n",
      "Omnibus:                        1.852   Durbin-Watson:                   1.874\n",
      "Prob(Omnibus):                  0.396   Jarque-Bera (JB):                0.922\n",
      "Skew:                           0.649   Prob(JB):                        0.631\n",
      "Kurtosis:                       2.862   Cond. No.                         74.6\n",
      "==============================================================================\n",
      "\n",
      "Notes:\n",
      "[1] Standard Errors assume that the covariance matrix of the errors is correctly specified.\n"
     ]
    },
    {
     "name": "stderr",
     "output_type": "stream",
     "text": [
      "/home/jeff/virtualenv/jupyterlab3/lib/python3.8/site-packages/scipy/stats/_stats_py.py:1477: UserWarning: kurtosistest only valid for n>=20 ... continuing anyway, n=13\n",
      "  warnings.warn(\"kurtosistest only valid for n>=20 ... continuing \"\n"
     ]
    },
    {
     "data": {
      "image/png": "[encoded data removed]",
      "text/plain": [
       "<Figure size 432x288 with 1 Axes>"
      ]
     },
     "metadata": {
      "needs_background": "light"
     },
     "output_type": "display_data"
    },
    {
     "name": "stdout",
     "output_type": "stream",
     "text": [
      "Intercept: 6.71 [1.98, 11.45] P=0.010\n",
      "age_at_scan_weeks: -0.13 [-0.26, 0.00] P=0.056\n",
      "embo: 0.65 [-4.48, 5.78] P=0.784\n",
      "W=0.96, P=0.769\n",
      "                            OLS Regression Results                            \n",
      "==============================================================================\n",
      "Dep. Variable:             LMCA_mlmin   R-squared:                       0.084\n",
      "Model:                            OLS   Adj. R-squared:                  0.019\n",
      "Method:                 Least Squares   F-statistic:                     1.289\n",
      "Date:                Mon, 23 Oct 2023   Prob (F-statistic):              0.275\n",
      "Time:                        15:24:08   Log-Likelihood:                -85.993\n",
      "No. Observations:                  16   AIC:                             176.0\n",
      "Df Residuals:                      14   BIC:                             177.5\n",
      "Df Model:                           1                                         \n",
      "Covariance Type:            nonrobust                                         \n",
      "=====================================================================================\n",
      "                        coef    std err          t      P>|t|      [0.025      0.975]\n",
      "-------------------------------------------------------------------------------------\n",
      "Intercept            87.6754     23.382      3.750      0.002      37.526     137.824\n",
      "age_at_scan_weeks     0.8920      0.786      1.136      0.275      -0.793       2.577\n",
      "==============================================================================\n",
      "Omnibus:                        0.975   Durbin-Watson:                   1.885\n",
      "Prob(Omnibus):                  0.614   Jarque-Bera (JB):                0.861\n",
      "Skew:                           0.362   Prob(JB):                        0.650\n",
      "Kurtosis:                       2.123   Cond. No.                         49.9\n",
      "==============================================================================\n",
      "\n",
      "Notes:\n",
      "[1] Standard Errors assume that the covariance matrix of the errors is correctly specified.\n"
     ]
    },
    {
     "name": "stderr",
     "output_type": "stream",
     "text": [
      "/home/jeff/virtualenv/jupyterlab3/lib/python3.8/site-packages/scipy/stats/_stats_py.py:1477: UserWarning: kurtosistest only valid for n>=20 ... continuing anyway, n=16\n",
      "  warnings.warn(\"kurtosistest only valid for n>=20 ... continuing \"\n"
     ]
    },
    {
     "data": {
      "image/png": "[encoded data removed]",
      "text/plain": [
       "<Figure size 432x288 with 1 Axes>"
      ]
     },
     "metadata": {
      "needs_background": "light"
     },
     "output_type": "display_data"
    },
    {
     "name": "stdout",
     "output_type": "stream",
     "text": [
      "Intercept: 87.68 [37.53, 137.82] P=0.002\n",
      "age_at_scan_weeks: 0.89 [-0.79, 2.58] P=0.275\n",
      "W=0.94, P=0.394\n",
      "                            OLS Regression Results                            \n",
      "==============================================================================\n",
      "Dep. Variable:             LMCA_mlmin   R-squared:                       0.087\n",
      "Model:                            OLS   Adj. R-squared:                 -0.054\n",
      "Method:                 Least Squares   F-statistic:                    0.6157\n",
      "Date:                Mon, 23 Oct 2023   Prob (F-statistic):              0.555\n",
      "Time:                        15:24:08   Log-Likelihood:                -85.974\n",
      "No. Observations:                  16   AIC:                             177.9\n",
      "Df Residuals:                      13   BIC:                             180.3\n",
      "Df Model:                           2                                         \n",
      "Covariance Type:            nonrobust                                         \n",
      "=====================================================================================\n",
      "                        coef    std err          t      P>|t|      [0.025      0.975]\n",
      "-------------------------------------------------------------------------------------\n",
      "Intercept            90.1838     28.081      3.212      0.007      29.519     150.848\n",
      "age_at_scan_weeks     0.8941      0.814      1.098      0.292      -0.865       2.653\n",
      "embo                 -5.1182     28.940     -0.177      0.862     -67.639      57.403\n",
      "==============================================================================\n",
      "Omnibus:                        1.102   Durbin-Watson:                   1.844\n",
      "Prob(Omnibus):                  0.576   Jarque-Bera (JB):                0.912\n",
      "Skew:                           0.359   Prob(JB):                        0.634\n",
      "Kurtosis:                       2.076   Cond. No.                         72.0\n",
      "==============================================================================\n",
      "\n",
      "Notes:\n",
      "[1] Standard Errors assume that the covariance matrix of the errors is correctly specified.\n"
     ]
    },
    {
     "name": "stderr",
     "output_type": "stream",
     "text": [
      "/home/jeff/virtualenv/jupyterlab3/lib/python3.8/site-packages/scipy/stats/_stats_py.py:1477: UserWarning: kurtosistest only valid for n>=20 ... continuing anyway, n=16\n",
      "  warnings.warn(\"kurtosistest only valid for n>=20 ... continuing \"\n"
     ]
    },
    {
     "data": {
      "image/png": "[encoded data removed]",
      "text/plain": [
       "<Figure size 432x288 with 1 Axes>"
      ]
     },
     "metadata": {
      "needs_background": "light"
     },
     "output_type": "display_data"
    },
    {
     "name": "stdout",
     "output_type": "stream",
     "text": [
      "Intercept: 90.18 [29.52, 150.85] P=0.007\n",
      "age_at_scan_weeks: 0.89 [-0.87, 2.65] P=0.292\n",
      "embo: -5.12 [-67.64, 57.40] P=0.862\n",
      "W=0.94, P=0.316\n",
      "                            OLS Regression Results                            \n",
      "==============================================================================\n",
      "Dep. Variable:             RMCA_mlmin   R-squared:                       0.115\n",
      "Model:                            OLS   Adj. R-squared:                  0.051\n",
      "Method:                 Least Squares   F-statistic:                     1.814\n",
      "Date:                Mon, 23 Oct 2023   Prob (F-statistic):              0.199\n",
      "Time:                        15:24:08   Log-Likelihood:                -87.193\n",
      "No. Observations:                  16   AIC:                             178.4\n",
      "Df Residuals:                      14   BIC:                             179.9\n",
      "Df Model:                           1                                         \n",
      "Covariance Type:            nonrobust                                         \n",
      "=====================================================================================\n",
      "                        coef    std err          t      P>|t|      [0.025      0.975]\n",
      "-------------------------------------------------------------------------------------\n",
      "Intercept            87.1431     25.202      3.458      0.004      33.090     141.197\n",
      "age_at_scan_weeks     1.1404      0.847      1.347      0.199      -0.676       2.956\n",
      "==============================================================================\n",
      "Omnibus:                        1.440   Durbin-Watson:                   2.662\n",
      "Prob(Omnibus):                  0.487   Jarque-Bera (JB):                1.065\n",
      "Skew:                           0.394   Prob(JB):                        0.587\n",
      "Kurtosis:                       2.011   Cond. No.                         49.9\n",
      "==============================================================================\n",
      "\n",
      "Notes:\n",
      "[1] Standard Errors assume that the covariance matrix of the errors is correctly specified.\n"
     ]
    },
    {
     "name": "stderr",
     "output_type": "stream",
     "text": [
      "/home/jeff/virtualenv/jupyterlab3/lib/python3.8/site-packages/scipy/stats/_stats_py.py:1477: UserWarning: kurtosistest only valid for n>=20 ... continuing anyway, n=16\n",
      "  warnings.warn(\"kurtosistest only valid for n>=20 ... continuing \"\n"
     ]
    },
    {
     "data": {
      "image/png": "[encoded data removed]",
      "text/plain": [
       "<Figure size 432x288 with 1 Axes>"
      ]
     },
     "metadata": {
      "needs_background": "light"
     },
     "output_type": "display_data"
    },
    {
     "name": "stdout",
     "output_type": "stream",
     "text": [
      "Intercept: 87.14 [33.09, 141.20] P=0.004\n",
      "age_at_scan_weeks: 1.14 [-0.68, 2.96] P=0.199\n",
      "W=0.91, P=0.127\n",
      "                            OLS Regression Results                            \n",
      "==============================================================================\n",
      "Dep. Variable:             RMCA_mlmin   R-squared:                       0.126\n",
      "Model:                            OLS   Adj. R-squared:                 -0.008\n",
      "Method:                 Least Squares   F-statistic:                    0.9399\n",
      "Date:                Mon, 23 Oct 2023   Prob (F-statistic):              0.416\n",
      "Time:                        15:24:08   Log-Likelihood:                -87.087\n",
      "No. Observations:                  16   AIC:                             180.2\n",
      "Df Residuals:                      13   BIC:                             182.5\n",
      "Df Model:                           2                                         \n",
      "Covariance Type:            nonrobust                                         \n",
      "=====================================================================================\n",
      "                        coef    std err          t      P>|t|      [0.025      0.975]\n",
      "-------------------------------------------------------------------------------------\n",
      "Intercept            93.4653     30.104      3.105      0.008      28.430     158.501\n",
      "age_at_scan_weeks     1.1458      0.873      1.312      0.212      -0.740       3.032\n",
      "embo                -12.8999     31.025     -0.416      0.684     -79.925      54.126\n",
      "==============================================================================\n",
      "Omnibus:                        1.253   Durbin-Watson:                   2.602\n",
      "Prob(Omnibus):                  0.535   Jarque-Bera (JB):                1.038\n",
      "Skew:                           0.440   Prob(JB):                        0.595\n",
      "Kurtosis:                       2.116   Cond. No.                         72.0\n",
      "==============================================================================\n",
      "\n",
      "Notes:\n",
      "[1] Standard Errors assume that the covariance matrix of the errors is correctly specified.\n"
     ]
    },
    {
     "name": "stderr",
     "output_type": "stream",
     "text": [
      "/home/jeff/virtualenv/jupyterlab3/lib/python3.8/site-packages/scipy/stats/_stats_py.py:1477: UserWarning: kurtosistest only valid for n>=20 ... continuing anyway, n=16\n",
      "  warnings.warn(\"kurtosistest only valid for n>=20 ... continuing \"\n"
     ]
    },
    {
     "data": {
      "image/png": "[encoded data removed]",
      "text/plain": [
       "<Figure size 432x288 with 1 Axes>"
      ]
     },
     "metadata": {
      "needs_background": "light"
     },
     "output_type": "display_data"
    },
    {
     "name": "stdout",
     "output_type": "stream",
     "text": [
      "Intercept: 93.47 [28.43, 158.50] P=0.008\n",
      "age_at_scan_weeks: 1.15 [-0.74, 3.03] P=0.212\n",
      "embo: -12.90 [-79.93, 54.13] P=0.684\n",
      "W=0.93, P=0.255\n",
      "                            OLS Regression Results                            \n",
      "==============================================================================\n",
      "Dep. Variable:             LPCA_mlmin   R-squared:                       0.118\n",
      "Model:                            OLS   Adj. R-squared:                  0.038\n",
      "Method:                 Least Squares   F-statistic:                     1.472\n",
      "Date:                Mon, 23 Oct 2023   Prob (F-statistic):              0.250\n",
      "Time:                        15:24:08   Log-Likelihood:                -76.571\n",
      "No. Observations:                  13   AIC:                             157.1\n",
      "Df Residuals:                      11   BIC:                             158.3\n",
      "Df Model:                           1                                         \n",
      "Covariance Type:            nonrobust                                         \n",
      "=====================================================================================\n",
      "                        coef    std err          t      P>|t|      [0.025      0.975]\n",
      "-------------------------------------------------------------------------------------\n",
      "Intercept           283.5877     44.630      6.354      0.000     185.358     381.817\n",
      "age_at_scan_weeks    -1.6832      1.387     -1.213      0.250      -4.737       1.370\n",
      "==============================================================================\n",
      "Omnibus:                        8.818   Durbin-Watson:                   2.494\n",
      "Prob(Omnibus):                  0.012   Jarque-Bera (JB):                4.615\n",
      "Skew:                           1.252   Prob(JB):                       0.0995\n",
      "Kurtosis:                       4.502   Cond. No.                         54.5\n",
      "==============================================================================\n",
      "\n",
      "Notes:\n",
      "[1] Standard Errors assume that the covariance matrix of the errors is correctly specified.\n"
     ]
    },
    {
     "name": "stderr",
     "output_type": "stream",
     "text": [
      "/home/jeff/virtualenv/jupyterlab3/lib/python3.8/site-packages/scipy/stats/_stats_py.py:1477: UserWarning: kurtosistest only valid for n>=20 ... continuing anyway, n=13\n",
      "  warnings.warn(\"kurtosistest only valid for n>=20 ... continuing \"\n"
     ]
    },
    {
     "data": {
      "image/png": "[encoded data removed]",
      "text/plain": [
       "<Figure size 432x288 with 1 Axes>"
      ]
     },
     "metadata": {
      "needs_background": "light"
     },
     "output_type": "display_data"
    },
    {
     "name": "stdout",
     "output_type": "stream",
     "text": [
      "Intercept: 283.59 [185.36, 381.82] P=0.000\n",
      "age_at_scan_weeks: -1.68 [-4.74, 1.37] P=0.250\n",
      "W=0.90, P=0.115\n",
      "                            OLS Regression Results                            \n",
      "==============================================================================\n",
      "Dep. Variable:             LPCA_mlmin   R-squared:                       0.250\n",
      "Model:                            OLS   Adj. R-squared:                  0.100\n",
      "Method:                 Least Squares   F-statistic:                     1.663\n",
      "Date:                Mon, 23 Oct 2023   Prob (F-statistic):              0.238\n",
      "Time:                        15:24:08   Log-Likelihood:                -75.521\n",
      "No. Observations:                  13   AIC:                             157.0\n",
      "Df Residuals:                      10   BIC:                             158.7\n",
      "Df Model:                           2                                         \n",
      "Covariance Type:            nonrobust                                         \n",
      "=====================================================================================\n",
      "                        coef    std err          t      P>|t|      [0.025      0.975]\n",
      "-------------------------------------------------------------------------------------\n",
      "Intercept           309.8911     47.528      6.520      0.000     203.993     415.789\n",
      "age_at_scan_weeks    -1.4844      1.350     -1.099      0.297      -4.493       1.525\n",
      "embo                -68.1741     51.490     -1.324      0.215    -182.902      46.553\n",
      "==============================================================================\n",
      "Omnibus:                        6.322   Durbin-Watson:                   2.664\n",
      "Prob(Omnibus):                  0.042   Jarque-Bera (JB):                3.220\n",
      "Skew:                           1.175   Prob(JB):                        0.200\n",
      "Kurtosis:                       3.649   Cond. No.                         74.6\n",
      "==============================================================================\n",
      "\n",
      "Notes:\n",
      "[1] Standard Errors assume that the covariance matrix of the errors is correctly specified.\n"
     ]
    },
    {
     "name": "stderr",
     "output_type": "stream",
     "text": [
      "/home/jeff/virtualenv/jupyterlab3/lib/python3.8/site-packages/scipy/stats/_stats_py.py:1477: UserWarning: kurtosistest only valid for n>=20 ... continuing anyway, n=13\n",
      "  warnings.warn(\"kurtosistest only valid for n>=20 ... continuing \"\n"
     ]
    },
    {
     "data": {
      "image/png": "[encoded data removed]",
      "text/plain": [
       "<Figure size 432x288 with 1 Axes>"
      ]
     },
     "metadata": {
      "needs_background": "light"
     },
     "output_type": "display_data"
    },
    {
     "name": "stdout",
     "output_type": "stream",
     "text": [
      "Intercept: 309.89 [203.99, 415.79] P=0.000\n",
      "age_at_scan_weeks: -1.48 [-4.49, 1.52] P=0.297\n",
      "embo: -68.17 [-182.90, 46.55] P=0.215\n",
      "W=0.88, P=0.065\n",
      "                            OLS Regression Results                            \n",
      "==============================================================================\n",
      "Dep. Variable:             RPCA_mlmin   R-squared:                       0.182\n",
      "Model:                            OLS   Adj. R-squared:                  0.114\n",
      "Method:                 Least Squares   F-statistic:                     2.675\n",
      "Date:                Mon, 23 Oct 2023   Prob (F-statistic):              0.128\n",
      "Time:                        15:24:08   Log-Likelihood:                -87.755\n",
      "No. Observations:                  14   AIC:                             179.5\n",
      "Df Residuals:                      12   BIC:                             180.8\n",
      "Df Model:                           1                                         \n",
      "Covariance Type:            nonrobust                                         \n",
      "=====================================================================================\n",
      "                        coef    std err          t      P>|t|      [0.025      0.975]\n",
      "-------------------------------------------------------------------------------------\n",
      "Intercept           283.1832     63.219      4.479      0.001     145.441     420.926\n",
      "age_at_scan_weeks    -3.2821      2.007     -1.635      0.128      -7.655       1.090\n",
      "==============================================================================\n",
      "Omnibus:                        1.756   Durbin-Watson:                   1.499\n",
      "Prob(Omnibus):                  0.416   Jarque-Bera (JB):                1.006\n",
      "Skew:                           0.646   Prob(JB):                        0.605\n",
      "Kurtosis:                       2.767   Cond. No.                         54.1\n",
      "==============================================================================\n",
      "\n",
      "Notes:\n",
      "[1] Standard Errors assume that the covariance matrix of the errors is correctly specified.\n"
     ]
    },
    {
     "name": "stderr",
     "output_type": "stream",
     "text": [
      "/home/jeff/virtualenv/jupyterlab3/lib/python3.8/site-packages/scipy/stats/_stats_py.py:1477: UserWarning: kurtosistest only valid for n>=20 ... continuing anyway, n=14\n",
      "  warnings.warn(\"kurtosistest only valid for n>=20 ... continuing \"\n"
     ]
    },
    {
     "data": {
      "image/png": "[encoded data removed]",
      "text/plain": [
       "<Figure size 432x288 with 1 Axes>"
      ]
     },
     "metadata": {
      "needs_background": "light"
     },
     "output_type": "display_data"
    },
    {
     "name": "stdout",
     "output_type": "stream",
     "text": [
      "Intercept: 283.18 [145.44, 420.93] P=0.001\n",
      "age_at_scan_weeks: -3.28 [-7.65, 1.09] P=0.128\n",
      "W=0.95, P=0.532\n",
      "                            OLS Regression Results                            \n",
      "==============================================================================\n",
      "Dep. Variable:             RPCA_mlmin   R-squared:                       0.258\n",
      "Model:                            OLS   Adj. R-squared:                  0.123\n",
      "Method:                 Least Squares   F-statistic:                     1.909\n",
      "Date:                Mon, 23 Oct 2023   Prob (F-statistic):              0.194\n",
      "Time:                        15:24:08   Log-Likelihood:                -87.078\n",
      "No. Observations:                  14   AIC:                             180.2\n",
      "Df Residuals:                      11   BIC:                             182.1\n",
      "Df Model:                           2                                         \n",
      "Covariance Type:            nonrobust                                         \n",
      "=====================================================================================\n",
      "                        coef    std err          t      P>|t|      [0.025      0.975]\n",
      "-------------------------------------------------------------------------------------\n",
      "Intercept           310.2256     67.918      4.568      0.001     160.740     459.712\n",
      "age_at_scan_weeks    -3.0171      2.013     -1.499      0.162      -7.447       1.413\n",
      "embo                -78.9269     74.681     -1.057      0.313    -243.300      85.446\n",
      "==============================================================================\n",
      "Omnibus:                        1.982   Durbin-Watson:                   1.713\n",
      "Prob(Omnibus):                  0.371   Jarque-Bera (JB):                1.498\n",
      "Skew:                           0.668   Prob(JB):                        0.473\n",
      "Kurtosis:                       2.116   Cond. No.                         72.2\n",
      "==============================================================================\n",
      "\n",
      "Notes:\n",
      "[1] Standard Errors assume that the covariance matrix of the errors is correctly specified.\n"
     ]
    },
    {
     "name": "stderr",
     "output_type": "stream",
     "text": [
      "/home/jeff/virtualenv/jupyterlab3/lib/python3.8/site-packages/scipy/stats/_stats_py.py:1477: UserWarning: kurtosistest only valid for n>=20 ... continuing anyway, n=14\n",
      "  warnings.warn(\"kurtosistest only valid for n>=20 ... continuing \"\n"
     ]
    },
    {
     "data": {
      "image/png": "[encoded data removed]",
      "text/plain": [
       "<Figure size 432x288 with 1 Axes>"
      ]
     },
     "metadata": {
      "needs_background": "light"
     },
     "output_type": "display_data"
    },
    {
     "name": "stdout",
     "output_type": "stream",
     "text": [
      "Intercept: 310.23 [160.74, 459.71] P=0.001\n",
      "age_at_scan_weeks: -3.02 [-7.45, 1.41] P=0.162\n",
      "embo: -78.93 [-243.30, 85.45] P=0.313\n",
      "W=0.87, P=0.042\n"
     ]
    }
   ],
   "source": [
    "## For Table 2\n",
    "T['LMCA_mlmin'] = T['LMCA'] * 60\n",
    "T['RMCA_mlmin'] = T['RMCA'] * 60\n",
    "T['LPCA_mlmin'] = T['LPCA'] * 60\n",
    "T['RPCA_mlmin'] = T['RPCA'] * 60\n",
    "\n",
    "mod = smf.ols(formula=\"R_PCAMCA ~ age_at_scan_weeks\", data=T)\n",
    "res = mod.fit()\n",
    "print(res.summary())\n",
    "plt.hist(res.resid)\n",
    "plt.show()\n",
    "print(format_result(res))\n",
    "\n",
    "mod = smf.ols(formula=\"R_PCAMCA ~ age_at_scan_weeks + embo\", data=T)\n",
    "res = mod.fit()\n",
    "print(res.summary())\n",
    "plt.hist(res.resid)\n",
    "plt.show()\n",
    "print(format_result(res))\n",
    "mod = smf.ols(formula=\"L_PCAMCA ~ age_at_scan_weeks\", data=T)\n",
    "res = mod.fit()\n",
    "print(res.summary())\n",
    "plt.hist(res.resid)\n",
    "plt.show()\n",
    "print(format_result(res))\n",
    "mod = smf.ols(formula=\"L_PCAMCA ~ age_at_scan_weeks + embo\", data=T)\n",
    "res = mod.fit()\n",
    "print(res.summary())\n",
    "plt.hist(res.resid)\n",
    "plt.show()\n",
    "print(format_result(res))\n",
    "\n",
    "mod = smf.ols(formula=\"LMCA_mlmin ~ age_at_scan_weeks\", data=T)\n",
    "res = mod.fit()\n",
    "print(res.summary())\n",
    "plt.hist(res.resid)\n",
    "plt.show()\n",
    "print(format_result(res))\n",
    "mod = smf.ols(formula=\"LMCA_mlmin ~ age_at_scan_weeks + embo\", data=T)\n",
    "res = mod.fit()\n",
    "print(res.summary())\n",
    "plt.hist(res.resid)\n",
    "plt.show()\n",
    "print(format_result(res))\n",
    "\n",
    "mod = smf.ols(formula=\"RMCA_mlmin ~ age_at_scan_weeks\", data=T)\n",
    "res = mod.fit()\n",
    "print(res.summary())\n",
    "plt.hist(res.resid)\n",
    "plt.show()\n",
    "print(format_result(res))\n",
    "mod = smf.ols(formula=\"RMCA_mlmin ~ age_at_scan_weeks + embo\", data=T)\n",
    "res = mod.fit()\n",
    "print(res.summary())\n",
    "plt.hist(res.resid)\n",
    "plt.show()\n",
    "print(format_result(res))\n",
    "\n",
    "mod = smf.ols(formula=\"LPCA_mlmin ~ age_at_scan_weeks\", data=T)\n",
    "res = mod.fit()\n",
    "print(res.summary())\n",
    "plt.hist(res.resid)\n",
    "plt.show()\n",
    "print(format_result(res))\n",
    "mod = smf.ols(formula=\"LPCA_mlmin ~ age_at_scan_weeks + embo\", data=T)\n",
    "res = mod.fit()\n",
    "print(res.summary())\n",
    "plt.hist(res.resid)\n",
    "plt.show()\n",
    "print(format_result(res))\n",
    "\n",
    "mod = smf.ols(formula=\"RPCA_mlmin ~ age_at_scan_weeks\", data=T)\n",
    "res = mod.fit()\n",
    "print(res.summary())\n",
    "plt.hist(res.resid)\n",
    "plt.show()\n",
    "print(format_result(res))\n",
    "mod = smf.ols(formula=\"RPCA_mlmin ~ age_at_scan_weeks + embo\", data=T)\n",
    "res = mod.fit()\n",
    "print(res.summary())\n",
    "plt.hist(res.resid)\n",
    "plt.show()\n",
    "print(format_result(res))"
   ]
  },
  {
   "cell_type": "code",
   "execution_count": null,
   "id": "c6323dad-bfba-4de3-851e-865cdea8c3c5",
   "metadata": {},
   "outputs": [],
   "source": []
  }
 ],
 "metadata": {
  "kernelspec": {
   "display_name": "Python 3",
   "language": "python",
   "name": "python3"
  },
  "language_info": {
   "codemirror_mode": {
    "name": "ipython",
    "version": 3
   },
   "file_extension": ".py",
   "mimetype": "text/x-python",
   "name": "python",
   "nbconvert_exporter": "python",
   "pygments_lexer": "ipython3",
   "version": "3.8.10"
  }
 },
 "nbformat": 4,
 "nbformat_minor": 5
}
