{
 "cells": [
  {
   "cell_type": "code",
   "execution_count": 1,
   "id": "9472791e-5096-4f39-8bfe-03e76e3df0b0",
   "metadata": {},
   "outputs": [],
   "source": [
    "# This is the analysis notebook for the first submission of the VOGM 4D flow manuscript\n",
    "# Jeff Stout, Boston Children's Hospital\n",
    "# 2024/01/29\n",
    "\n",
    "# These commands are useful for stitching together the figures:\n",
    "# montage fig3a_excld12.png fig3b_excld12.png fig3c_excld12.png fig3d_excld12.png fig3e_excld12.png fig3f_excld12.png fig3g_excld12.png fig3h_excld12.png -tile 2x -geometry +0+0 Fig3.png\n",
    "\n",
    "# montage fig4a_excld12.png fig4b_excld12.png fig4c_excld12.png fig4d_excld12.png -geometry +0+0 Fig4.png"
   ]
  },
  {
   "cell_type": "code",
   "execution_count": 2,
   "id": "f828673d-8e27-4779-9d6c-1b0ed352c5bb",
   "metadata": {},
   "outputs": [],
   "source": [
    "# Imports\n",
    "import matplotlib.pyplot as plt\n",
    "import numpy as np\n",
    "import os\n",
    "import glob\n",
    "import json\n",
    "import nibabel as nib\n",
    "import nilearn\n",
    "import pandas as pd\n",
    "import statsmodels.formula.api as smf\n",
    "import statsmodels.api as sm\n",
    "import scipy\n",
    "import scipy.stats\n",
    "import scipy.io\n",
    "import nilearn.image\n",
    "import nilearn.glm\n",
    "import nilearn.plotting\n",
    "import statsmodels.stats.multitest"
   ]
  },
  {
   "cell_type": "code",
   "execution_count": 3,
   "id": "2dc339d9-0d7b-4116-aa3a-37c508a23458",
   "metadata": {},
   "outputs": [],
   "source": [
    "T = pd.read_csv('VOGM_4dflowdata.csv')\n",
    "\n",
    "T['SSMD'] = T['SS-MD']\n",
    "T['SSA'] = T['SS-A']\n",
    "T['inflow_ml/min'] = T['Inflow']*60\n",
    "T['age_at_scan_weeks'] = T['age_at_scan_months']* (52/12)\n",
    "\n",
    "# Don't always have SSS from the same technqiue, standardize to 2D PCMRI\n",
    "T['SSS'] = T['SSS_pre_2dpcmri']\n",
    "\n",
    "# Can use the 4D flow to replace missing data, if helpful\n",
    "# T.loc[1, 'SSS'] =  T.loc[1, 'SSS_pre_4dflow']\n",
    "# T.loc[4, 'SSS'] =  T.loc[4, 'SSS_pre_4dflow']\n",
    "# T.loc[11, 'SSS'] =  T.loc[11, 'SSS_pre_4dflow']\n",
    "# T.loc[15, 'SSS'] =  T.loc[15, 'SSS_pre_4dflow']\n",
    "\n",
    "# Drop unsedated subject 12 from further analysis\n",
    "T = T[T['ID_N'] != 12]\n",
    "\n",
    "T = T.reset_index()"
   ]
  },
  {
   "cell_type": "code",
   "execution_count": 29,
   "id": "37cf83f8-162d-418d-8301-70d59cf664a2",
   "metadata": {},
   "outputs": [
    {
     "data": {
      "text/html": [
       "<div>\n",
       "<style scoped>\n",
       "    .dataframe tbody tr th:only-of-type {\n",
       "        vertical-align: middle;\n",
       "    }\n",
       "\n",
       "    .dataframe tbody tr th {\n",
       "        vertical-align: top;\n",
       "    }\n",
       "\n",
       "    .dataframe thead th {\n",
       "        text-align: right;\n",
       "    }\n",
       "</style>\n",
       "<table border=\"1\" class=\"dataframe\">\n",
       "  <thead>\n",
       "    <tr style=\"text-align: right;\">\n",
       "      <th></th>\n",
       "      <th>ID_N</th>\n",
       "      <th>age_at_scan_months</th>\n",
       "      <th>SSS_mlmin</th>\n",
       "    </tr>\n",
       "  </thead>\n",
       "  <tbody>\n",
       "    <tr>\n",
       "      <th>0</th>\n",
       "      <td>1</td>\n",
       "      <td>14.133333</td>\n",
       "      <td>264.0</td>\n",
       "    </tr>\n",
       "    <tr>\n",
       "      <th>1</th>\n",
       "      <td>2</td>\n",
       "      <td>5.500000</td>\n",
       "      <td>NaN</td>\n",
       "    </tr>\n",
       "    <tr>\n",
       "      <th>2</th>\n",
       "      <td>3</td>\n",
       "      <td>2.566667</td>\n",
       "      <td>14.4</td>\n",
       "    </tr>\n",
       "    <tr>\n",
       "      <th>3</th>\n",
       "      <td>3</td>\n",
       "      <td>2.900000</td>\n",
       "      <td>52.8</td>\n",
       "    </tr>\n",
       "    <tr>\n",
       "      <th>4</th>\n",
       "      <td>4</td>\n",
       "      <td>5.533333</td>\n",
       "      <td>NaN</td>\n",
       "    </tr>\n",
       "    <tr>\n",
       "      <th>5</th>\n",
       "      <td>5</td>\n",
       "      <td>3.900000</td>\n",
       "      <td>130.8</td>\n",
       "    </tr>\n",
       "    <tr>\n",
       "      <th>6</th>\n",
       "      <td>6</td>\n",
       "      <td>0.033333</td>\n",
       "      <td>33.6</td>\n",
       "    </tr>\n",
       "    <tr>\n",
       "      <th>7</th>\n",
       "      <td>7</td>\n",
       "      <td>0.200000</td>\n",
       "      <td>24.0</td>\n",
       "    </tr>\n",
       "    <tr>\n",
       "      <th>8</th>\n",
       "      <td>8</td>\n",
       "      <td>4.833333</td>\n",
       "      <td>59.4</td>\n",
       "    </tr>\n",
       "    <tr>\n",
       "      <th>9</th>\n",
       "      <td>9</td>\n",
       "      <td>4.466667</td>\n",
       "      <td>-10.2</td>\n",
       "    </tr>\n",
       "    <tr>\n",
       "      <th>10</th>\n",
       "      <td>10</td>\n",
       "      <td>8.466667</td>\n",
       "      <td>197.4</td>\n",
       "    </tr>\n",
       "    <tr>\n",
       "      <th>11</th>\n",
       "      <td>11</td>\n",
       "      <td>6.166667</td>\n",
       "      <td>NaN</td>\n",
       "    </tr>\n",
       "    <tr>\n",
       "      <th>12</th>\n",
       "      <td>11</td>\n",
       "      <td>6.366667</td>\n",
       "      <td>235.8</td>\n",
       "    </tr>\n",
       "    <tr>\n",
       "      <th>13</th>\n",
       "      <td>2</td>\n",
       "      <td>10.200000</td>\n",
       "      <td>NaN</td>\n",
       "    </tr>\n",
       "    <tr>\n",
       "      <th>14</th>\n",
       "      <td>2</td>\n",
       "      <td>12.900000</td>\n",
       "      <td>NaN</td>\n",
       "    </tr>\n",
       "  </tbody>\n",
       "</table>\n",
       "</div>"
      ],
      "text/plain": [
       "    ID_N  age_at_scan_months  SSS_mlmin\n",
       "0      1           14.133333      264.0\n",
       "1      2            5.500000        NaN\n",
       "2      3            2.566667       14.4\n",
       "3      3            2.900000       52.8\n",
       "4      4            5.533333        NaN\n",
       "5      5            3.900000      130.8\n",
       "6      6            0.033333       33.6\n",
       "7      7            0.200000       24.0\n",
       "8      8            4.833333       59.4\n",
       "9      9            4.466667      -10.2\n",
       "10    10            8.466667      197.4\n",
       "11    11            6.166667        NaN\n",
       "12    11            6.366667      235.8\n",
       "13     2           10.200000        NaN\n",
       "14     2           12.900000        NaN"
      ]
     },
     "execution_count": 29,
     "metadata": {},
     "output_type": "execute_result"
    }
   ],
   "source": [
    "# T[['ID_N', 'age_at_scan_months', 'SSS_mlmin']]"
   ]
  },
  {
   "cell_type": "code",
   "execution_count": 5,
   "id": "fcf77553-866d-4b1a-95d7-b0b5101ec72d",
   "metadata": {},
   "outputs": [],
   "source": [
    "# There are two groups here and the embo for some definitely affects flow\n",
    "# the slopes are about the same, different intercepts, none signficant.\n",
    "# Joint modeling would be possible.\n",
    "\n",
    "T_noembo = T[T.embo == 0].reset_index(drop=True)\n"
   ]
  },
  {
   "cell_type": "code",
   "execution_count": 6,
   "id": "26064878-3ef8-4bad-ac87-517b5abee0eb",
   "metadata": {},
   "outputs": [
    {
     "data": {
      "image/png": "[encoded data removed]",
      "text/plain": [
       "<Figure size 432x288 with 1 Axes>"
      ]
     },
     "metadata": {
      "needs_background": "light"
     },
     "output_type": "display_data"
    }
   ],
   "source": [
    "##### Figure 3a\n",
    "# Inflow versus GA. This is really abnormal\n",
    "# So this is an interesting plot when compared with the normal data that goes from 100ml/min at birth to 550ml/min at 60 weeks (ref: Varela, Liu)\n",
    "# plt.plot(T['age_at_scan_weeks'], T['inflow_ml/min'], 'ko')\n",
    "plt.plot(T.loc[T['embo']==0, 'age_at_scan_weeks'], T.loc[T['embo']==0, 'inflow_ml/min'], 'ko', fillstyle='none',)\n",
    "plt.plot(T.loc[T['embo']==1, 'age_at_scan_weeks'], T.loc[T['embo']==1, 'inflow_ml/min'], 'ko')\n",
    "plt.xlabel('Age at scan (weeks)', fontsize=18)\n",
    "plt.ylabel('inflow (ml/min)', fontsize=18)\n",
    "plt.ylim([0, 1600])\n",
    "plt.xlim([-1, 65])\n",
    "plt.xticks(fontsize=18)\n",
    "plt.yticks(fontsize=18)\n",
    "plt.grid()\n",
    "ax = plt.gca()\n",
    "ax.axhspan(100, 550, xmin=0, xmax=1, alpha=0.2, color='black')\n",
    "\n",
    "# for i, x in enumerate(T['SS-MD']):\n",
    "#     plt.annotate('%i' % (i+1), (T['age_at_scan_weeks'][i]+1, (T['inflow_ml/min'][i]+0.1)))\n",
    "    \n",
    "for i, x in enumerate(T['ID_N']):\n",
    "    if x != 11:\n",
    "        plt.annotate('%i' % x, (T['age_at_scan_weeks'][i]+1, (T['inflow_ml/min'][i])))\n",
    "for i, x in enumerate(T['ID_N']):\n",
    "    if x == 11 and i == 11:\n",
    "        plt.annotate('%i' % x, (T['age_at_scan_weeks'][i]+1, (T['inflow_ml/min'][i])+50))\n",
    "    if x == 11 and i == 12:\n",
    "        plt.annotate('%i' % x, (T['age_at_scan_weeks'][i]+1, (T['inflow_ml/min'][i])-50))\n",
    "\n",
    "fig = plt.gcf()\n",
    "plt.tight_layout()\n",
    "fig.savefig('fig3a_excld12.png')  "
   ]
  },
  {
   "cell_type": "code",
   "execution_count": 36,
   "id": "234e2290-bf04-41e9-a2c3-e8982e4aa55d",
   "metadata": {},
   "outputs": [
    {
     "data": {
      "text/plain": [
       "'Inflow is 1062.88 +/- 403.3439544607059'"
      ]
     },
     "execution_count": 36,
     "metadata": {},
     "output_type": "execute_result"
    }
   ],
   "source": [
    "f'Inflow is {np.mean(T[\"inflow_ml/min\"])} +/- {np.std(T[\"inflow_ml/min\"])}'"
   ]
  },
  {
   "cell_type": "code",
   "execution_count": 33,
   "id": "64e029f9-1c75-470b-b4f6-cab6994c3493",
   "metadata": {},
   "outputs": [
    {
     "data": {
      "text/plain": [
       "403.3439544607059"
      ]
     },
     "execution_count": 33,
     "metadata": {},
     "output_type": "execute_result"
    }
   ],
   "source": [
    "np.std(T['inflow_ml/min'])"
   ]
  },
  {
   "cell_type": "code",
   "execution_count": 7,
   "id": "b91f3fe3-98e4-45c2-85c7-379698f85e38",
   "metadata": {},
   "outputs": [],
   "source": [
    "# Helper function to format the statmodels output for direct copy into the results table\n",
    "def format_result(result):\n",
    "    output = \"\"\n",
    "    for name in result.model.exog_names:\n",
    "        coef = result.params.loc[name] # Get the coefficient estimate\n",
    "        lower = result.conf_int().loc[name, 0] # Get the lower limit of the confidence interval\n",
    "        upper = result.conf_int().loc[name, 1] # Get the upper limit of the confidence interval\n",
    "        pvalue = result.pvalues.loc[name] # Get the p-value\n",
    "        # Format the output as \"name: coef [lower, upper] pvalue =\"\n",
    "        output += f\"{name}: {coef:.0f} [{lower:.0f}, {upper:.0f}] P={pvalue:.3f}\\n\"\n",
    "    SW = scipy.stats.shapiro(result.resid)\n",
    "    output += f\"W={SW.statistic:.2f}, P={SW.pvalue:.3f}\"\n",
    "    return output"
   ]
  },
  {
   "cell_type": "code",
   "execution_count": 8,
   "id": "a6f22e58-2b6f-4f13-a493-2777954d74c2",
   "metadata": {},
   "outputs": [
    {
     "name": "stdout",
     "output_type": "stream",
     "text": [
      "                            OLS Regression Results                            \n",
      "==============================================================================\n",
      "Dep. Variable:          inflow_ml_min   R-squared:                       0.036\n",
      "Model:                            OLS   Adj. R-squared:                 -0.039\n",
      "Method:                 Least Squares   F-statistic:                    0.4799\n",
      "Date:                Thu, 15 Feb 2024   Prob (F-statistic):              0.501\n",
      "Time:                        09:57:13   Log-Likelihood:                -111.01\n",
      "No. Observations:                  15   AIC:                             226.0\n",
      "Df Residuals:                      13   BIC:                             227.4\n",
      "Df Model:                           1                                         \n",
      "Covariance Type:            nonrobust                                         \n",
      "=====================================================================================\n",
      "                        coef    std err          t      P>|t|      [0.025      0.975]\n",
      "-------------------------------------------------------------------------------------\n",
      "Intercept          1175.4963    196.207      5.991      0.000     751.616    1599.376\n",
      "age_at_scan_weeks    -4.4215      6.383     -0.693      0.501     -18.210       9.367\n",
      "==============================================================================\n",
      "Omnibus:                        2.314   Durbin-Watson:                   1.646\n",
      "Prob(Omnibus):                  0.314   Jarque-Bera (JB):                1.104\n",
      "Skew:                           0.663   Prob(JB):                        0.576\n",
      "Kurtosis:                       3.078   Cond. No.                         54.9\n",
      "==============================================================================\n",
      "\n",
      "Notes:\n",
      "[1] Standard Errors assume that the covariance matrix of the errors is correctly specified.\n"
     ]
    },
    {
     "name": "stderr",
     "output_type": "stream",
     "text": [
      "/home/jeff/virtualenv/jupyterlab3/lib/python3.8/site-packages/scipy/stats/_stats_py.py:1477: UserWarning: kurtosistest only valid for n>=20 ... continuing anyway, n=15\n",
      "  warnings.warn(\"kurtosistest only valid for n>=20 ... continuing \"\n"
     ]
    },
    {
     "data": {
      "image/png": "[encoded data removed]",
      "text/plain": [
       "<Figure size 432x288 with 1 Axes>"
      ]
     },
     "metadata": {
      "needs_background": "light"
     },
     "output_type": "display_data"
    },
    {
     "name": "stdout",
     "output_type": "stream",
     "text": [
      "Intercept: 1175 [752, 1599] P=0.000\n",
      "age_at_scan_weeks: -4 [-18, 9] P=0.501\n",
      "W=0.95, P=0.465\n",
      "                            OLS Regression Results                            \n",
      "==============================================================================\n",
      "Dep. Variable:          inflow_ml_min   R-squared:                       0.233\n",
      "Model:                            OLS   Adj. R-squared:                  0.105\n",
      "Method:                 Least Squares   F-statistic:                     1.824\n",
      "Date:                Thu, 15 Feb 2024   Prob (F-statistic):              0.203\n",
      "Time:                        09:57:14   Log-Likelihood:                -109.29\n",
      "No. Observations:                  15   AIC:                             224.6\n",
      "Df Residuals:                      12   BIC:                             226.7\n",
      "Df Model:                           2                                         \n",
      "Covariance Type:            nonrobust                                         \n",
      "=====================================================================================\n",
      "                        coef    std err          t      P>|t|      [0.025      0.975]\n",
      "-------------------------------------------------------------------------------------\n",
      "Intercept          1389.7826    219.134      6.342      0.000     912.331    1867.234\n",
      "age_at_scan_weeks    -5.2848      5.944     -0.889      0.391     -18.236       7.667\n",
      "embo               -360.5556    205.084     -1.758      0.104    -807.395      86.284\n",
      "==============================================================================\n",
      "Omnibus:                        2.146   Durbin-Watson:                   1.932\n",
      "Prob(Omnibus):                  0.342   Jarque-Bera (JB):                1.570\n",
      "Skew:                           0.749   Prob(JB):                        0.456\n",
      "Kurtosis:                       2.485   Cond. No.                         79.9\n",
      "==============================================================================\n",
      "\n",
      "Notes:\n",
      "[1] Standard Errors assume that the covariance matrix of the errors is correctly specified.\n"
     ]
    },
    {
     "name": "stderr",
     "output_type": "stream",
     "text": [
      "/home/jeff/virtualenv/jupyterlab3/lib/python3.8/site-packages/scipy/stats/_stats_py.py:1477: UserWarning: kurtosistest only valid for n>=20 ... continuing anyway, n=15\n",
      "  warnings.warn(\"kurtosistest only valid for n>=20 ... continuing \"\n"
     ]
    },
    {
     "data": {
      "image/png": "[encoded data removed]",
      "text/plain": [
       "<Figure size 432x288 with 1 Axes>"
      ]
     },
     "metadata": {
      "needs_background": "light"
     },
     "output_type": "display_data"
    },
    {
     "name": "stderr",
     "output_type": "stream",
     "text": [
      "/home/jeff/virtualenv/jupyterlab3/lib/python3.8/site-packages/scipy/stats/_stats_py.py:1477: UserWarning: kurtosistest only valid for n>=20 ... continuing anyway, n=15\n",
      "  warnings.warn(\"kurtosistest only valid for n>=20 ... continuing \"\n"
     ]
    },
    {
     "name": "stdout",
     "output_type": "stream",
     "text": [
      "Intercept: 1390 [912, 1867] P=0.000\n",
      "age_at_scan_weeks: -5 [-18, 8] P=0.391\n",
      "embo: -361 [-807, 86] P=0.104\n",
      "W=0.92, P=0.168\n",
      "                            OLS Regression Results                            \n",
      "==============================================================================\n",
      "Dep. Variable:          inflow_ml_min   R-squared:                       0.235\n",
      "Model:                            OLS   Adj. R-squared:                  0.026\n",
      "Method:                 Least Squares   F-statistic:                     1.124\n",
      "Date:                Thu, 15 Feb 2024   Prob (F-statistic):              0.382\n",
      "Time:                        09:57:14   Log-Likelihood:                -109.28\n",
      "No. Observations:                  15   AIC:                             226.6\n",
      "Df Residuals:                      11   BIC:                             229.4\n",
      "Df Model:                           3                                         \n",
      "Covariance Type:            nonrobust                                         \n",
      "=====================================================================================\n",
      "                        coef    std err          t      P>|t|      [0.025      0.975]\n",
      "-------------------------------------------------------------------------------------\n",
      "Intercept          1414.3050    285.958      4.946      0.000     784.915    2043.695\n",
      "age_at_scan_weeks    -5.9045      7.570     -0.780      0.452     -22.566      10.757\n",
      "embo               -363.2965    214.864     -1.691      0.119    -836.208     109.615\n",
      "NAR                 -54.5718    382.118     -0.143      0.889    -895.609     786.465\n",
      "==============================================================================\n",
      "Omnibus:                        1.921   Durbin-Watson:                   1.925\n",
      "Prob(Omnibus):                  0.383   Jarque-Bera (JB):                1.450\n",
      "Skew:                           0.705   Prob(JB):                        0.484\n",
      "Kurtosis:                       2.426   Cond. No.                         126.\n",
      "==============================================================================\n",
      "\n",
      "Notes:\n",
      "[1] Standard Errors assume that the covariance matrix of the errors is correctly specified.\n"
     ]
    },
    {
     "data": {
      "image/png": "[encoded data removed]",
      "text/plain": [
       "<Figure size 432x288 with 1 Axes>"
      ]
     },
     "metadata": {
      "needs_background": "light"
     },
     "output_type": "display_data"
    },
    {
     "name": "stdout",
     "output_type": "stream",
     "text": [
      "Intercept: 1414 [785, 2044] P=0.000\n",
      "age_at_scan_weeks: -6 [-23, 11] P=0.452\n",
      "embo: -363 [-836, 110] P=0.119\n",
      "NAR: -55 [-896, 786] P=0.889\n",
      "W=0.92, P=0.199\n"
     ]
    }
   ],
   "source": [
    "# Inflow models for paper\n",
    "T['inflow_ml_min'] = T['inflow_ml/min']\n",
    "mod = smf.ols(formula=\"inflow_ml_min ~ age_at_scan_weeks\", data=T)\n",
    "res = mod.fit()\n",
    "print(res.summary())\n",
    "plt.hist(res.resid)\n",
    "plt.show()\n",
    "print(format_result(res))\n",
    "\n",
    "mod = smf.ols(formula=\"inflow_ml_min ~ age_at_scan_weeks + embo\", data=T)\n",
    "res = mod.fit()\n",
    "print(res.summary())\n",
    "plt.hist(res.resid)\n",
    "plt.show()\n",
    "print(format_result(res))\n",
    "\n",
    "mod = smf.ols(formula=\"inflow_ml_min ~ age_at_scan_weeks + embo + NAR\", data=T)\n",
    "res = mod.fit()\n",
    "print(res.summary())\n",
    "plt.hist(res.resid)\n",
    "plt.show()\n",
    "print(format_result(res))"
   ]
  },
  {
   "cell_type": "code",
   "execution_count": 9,
   "id": "602ebeec-0b3a-4eea-87b1-06dc99c8a510",
   "metadata": {},
   "outputs": [],
   "source": [
    "# What is cortical flow? something like the inflow - varix flow\n",
    "T['cortical_flow'] = (T['Inflow'] - T['falcine'])*60\n",
    "# Or it could be SSS flow before the falcine drainage\n",
    "T['SSS_mlmin'] = T['SSS'] * 60"
   ]
  },
  {
   "cell_type": "code",
   "execution_count": 10,
   "id": "feff07a7-190b-40a5-9804-ff15741d8edd",
   "metadata": {},
   "outputs": [
    {
     "data": {
      "image/png": "[encoded data removed]",
      "text/plain": [
       "<Figure size 432x288 with 1 Axes>"
      ]
     },
     "metadata": {
      "needs_background": "light"
     },
     "output_type": "display_data"
    }
   ],
   "source": [
    "## SSS versus GA. Fig 2d\n",
    "\n",
    "# plt.plot(T['age_at_scan_weeks'], T['SSS']*60, 'ko')\n",
    "plt.plot(T.loc[T['embo']==0, 'age_at_scan_weeks'], T.loc[T['embo']==0, 'SSS_mlmin'], 'ko', fillstyle='none',)\n",
    "plt.plot(T.loc[T['embo']==1, 'age_at_scan_weeks'], T.loc[T['embo']==1, 'SSS_mlmin'], 'ko')\n",
    "plt.xlabel('Age at scan (weeks)', fontsize=18)\n",
    "plt.ylabel('SSS (ml/min)', fontsize=18)\n",
    "plt.ylim([-20, 300])\n",
    "plt.xlim([-1, 65])\n",
    "plt.xticks(fontsize=18)\n",
    "plt.yticks(fontsize=18)\n",
    "plt.grid()\n",
    "\n",
    "# Trendline\n",
    "T_nan = T.dropna(subset=['SSS']) # This wasn't plotting, becasue of nan in the SSS column\n",
    "d = np.polyfit(T_nan['age_at_scan_weeks'], T_nan['SSS_mlmin'], 1)\n",
    "f = np.poly1d(d)\n",
    "plot_x = [np.min(T_nan['age_at_scan_weeks']), np.max(T_nan['age_at_scan_weeks'])]\n",
    "plt.plot(plot_x, f(plot_x), 'k-')\n",
    "\n",
    "ax = plt.gca()\n",
    "# ax.axhspan(100, 550, xmin=0, xmax=1, alpha=0.2, color='black')\n",
    "\n",
    "# for i, x in enumerate(T['SS-MD']):\n",
    "#     plt.annotate('%i' % (i+1), (T['age_at_scan_weeks'][i]+1, (T['SSS'][i]+0.1)*60))\n",
    "for i, x in enumerate(T['ID_N']):\n",
    "    if x == 7: # move it down a bit\n",
    "        plt.annotate('%i' % x, (T['age_at_scan_weeks'][i]+1, T['SSS_mlmin'][i]-6))\n",
    "    elif x == 11 and i == 11:\n",
    "        plt.annotate('%i' % x, (T['age_at_scan_weeks'][i]+1, T['SSS_mlmin'][i]-6))\n",
    "    else:\n",
    "        plt.annotate('%i' % x, (T['age_at_scan_weeks'][i]+1, T['SSS_mlmin'][i]))\n",
    "\n",
    "# SSS from Can Wu\n",
    "sss_data = pd.read_excel('/home/jeff/jeff.stout/research/clinical_cases/ISMRM2023/Vessel Blood Flow Can Wu 2017.xlsx', header=3)\n",
    "# plt.plot(52 * sss_data.loc[sss_data['Age [Y]']<1.6, 'Age [Y]'], 60 * sss_data.loc[sss_data['Age [Y]']<1.6, 'SSS'], 'kx')\n",
    "plt.xlim([-1, 70])\n",
    "plt.ylim([-20, 450])\n",
    "ax.axhspan(np.min(sss_data.loc[sss_data['Age [Y]']<1.6, 'SSS'])*60, np.max(sss_data.loc[sss_data['Age [Y]']<1.6, 'SSS'])*60, alpha=0.2, color='black')\n",
    "        \n",
    "fig = plt.gcf()\n",
    "plt.tight_layout()\n",
    "fig.savefig('fig4d_excld12.png')"
   ]
  },
  {
   "cell_type": "code",
   "execution_count": 11,
   "id": "d796c2fe-8700-4a78-bb5e-af6f38ccb407",
   "metadata": {},
   "outputs": [
    {
     "data": {
      "image/png": "[encoded data removed]",
      "text/plain": [
       "<Figure size 432x288 with 1 Axes>"
      ]
     },
     "metadata": {
      "needs_background": "light"
     },
     "output_type": "display_data"
    }
   ],
   "source": [
    "## Inflow-flacine versus GA. fig 2c\n",
    "\n",
    "# plt.plot(T['age_at_scan_weeks'], T['SSS']*60, 'ko')\n",
    "plt.plot(T.loc[T['embo']==0, 'age_at_scan_weeks'], T.loc[T['embo']==0, 'cortical_flow'], 'ko', fillstyle='none',)\n",
    "plt.plot(T.loc[T['embo']==1, 'age_at_scan_weeks'], T.loc[T['embo']==1, 'cortical_flow'], 'ko')\n",
    "plt.xlabel('Age at scan (weeks)', fontsize=18)\n",
    "plt.ylabel('inflow - falcine (ml/min)', fontsize=18)\n",
    "# plt.ylim([-20, 300])\n",
    "plt.xlim([-1, 65])\n",
    "plt.xticks(fontsize=18)\n",
    "plt.yticks(fontsize=18)\n",
    "plt.grid()\n",
    "\n",
    "# # Trendline\n",
    "# T_nan = T.dropna(subset=['SSS']) # This wasn't plotting, becasue of nan in the SSS column\n",
    "# d = np.polyfit(T_nan['age_at_scan_weeks'], T_nan['cortical_flow'], 1)\n",
    "# f = np.poly1d(d)\n",
    "# plt.plot(T_nan['age_at_scan_weeks'], f(T_nan['age_at_scan_weeks']), 'k-')\n",
    "\n",
    "ax = plt.gca()\n",
    "# ax.axhspan(100, 550, xmin=0, xmax=1, alpha=0.2, color='black')\n",
    "\n",
    "# for i, x in enumerate(T['SS-MD']):\n",
    "#     plt.annotate('%i' % (i+1), (T['age_at_scan_weeks'][i]+1, (T['SSS'][i]+0.1)*60))\n",
    "for i, x in enumerate(T['ID_N']):\n",
    "    if x == 7: # move it down a bit\n",
    "        plt.annotate('%i' % x, (T['age_at_scan_weeks'][i]+1, T['cortical_flow'][i]-6))\n",
    "    elif x == 11 and i == 11:\n",
    "        plt.annotate('%i' % x, (T['age_at_scan_weeks'][i]+1, T['cortical_flow'][i]-6))\n",
    "    else:\n",
    "        plt.annotate('%i' % x, (T['age_at_scan_weeks'][i]+1, T['cortical_flow'][i]))\n",
    "\n",
    "        \n",
    "fig = plt.gcf()\n",
    "plt.tight_layout()\n",
    "fig.savefig('fig3b_excld12.png')"
   ]
  },
  {
   "cell_type": "code",
   "execution_count": 12,
   "id": "fc67dd87-6968-432a-b075-cb24dde2f763",
   "metadata": {},
   "outputs": [
    {
     "data": {
      "image/png": "[encoded data removed]",
      "text/plain": [
       "<Figure size 432x288 with 1 Axes>"
      ]
     },
     "metadata": {
      "needs_background": "light"
     },
     "output_type": "display_data"
    }
   ],
   "source": [
    "## Inflow-flacine versus GA\n",
    "\n",
    "# plt.plot(T['age_at_scan_weeks'], T['SSS']*60, 'ko')\n",
    "plt.plot(T.loc[T['embo']==0, 'age_at_scan_weeks'], T.loc[T['embo']==0, 'falcine'], 'ko', fillstyle='none',)\n",
    "plt.plot(T.loc[T['embo']==1, 'age_at_scan_weeks'], T.loc[T['embo']==1, 'falcine'], 'ko')\n",
    "plt.xlabel('Age at scan (weeks)', fontsize=18)\n",
    "plt.ylabel('falcine (ml/s)', fontsize=18)\n",
    "# plt.ylim([-20, 300])\n",
    "plt.xlim([-1, 65])\n",
    "plt.xticks(fontsize=18)\n",
    "plt.yticks(fontsize=18)\n",
    "plt.grid()\n"
   ]
  },
  {
   "cell_type": "code",
   "execution_count": 13,
   "id": "8e457fdf-c15b-43f8-9223-0b9ae5815af9",
   "metadata": {},
   "outputs": [
    {
     "name": "stdout",
     "output_type": "stream",
     "text": [
      "                            OLS Regression Results                            \n",
      "==============================================================================\n",
      "Dep. Variable:          falcine_mlmin   R-squared:                       0.389\n",
      "Model:                            OLS   Adj. R-squared:                  0.342\n",
      "Method:                 Least Squares   F-statistic:                     8.274\n",
      "Date:                Thu, 15 Feb 2024   Prob (F-statistic):             0.0130\n",
      "Time:                        09:57:14   Log-Likelihood:                -109.28\n",
      "No. Observations:                  15   AIC:                             222.6\n",
      "Df Residuals:                      13   BIC:                             224.0\n",
      "Df Model:                           1                                         \n",
      "Covariance Type:            nonrobust                                         \n",
      "==============================================================================\n",
      "                 coef    std err          t      P>|t|      [0.025      0.975]\n",
      "------------------------------------------------------------------------------\n",
      "Intercept   -205.9810    285.786     -0.721      0.484    -823.384     411.422\n",
      "SSMD         150.6047     52.357      2.877      0.013      37.495     263.715\n",
      "==============================================================================\n",
      "Omnibus:                       10.093   Durbin-Watson:                   2.465\n",
      "Prob(Omnibus):                  0.006   Jarque-Bera (JB):                6.487\n",
      "Skew:                           1.503   Prob(JB):                       0.0390\n",
      "Kurtosis:                       4.159   Cond. No.                         16.4\n",
      "==============================================================================\n",
      "\n",
      "Notes:\n",
      "[1] Standard Errors assume that the covariance matrix of the errors is correctly specified.\n"
     ]
    },
    {
     "name": "stderr",
     "output_type": "stream",
     "text": [
      "/home/jeff/virtualenv/jupyterlab3/lib/python3.8/site-packages/scipy/stats/_stats_py.py:1477: UserWarning: kurtosistest only valid for n>=20 ... continuing anyway, n=15\n",
      "  warnings.warn(\"kurtosistest only valid for n>=20 ... continuing \"\n"
     ]
    },
    {
     "data": {
      "image/png": "[encoded data removed]",
      "text/plain": [
       "<Figure size 432x288 with 1 Axes>"
      ]
     },
     "metadata": {
      "needs_background": "light"
     },
     "output_type": "display_data"
    },
    {
     "name": "stdout",
     "output_type": "stream",
     "text": [
      "Intercept: -206 [-823, 411] P=0.484\n",
      "SSMD: 151 [37, 264] P=0.013\n",
      "W=0.79, P=0.003\n",
      "                            OLS Regression Results                            \n",
      "==============================================================================\n",
      "Dep. Variable:          falcine_mlmin   R-squared:                       0.638\n",
      "Model:                            OLS   Adj. R-squared:                  0.578\n",
      "Method:                 Least Squares   F-statistic:                     10.58\n",
      "Date:                Thu, 15 Feb 2024   Prob (F-statistic):            0.00225\n",
      "Time:                        09:57:14   Log-Likelihood:                -105.36\n",
      "No. Observations:                  15   AIC:                             216.7\n",
      "Df Residuals:                      12   BIC:                             218.8\n",
      "Df Model:                           2                                         \n",
      "Covariance Type:            nonrobust                                         \n",
      "==============================================================================\n",
      "                 coef    std err          t      P>|t|      [0.025      0.975]\n",
      "------------------------------------------------------------------------------\n",
      "Intercept    -49.3947    235.322     -0.210      0.837    -562.117     463.328\n",
      "SSMD         167.5276     42.351      3.956      0.002      75.252     259.804\n",
      "embo        -456.3131    158.776     -2.874      0.014    -802.257    -110.369\n",
      "==============================================================================\n",
      "Omnibus:                        3.912   Durbin-Watson:                   2.732\n",
      "Prob(Omnibus):                  0.141   Jarque-Bera (JB):                2.053\n",
      "Skew:                           0.897   Prob(JB):                        0.358\n",
      "Kurtosis:                       3.258   Cond. No.                         17.2\n",
      "==============================================================================\n",
      "\n",
      "Notes:\n",
      "[1] Standard Errors assume that the covariance matrix of the errors is correctly specified.\n"
     ]
    },
    {
     "name": "stderr",
     "output_type": "stream",
     "text": [
      "/home/jeff/virtualenv/jupyterlab3/lib/python3.8/site-packages/scipy/stats/_stats_py.py:1477: UserWarning: kurtosistest only valid for n>=20 ... continuing anyway, n=15\n",
      "  warnings.warn(\"kurtosistest only valid for n>=20 ... continuing \"\n"
     ]
    },
    {
     "data": {
      "image/png": "[encoded data removed]",
      "text/plain": [
       "<Figure size 432x288 with 1 Axes>"
      ]
     },
     "metadata": {
      "needs_background": "light"
     },
     "output_type": "display_data"
    },
    {
     "name": "stderr",
     "output_type": "stream",
     "text": [
      "/home/jeff/virtualenv/jupyterlab3/lib/python3.8/site-packages/scipy/stats/_stats_py.py:1477: UserWarning: kurtosistest only valid for n>=20 ... continuing anyway, n=15\n",
      "  warnings.warn(\"kurtosistest only valid for n>=20 ... continuing \"\n"
     ]
    },
    {
     "name": "stdout",
     "output_type": "stream",
     "text": [
      "Intercept: -49 [-562, 463] P=0.837\n",
      "SSMD: 168 [75, 260] P=0.002\n",
      "embo: -456 [-802, -110] P=0.014\n",
      "W=0.91, P=0.134\n",
      "                            OLS Regression Results                            \n",
      "==============================================================================\n",
      "Dep. Variable:          falcine_mlmin   R-squared:                       0.668\n",
      "Model:                            OLS   Adj. R-squared:                  0.577\n",
      "Method:                 Least Squares   F-statistic:                     7.362\n",
      "Date:                Thu, 15 Feb 2024   Prob (F-statistic):            0.00560\n",
      "Time:                        09:57:14   Log-Likelihood:                -104.72\n",
      "No. Observations:                  15   AIC:                             217.4\n",
      "Df Residuals:                      11   BIC:                             220.3\n",
      "Df Model:                           3                                         \n",
      "Covariance Type:            nonrobust                                         \n",
      "==============================================================================\n",
      "                 coef    std err          t      P>|t|      [0.025      0.975]\n",
      "------------------------------------------------------------------------------\n",
      "Intercept    -22.6143    237.126     -0.095      0.926    -544.525     499.297\n",
      "SSMD         154.9908     44.257      3.502      0.005      57.582     252.399\n",
      "embo        -445.5254    159.319     -2.796      0.017    -796.183     -94.868\n",
      "NAR          238.1613    241.221      0.987      0.345    -292.762     769.084\n",
      "==============================================================================\n",
      "Omnibus:                        4.929   Durbin-Watson:                   2.799\n",
      "Prob(Omnibus):                  0.085   Jarque-Bera (JB):                2.345\n",
      "Skew:                           0.890   Prob(JB):                        0.310\n",
      "Kurtosis:                       3.765   Cond. No.                         18.1\n",
      "==============================================================================\n",
      "\n",
      "Notes:\n",
      "[1] Standard Errors assume that the covariance matrix of the errors is correctly specified.\n"
     ]
    },
    {
     "data": {
      "image/png": "[encoded data removed]",
      "text/plain": [
       "<Figure size 432x288 with 1 Axes>"
      ]
     },
     "metadata": {
      "needs_background": "light"
     },
     "output_type": "display_data"
    },
    {
     "name": "stdout",
     "output_type": "stream",
     "text": [
      "Intercept: -23 [-545, 499] P=0.926\n",
      "SSMD: 155 [58, 252] P=0.005\n",
      "embo: -446 [-796, -95] P=0.017\n",
      "NAR: 238 [-293, 769] P=0.345\n",
      "W=0.94, P=0.379\n",
      "                            OLS Regression Results                            \n",
      "==============================================================================\n",
      "Dep. Variable:          falcine_mlmin   R-squared:                       0.129\n",
      "Model:                            OLS   Adj. R-squared:                  0.062\n",
      "Method:                 Least Squares   F-statistic:                     1.925\n",
      "Date:                Thu, 15 Feb 2024   Prob (F-statistic):              0.189\n",
      "Time:                        09:57:14   Log-Likelihood:                -111.94\n",
      "No. Observations:                  15   AIC:                             227.9\n",
      "Df Residuals:                      13   BIC:                             229.3\n",
      "Df Model:                           1                                         \n",
      "Covariance Type:            nonrobust                                         \n",
      "=====================================================================================\n",
      "                        coef    std err          t      P>|t|      [0.025      0.975]\n",
      "-------------------------------------------------------------------------------------\n",
      "Intercept           806.3390    208.810      3.862      0.002     355.233    1257.445\n",
      "age_at_scan_weeks    -9.4235      6.793     -1.387      0.189     -24.098       5.251\n",
      "==============================================================================\n",
      "Omnibus:                        6.402   Durbin-Watson:                   2.178\n",
      "Prob(Omnibus):                  0.041   Jarque-Bera (JB):                3.339\n",
      "Skew:                           1.046   Prob(JB):                        0.188\n",
      "Kurtosis:                       3.983   Cond. No.                         54.9\n",
      "==============================================================================\n",
      "\n",
      "Notes:\n",
      "[1] Standard Errors assume that the covariance matrix of the errors is correctly specified.\n"
     ]
    },
    {
     "name": "stderr",
     "output_type": "stream",
     "text": [
      "/home/jeff/virtualenv/jupyterlab3/lib/python3.8/site-packages/scipy/stats/_stats_py.py:1477: UserWarning: kurtosistest only valid for n>=20 ... continuing anyway, n=15\n",
      "  warnings.warn(\"kurtosistest only valid for n>=20 ... continuing \"\n"
     ]
    },
    {
     "data": {
      "image/png": "[encoded data removed]",
      "text/plain": [
       "<Figure size 432x288 with 1 Axes>"
      ]
     },
     "metadata": {
      "needs_background": "light"
     },
     "output_type": "display_data"
    },
    {
     "name": "stdout",
     "output_type": "stream",
     "text": [
      "Intercept: 806 [355, 1257] P=0.002\n",
      "age_at_scan_weeks: -9 [-24, 5] P=0.189\n",
      "W=0.91, P=0.151\n",
      "                            OLS Regression Results                            \n",
      "==============================================================================\n",
      "Dep. Variable:          falcine_mlmin   R-squared:                       0.321\n",
      "Model:                            OLS   Adj. R-squared:                  0.208\n",
      "Method:                 Least Squares   F-statistic:                     2.842\n",
      "Date:                Thu, 15 Feb 2024   Prob (F-statistic):             0.0976\n",
      "Time:                        09:57:15   Log-Likelihood:                -110.07\n",
      "No. Observations:                  15   AIC:                             226.1\n",
      "Df Residuals:                      12   BIC:                             228.3\n",
      "Df Model:                           2                                         \n",
      "Covariance Type:            nonrobust                                         \n",
      "=====================================================================================\n",
      "                        coef    std err          t      P>|t|      [0.025      0.975]\n",
      "-------------------------------------------------------------------------------------\n",
      "Intercept          1043.2170    230.826      4.519      0.001     540.289    1546.145\n",
      "age_at_scan_weeks   -10.3778      6.262     -1.657      0.123     -24.020       3.265\n",
      "embo               -398.5682    216.027     -1.845      0.090    -869.250      72.114\n",
      "==============================================================================\n",
      "Omnibus:                        3.888   Durbin-Watson:                   2.683\n",
      "Prob(Omnibus):                  0.143   Jarque-Bera (JB):                2.040\n",
      "Skew:                           0.895   Prob(JB):                        0.361\n",
      "Kurtosis:                       3.253   Cond. No.                         79.9\n",
      "==============================================================================\n",
      "\n",
      "Notes:\n",
      "[1] Standard Errors assume that the covariance matrix of the errors is correctly specified.\n"
     ]
    },
    {
     "name": "stderr",
     "output_type": "stream",
     "text": [
      "/home/jeff/virtualenv/jupyterlab3/lib/python3.8/site-packages/scipy/stats/_stats_py.py:1477: UserWarning: kurtosistest only valid for n>=20 ... continuing anyway, n=15\n",
      "  warnings.warn(\"kurtosistest only valid for n>=20 ... continuing \"\n"
     ]
    },
    {
     "data": {
      "image/png": "[encoded data removed]",
      "text/plain": [
       "<Figure size 432x288 with 1 Axes>"
      ]
     },
     "metadata": {
      "needs_background": "light"
     },
     "output_type": "display_data"
    },
    {
     "name": "stdout",
     "output_type": "stream",
     "text": [
      "Intercept: 1043 [540, 1546] P=0.001\n",
      "age_at_scan_weeks: -10 [-24, 3] P=0.123\n",
      "embo: -399 [-869, 72] P=0.090\n",
      "W=0.93, P=0.273\n"
     ]
    }
   ],
   "source": [
    "# Falcine models\n",
    "\n",
    "T['falcine_mlmin'] = T['falcine'] * 60\n",
    "\n",
    "mod = smf.ols(formula=\"falcine_mlmin ~ SSMD\", data=T) # And embo is not significant (Does that make sense?)\n",
    "res = mod.fit()\n",
    "print(res.summary())\n",
    "plt.hist(res.resid)\n",
    "plt.xlabel('Residual')\n",
    "plt.ylabel('Count')\n",
    "fig = plt.gcf()\n",
    "plt.tight_layout()\n",
    "plt.show()\n",
    "fig.savefig('fig4b_excld12.png')\n",
    "\n",
    "print(format_result(res))\n",
    "\n",
    "mod = smf.ols(formula=\"falcine_mlmin ~ SSMD + embo\", data=T) # And embo is not significant (Does that make sense?)\n",
    "res = mod.fit()\n",
    "print(res.summary())\n",
    "plt.hist(res.resid)\n",
    "plt.show()\n",
    "print(format_result(res))\n",
    "\n",
    "mod = smf.ols(formula=\"falcine_mlmin ~ SSMD + embo + NAR\", data=T) # And embo is not significant (Does that make sense?)\n",
    "res = mod.fit()\n",
    "print(res.summary())\n",
    "plt.hist(res.resid)\n",
    "plt.show()\n",
    "print(format_result(res))\n",
    "\n",
    "mod = smf.ols(formula=\"falcine_mlmin ~ age_at_scan_weeks\", data=T) # And embo is not significant (Does that make sense?)\n",
    "res = mod.fit()\n",
    "print(res.summary())\n",
    "plt.hist(res.resid)\n",
    "plt.show()\n",
    "print(format_result(res))\n",
    "\n",
    "mod = smf.ols(formula=\"falcine_mlmin ~ age_at_scan_weeks +embo\", data=T) # And embo is not significant (Does that make sense?)\n",
    "res = mod.fit()\n",
    "print(res.summary())\n",
    "plt.hist(res.resid)\n",
    "plt.show()\n",
    "print(format_result(res))"
   ]
  },
  {
   "cell_type": "code",
   "execution_count": 14,
   "id": "aab46ea0-536d-45ef-819c-b08160f97ac2",
   "metadata": {},
   "outputs": [
    {
     "data": {
      "image/png": "[encoded data removed]",
      "text/plain": [
       "<Figure size 432x288 with 1 Axes>"
      ]
     },
     "metadata": {
      "needs_background": "light"
     },
     "output_type": "display_data"
    }
   ],
   "source": [
    "### Figure 2b (raw flow)\n",
    "# Falcince:Inflow versus SS-MD. This is really abnormal\n",
    "# So this is an interesting plot when compared with the normal data that goes from 100ml/min at birth to 550ml/min at 60 weeks (ref: Varela, Liu)\n",
    "# abstract style, all solid\n",
    "# plt.plot(T['SS-MD'], T['falcine']*60, 'ko')\n",
    "\n",
    "# # No red/black for NAR, ALL Black\n",
    "# # No NAR is black\n",
    "# plt.plot(T.loc[(T['embo']==0) , 'SS-MD'], T.loc[(T['embo']==0) , 'falcine']*60, 'ko', fillstyle='none',)\n",
    "# plt.plot(T.loc[(T['embo']==1) , 'SS-MD'], T.loc[(T['embo']==1) , 'falcine']*60, 'ko')\n",
    "\n",
    "# No NAR is black\n",
    "plt.plot(T.loc[(T['embo']==0) & (T['NAR']==0), 'SS-MD'], T.loc[(T['embo']==0) & (T['NAR']==0), 'falcine']*60, 'ko', fillstyle='none',)\n",
    "plt.plot(T.loc[(T['embo']==1) & (T['NAR']==0), 'SS-MD'], T.loc[(T['embo']==1) & (T['NAR']==0), 'falcine']*60, 'ko')\n",
    "# NAR is red\n",
    "# plt.plot(T.loc[(T['embo']==0) & (T['NAR']==1), 'SS-MD'], T.loc[(T['embo']==0) & (T['NAR']==1), 'falcine']*60, 'ro', fillstyle='none',)\n",
    "# plt.plot(T.loc[(T['embo']==1) & (T['NAR']==1), 'SS-MD'], T.loc[(T['embo']==1) & (T['NAR']==1), 'falcine']*60, 'ro')\n",
    "plt.plot(T.loc[(T['embo']==0) & (T['NAR']==1), 'SS-MD'], T.loc[(T['embo']==0) & (T['NAR']==1), 'falcine']*60, 'ko', fillstyle='none',)\n",
    "plt.plot(T.loc[(T['embo']==1) & (T['NAR']==1), 'SS-MD'], T.loc[(T['embo']==1) & (T['NAR']==1), 'falcine']*60, 'ko')\n",
    "\n",
    "plt.xlabel('mediolateral diameter (mm)', fontsize=18)\n",
    "plt.ylabel('Falcine (ml/min)', fontsize=18)\n",
    "# plt.ylim([0, 300])\n",
    "# plt.xlim([-1, 65])\n",
    "plt.xticks(fontsize=18)\n",
    "plt.yticks(fontsize=18)\n",
    "plt.grid()\n",
    "d = np.polyfit(T['SS-MD'], T['falcine']*60, 1)\n",
    "f = np.poly1d(d)\n",
    "plt.plot(T['SS-MD'], f(T['SS-MD']), 'k-')\n",
    " \n",
    "for i, x in enumerate(T['ID_N']):\n",
    "    if i == 0:\n",
    "        plt.annotate('%i' % x, (T['SS-MD'][i]+.1, (T['falcine'][i]+1)*60))\n",
    "    elif i == 11:\n",
    "        plt.annotate('%i' % x, (T['SS-MD'][i]+.1, (T['falcine'][i]+1)*60))\n",
    "    elif i == 12:\n",
    "        plt.annotate('%i' % x, (T['SS-MD'][i]+.1, (T['falcine'][i]-1)*60))\n",
    "    else:\n",
    "        plt.annotate('%i' % x, (T['SS-MD'][i]+.1, T['falcine'][i]*60))\n",
    "\n",
    "# # M.W. second time point\n",
    "# plt.plot(4.52, 3.8, 'ko', fillstyle='none')\n",
    "# plt.annotate('3', (4.52+0.1, 3.8+0.1))\n",
    "\n",
    "fig = plt.gcf()\n",
    "plt.tight_layout()\n",
    "fig.savefig('fig4a_excld12.png')"
   ]
  },
  {
   "cell_type": "code",
   "execution_count": 15,
   "id": "c0a349b8-2836-4d82-838b-5f22c318f57e",
   "metadata": {},
   "outputs": [
    {
     "name": "stdout",
     "output_type": "stream",
     "text": [
      "                            OLS Regression Results                            \n",
      "==============================================================================\n",
      "Dep. Variable:     falcine_mlmin_root   R-squared:                       0.417\n",
      "Model:                            OLS   Adj. R-squared:                  0.372\n",
      "Method:                 Least Squares   F-statistic:                     9.281\n",
      "Date:                Thu, 15 Feb 2024   Prob (F-statistic):            0.00936\n",
      "Time:                        09:57:15   Log-Likelihood:                -17.363\n",
      "No. Observations:                  15   AIC:                             38.73\n",
      "Df Residuals:                      13   BIC:                             40.14\n",
      "Df Model:                           1                                         \n",
      "Covariance Type:            nonrobust                                         \n",
      "==============================================================================\n",
      "                 coef    std err          t      P>|t|      [0.025      0.975]\n",
      "------------------------------------------------------------------------------\n",
      "Intercept      2.7873      0.623      4.472      0.001       1.441       4.134\n",
      "SSMD           0.3478      0.114      3.047      0.009       0.101       0.595\n",
      "==============================================================================\n",
      "Omnibus:                        1.761   Durbin-Watson:                   2.195\n",
      "Prob(Omnibus):                  0.415   Jarque-Bera (JB):                0.501\n",
      "Skew:                           0.417   Prob(JB):                        0.779\n",
      "Kurtosis:                       3.326   Cond. No.                         16.4\n",
      "==============================================================================\n",
      "\n",
      "Notes:\n",
      "[1] Standard Errors assume that the covariance matrix of the errors is correctly specified.\n"
     ]
    },
    {
     "name": "stderr",
     "output_type": "stream",
     "text": [
      "/home/jeff/virtualenv/jupyterlab3/lib/python3.8/site-packages/scipy/stats/_stats_py.py:1477: UserWarning: kurtosistest only valid for n>=20 ... continuing anyway, n=15\n",
      "  warnings.warn(\"kurtosistest only valid for n>=20 ... continuing \"\n"
     ]
    },
    {
     "data": {
      "image/png": "[encoded data removed]",
      "text/plain": [
       "<Figure size 432x288 with 1 Axes>"
      ]
     },
     "metadata": {
      "needs_background": "light"
     },
     "output_type": "display_data"
    },
    {
     "name": "stdout",
     "output_type": "stream",
     "text": [
      "Intercept: 2.79 [1.44, 4.13] P=0.001\n",
      "SSMD: 0.35 [0.10, 0.59] P=0.009\n",
      "W=0.97, P=0.817\n",
      "                            OLS Regression Results                            \n",
      "==============================================================================\n",
      "Dep. Variable:     falcine_mlmin_root   R-squared:                       0.693\n",
      "Model:                            OLS   Adj. R-squared:                  0.642\n",
      "Method:                 Least Squares   F-statistic:                     13.53\n",
      "Date:                Thu, 15 Feb 2024   Prob (F-statistic):           0.000842\n",
      "Time:                        09:57:15   Log-Likelihood:                -12.554\n",
      "No. Observations:                  15   AIC:                             31.11\n",
      "Df Residuals:                      12   BIC:                             33.23\n",
      "Df Model:                           2                                         \n",
      "Covariance Type:            nonrobust                                         \n",
      "==============================================================================\n",
      "                 coef    std err          t      P>|t|      [0.025      0.975]\n",
      "------------------------------------------------------------------------------\n",
      "Intercept      3.1552      0.484      6.520      0.000       2.101       4.210\n",
      "SSMD           0.3876      0.087      4.451      0.001       0.198       0.577\n",
      "embo          -1.0722      0.326     -3.284      0.007      -1.784      -0.361\n",
      "==============================================================================\n",
      "Omnibus:                        0.962   Durbin-Watson:                   2.362\n",
      "Prob(Omnibus):                  0.618   Jarque-Bera (JB):                0.458\n",
      "Skew:                           0.420   Prob(JB):                        0.795\n",
      "Kurtosis:                       2.837   Cond. No.                         17.2\n",
      "==============================================================================\n",
      "\n",
      "Notes:\n",
      "[1] Standard Errors assume that the covariance matrix of the errors is correctly specified.\n"
     ]
    },
    {
     "name": "stderr",
     "output_type": "stream",
     "text": [
      "/home/jeff/virtualenv/jupyterlab3/lib/python3.8/site-packages/scipy/stats/_stats_py.py:1477: UserWarning: kurtosistest only valid for n>=20 ... continuing anyway, n=15\n",
      "  warnings.warn(\"kurtosistest only valid for n>=20 ... continuing \"\n"
     ]
    },
    {
     "data": {
      "image/png": "[encoded data removed]",
      "text/plain": [
       "<Figure size 432x288 with 1 Axes>"
      ]
     },
     "metadata": {
      "needs_background": "light"
     },
     "output_type": "display_data"
    },
    {
     "name": "stderr",
     "output_type": "stream",
     "text": [
      "/home/jeff/virtualenv/jupyterlab3/lib/python3.8/site-packages/scipy/stats/_stats_py.py:1477: UserWarning: kurtosistest only valid for n>=20 ... continuing anyway, n=15\n",
      "  warnings.warn(\"kurtosistest only valid for n>=20 ... continuing \"\n"
     ]
    },
    {
     "name": "stdout",
     "output_type": "stream",
     "text": [
      "Intercept: 3.16 [2.10, 4.21] P=0.000\n",
      "SSMD: 0.39 [0.20, 0.58] P=0.001\n",
      "embo: -1.07 [-1.78, -0.36] P=0.007\n",
      "W=0.98, P=0.969\n",
      "                            OLS Regression Results                            \n",
      "==============================================================================\n",
      "Dep. Variable:     falcine_mlmin_root   R-squared:                       0.732\n",
      "Model:                            OLS   Adj. R-squared:                  0.660\n",
      "Method:                 Least Squares   F-statistic:                     10.04\n",
      "Date:                Thu, 15 Feb 2024   Prob (F-statistic):            0.00176\n",
      "Time:                        09:57:15   Log-Likelihood:                -11.514\n",
      "No. Observations:                  15   AIC:                             31.03\n",
      "Df Residuals:                      11   BIC:                             33.86\n",
      "Df Model:                           3                                         \n",
      "Covariance Type:            nonrobust                                         \n",
      "==============================================================================\n",
      "                 coef    std err          t      P>|t|      [0.025      0.975]\n",
      "------------------------------------------------------------------------------\n",
      "Intercept      3.2247      0.475      6.793      0.000       2.180       4.269\n",
      "SSMD           0.3551      0.089      4.008      0.002       0.160       0.550\n",
      "embo          -1.0443      0.319     -3.274      0.007      -1.746      -0.342\n",
      "NAR            0.6176      0.483      1.279      0.227      -0.445       1.680\n",
      "==============================================================================\n",
      "Omnibus:                        0.885   Durbin-Watson:                   2.344\n",
      "Prob(Omnibus):                  0.642   Jarque-Bera (JB):                0.679\n",
      "Skew:                          -0.072   Prob(JB):                        0.712\n",
      "Kurtosis:                       1.967   Cond. No.                         18.1\n",
      "==============================================================================\n",
      "\n",
      "Notes:\n",
      "[1] Standard Errors assume that the covariance matrix of the errors is correctly specified.\n"
     ]
    },
    {
     "data": {
      "image/png": "[encoded data removed]",
      "text/plain": [
       "<Figure size 432x288 with 1 Axes>"
      ]
     },
     "metadata": {
      "needs_background": "light"
     },
     "output_type": "display_data"
    },
    {
     "name": "stdout",
     "output_type": "stream",
     "text": [
      "Intercept: 3.22 [2.18, 4.27] P=0.000\n",
      "SSMD: 0.36 [0.16, 0.55] P=0.002\n",
      "embo: -1.04 [-1.75, -0.34] P=0.007\n",
      "NAR: 0.62 [-0.45, 1.68] P=0.227\n",
      "W=0.97, P=0.849\n"
     ]
    }
   ],
   "source": [
    "# Falcine models\n",
    "# fourth root\n",
    "\n",
    "# Helper function to format the statmodels output for direct copy into the results table\n",
    "def format_result(result):\n",
    "    output = \"\"\n",
    "    for name in result.model.exog_names:\n",
    "        coef = result.params.loc[name] # Get the coefficient estimate\n",
    "        lower = result.conf_int().loc[name, 0] # Get the lower limit of the confidence interval\n",
    "        upper = result.conf_int().loc[name, 1] # Get the upper limit of the confidence interval\n",
    "        pvalue = result.pvalues.loc[name] # Get the p-value\n",
    "        # Format the output as \"name: coef [lower, upper] pvalue =\"\n",
    "        output += f\"{name}: {coef:.2f} [{lower:.2f}, {upper:.2f}] P={pvalue:.3f}\\n\"\n",
    "    SW = scipy.stats.shapiro(result.resid)\n",
    "    output += f\"W={SW.statistic:.2f}, P={SW.pvalue:.3f}\"\n",
    "    return output\n",
    "\n",
    "\n",
    "T['falcine_mlmin_root'] = (T['falcine'] * 60) ** (1/4)\n",
    "\n",
    "mod = smf.ols(formula=\"falcine_mlmin_root ~ SSMD\", data=T) # And embo is not significant (Does that make sense?)\n",
    "res = mod.fit()\n",
    "print(res.summary())\n",
    "plt.hist(res.resid)\n",
    "plt.show()\n",
    "print(format_result(res))\n",
    "\n",
    "mod = smf.ols(formula=\"falcine_mlmin_root ~ SSMD + embo\", data=T) # And embo is not significant (Does that make sense?)\n",
    "res = mod.fit()\n",
    "print(res.summary())\n",
    "plt.hist(res.resid)\n",
    "plt.show()\n",
    "print(format_result(res))\n",
    "\n",
    "mod = smf.ols(formula=\"falcine_mlmin_root ~ SSMD + embo + NAR\", data=T) # And embo is not significant (Does that make sense?)\n",
    "res = mod.fit()\n",
    "print(res.summary())\n",
    "plt.hist(res.resid)\n",
    "plt.show()\n",
    "print(format_result(res))"
   ]
  },
  {
   "cell_type": "code",
   "execution_count": 16,
   "id": "4d2e52c0-67f2-4184-9dd7-75f4cb8394d6",
   "metadata": {},
   "outputs": [
    {
     "data": {
      "image/png": "[encoded data removed]",
      "text/plain": [
       "<Figure size 432x288 with 1 Axes>"
      ]
     },
     "metadata": {
      "needs_background": "light"
     },
     "output_type": "display_data"
    }
   ],
   "source": [
    "### Figure 2b\n",
    "# Falcince:Inflow versus SS-MD. This is really abnormal\n",
    "# So this is an interesting plot when compared with the normal data that goes from 100ml/min at birth to 550ml/min at 60 weeks (ref: Varela, Liu)\n",
    "# abstract style, all solid\n",
    "# plt.plot(T['SS-MD'], T['falcine']*60, 'ko')\n",
    "\n",
    "# # No red/black for NAR, ALL Black\n",
    "# # No NAR is black\n",
    "# plt.plot(T.loc[(T['embo']==0) , 'SS-MD'], T.loc[(T['embo']==0) , 'falcine']*60, 'ko', fillstyle='none',)\n",
    "# plt.plot(T.loc[(T['embo']==1) , 'SS-MD'], T.loc[(T['embo']==1) , 'falcine']*60, 'ko')\n",
    "\n",
    "# No NAR is black\n",
    "plt.plot(T.loc[(T['embo']==0) & (T['NAR']==0), 'SS-MD'], T.loc[(T['embo']==0) & (T['NAR']==0), 'falcine_mlmin_root'], 'ko', fillstyle='none',)\n",
    "plt.plot(T.loc[(T['embo']==1) & (T['NAR']==0), 'SS-MD'], T.loc[(T['embo']==1) & (T['NAR']==0), 'falcine_mlmin_root'], 'ko')\n",
    "# NAR is red\n",
    "# plt.plot(T.loc[(T['embo']==0) & (T['NAR']==1), 'SS-MD'], T.loc[(T['embo']==0) & (T['NAR']==1), 'falcine']*60, 'ro', fillstyle='none',)\n",
    "# plt.plot(T.loc[(T['embo']==1) & (T['NAR']==1), 'SS-MD'], T.loc[(T['embo']==1) & (T['NAR']==1), 'falcine']*60, 'ro')\n",
    "plt.plot(T.loc[(T['embo']==0) & (T['NAR']==1), 'SS-MD'], T.loc[(T['embo']==0) & (T['NAR']==1), 'falcine_mlmin_root'], 'ko', fillstyle='none',)\n",
    "plt.plot(T.loc[(T['embo']==1) & (T['NAR']==1), 'SS-MD'], T.loc[(T['embo']==1) & (T['NAR']==1), 'falcine_mlmin_root'], 'ko')\n",
    "\n",
    "plt.xlabel('mediolateral diameter (mm)', fontsize=18)\n",
    "plt.ylabel('\\u221C(Falcine flow ml/min)', fontsize=18)\n",
    "# plt.ylim([0, 300])\n",
    "# plt.xlim([-1, 65])\n",
    "plt.xticks(fontsize=18)\n",
    "plt.yticks(fontsize=18)\n",
    "plt.grid()\n",
    "d = np.polyfit(T['SS-MD'], T['falcine_mlmin_root'], 1)\n",
    "f = np.poly1d(d)\n",
    "plt.plot(T['SS-MD'], f(T['SS-MD']), 'k-')\n",
    " \n",
    "for i, x in enumerate(T['ID_N']):\n",
    "    if i == 0:\n",
    "        plt.annotate('%i' % x, (T['SS-MD'][i]+.1, (T['falcine_mlmin_root'][i])))\n",
    "    elif i == 11:\n",
    "        plt.annotate('%i' % x, (T['SS-MD'][i]+.1, (T['falcine_mlmin_root'][i])))\n",
    "    elif i == 12:\n",
    "        plt.annotate('%i' % x, (T['SS-MD'][i]+.1, (T['falcine_mlmin_root'][i])))\n",
    "    else:\n",
    "        plt.annotate('%i' % x, (T['SS-MD'][i]+.1, T['falcine_mlmin_root'][i]))\n",
    "\n",
    "# # M.W. second time point\n",
    "# plt.plot(4.52, 3.8, 'ko', fillstyle='none')\n",
    "# plt.annotate('3', (4.52+0.1, 3.8+0.1))\n",
    "\n",
    "fig = plt.gcf()\n",
    "plt.tight_layout()\n",
    "fig.savefig('fig4c_excld12.png')"
   ]
  },
  {
   "cell_type": "code",
   "execution_count": 17,
   "id": "92ca3ab1-23b2-4471-8e42-688f84715029",
   "metadata": {},
   "outputs": [
    {
     "name": "stdout",
     "output_type": "stream",
     "text": [
      "                            OLS Regression Results                            \n",
      "==============================================================================\n",
      "Dep. Variable:          cortical_flow   R-squared:                       0.156\n",
      "Model:                            OLS   Adj. R-squared:                  0.092\n",
      "Method:                 Least Squares   F-statistic:                     2.411\n",
      "Date:                Thu, 15 Feb 2024   Prob (F-statistic):              0.144\n",
      "Time:                        09:57:15   Log-Likelihood:                -100.75\n",
      "No. Observations:                  15   AIC:                             205.5\n",
      "Df Residuals:                      13   BIC:                             206.9\n",
      "Df Model:                           1                                         \n",
      "Covariance Type:            nonrobust                                         \n",
      "=====================================================================================\n",
      "                        coef    std err          t      P>|t|      [0.025      0.975]\n",
      "-------------------------------------------------------------------------------------\n",
      "Intercept           369.1573     99.024      3.728      0.003     155.230     583.085\n",
      "age_at_scan_weeks     5.0020      3.221      1.553      0.144      -1.957      11.961\n",
      "==============================================================================\n",
      "Omnibus:                        2.407   Durbin-Watson:                   1.869\n",
      "Prob(Omnibus):                  0.300   Jarque-Bera (JB):                1.756\n",
      "Skew:                           0.690   Prob(JB):                        0.416\n",
      "Kurtosis:                       2.049   Cond. No.                         54.9\n",
      "==============================================================================\n",
      "\n",
      "Notes:\n",
      "[1] Standard Errors assume that the covariance matrix of the errors is correctly specified.\n"
     ]
    },
    {
     "name": "stderr",
     "output_type": "stream",
     "text": [
      "/home/jeff/virtualenv/jupyterlab3/lib/python3.8/site-packages/scipy/stats/_stats_py.py:1477: UserWarning: kurtosistest only valid for n>=20 ... continuing anyway, n=15\n",
      "  warnings.warn(\"kurtosistest only valid for n>=20 ... continuing \"\n"
     ]
    },
    {
     "data": {
      "image/png": "[encoded data removed]",
      "text/plain": [
       "<Figure size 432x288 with 1 Axes>"
      ]
     },
     "metadata": {
      "needs_background": "light"
     },
     "output_type": "display_data"
    },
    {
     "name": "stdout",
     "output_type": "stream",
     "text": [
      "Intercept: 369.16 [155.23, 583.08] P=0.003\n",
      "age_at_scan_weeks: 5.00 [-1.96, 11.96] P=0.144\n",
      "W=0.87, P=0.038\n",
      "                            OLS Regression Results                            \n",
      "==============================================================================\n",
      "Dep. Variable:          cortical_flow   R-squared:                       0.164\n",
      "Model:                            OLS   Adj. R-squared:                  0.025\n",
      "Method:                 Least Squares   F-statistic:                     1.177\n",
      "Date:                Thu, 15 Feb 2024   Prob (F-statistic):              0.341\n",
      "Time:                        09:57:15   Log-Likelihood:                -100.68\n",
      "No. Observations:                  15   AIC:                             207.4\n",
      "Df Residuals:                      12   BIC:                             209.5\n",
      "Df Model:                           2                                         \n",
      "Covariance Type:            nonrobust                                         \n",
      "=====================================================================================\n",
      "                        coef    std err          t      P>|t|      [0.025      0.975]\n",
      "-------------------------------------------------------------------------------------\n",
      "Intercept           346.5656    123.467      2.807      0.016      77.555     615.576\n",
      "age_at_scan_weeks     5.0930      3.349      1.521      0.154      -2.204      12.390\n",
      "embo                 38.0125    115.551      0.329      0.748    -213.750     289.776\n",
      "==============================================================================\n",
      "Omnibus:                        2.470   Durbin-Watson:                   1.894\n",
      "Prob(Omnibus):                  0.291   Jarque-Bera (JB):                1.853\n",
      "Skew:                           0.739   Prob(JB):                        0.396\n",
      "Kurtosis:                       2.115   Cond. No.                         79.9\n",
      "==============================================================================\n",
      "\n",
      "Notes:\n",
      "[1] Standard Errors assume that the covariance matrix of the errors is correctly specified.\n"
     ]
    },
    {
     "name": "stderr",
     "output_type": "stream",
     "text": [
      "/home/jeff/virtualenv/jupyterlab3/lib/python3.8/site-packages/scipy/stats/_stats_py.py:1477: UserWarning: kurtosistest only valid for n>=20 ... continuing anyway, n=15\n",
      "  warnings.warn(\"kurtosistest only valid for n>=20 ... continuing \"\n"
     ]
    },
    {
     "data": {
      "image/png": "[encoded data removed]",
      "text/plain": [
       "<Figure size 432x288 with 1 Axes>"
      ]
     },
     "metadata": {
      "needs_background": "light"
     },
     "output_type": "display_data"
    },
    {
     "name": "stderr",
     "output_type": "stream",
     "text": [
      "/home/jeff/virtualenv/jupyterlab3/lib/python3.8/site-packages/scipy/stats/_stats_py.py:1477: UserWarning: kurtosistest only valid for n>=20 ... continuing anyway, n=15\n",
      "  warnings.warn(\"kurtosistest only valid for n>=20 ... continuing \"\n"
     ]
    },
    {
     "name": "stdout",
     "output_type": "stream",
     "text": [
      "Intercept: 346.57 [77.55, 615.58] P=0.016\n",
      "age_at_scan_weeks: 5.09 [-2.20, 12.39] P=0.154\n",
      "embo: 38.01 [-213.75, 289.78] P=0.748\n",
      "W=0.86, P=0.026\n",
      "                            OLS Regression Results                            \n",
      "==============================================================================\n",
      "Dep. Variable:          cortical_flow   R-squared:                       0.335\n",
      "Model:                            OLS   Adj. R-squared:                  0.153\n",
      "Method:                 Least Squares   F-statistic:                     1.845\n",
      "Date:                Thu, 15 Feb 2024   Prob (F-statistic):              0.197\n",
      "Time:                        09:57:15   Log-Likelihood:                -98.971\n",
      "No. Observations:                  15   AIC:                             205.9\n",
      "Df Residuals:                      11   BIC:                             208.8\n",
      "Df Model:                           3                                         \n",
      "Covariance Type:            nonrobust                                         \n",
      "=====================================================================================\n",
      "                        coef    std err          t      P>|t|      [0.025      0.975]\n",
      "-------------------------------------------------------------------------------------\n",
      "Intercept           491.7288    143.854      3.418      0.006     175.107     808.350\n",
      "age_at_scan_weeks     1.4245      3.808      0.374      0.715      -6.957       9.806\n",
      "embo                 21.7880    108.089      0.202      0.844    -216.115     259.691\n",
      "NAR                -323.0430    192.229     -1.681      0.121    -746.136     100.050\n",
      "==============================================================================\n",
      "Omnibus:                        0.781   Durbin-Watson:                   1.561\n",
      "Prob(Omnibus):                  0.677   Jarque-Bera (JB):                0.735\n",
      "Skew:                           0.426   Prob(JB):                        0.692\n",
      "Kurtosis:                       2.329   Cond. No.                         126.\n",
      "==============================================================================\n",
      "\n",
      "Notes:\n",
      "[1] Standard Errors assume that the covariance matrix of the errors is correctly specified.\n"
     ]
    },
    {
     "data": {
      "image/png": "[encoded data removed]",
      "text/plain": [
       "<Figure size 432x288 with 1 Axes>"
      ]
     },
     "metadata": {
      "needs_background": "light"
     },
     "output_type": "display_data"
    },
    {
     "name": "stdout",
     "output_type": "stream",
     "text": [
      "Intercept: 491.73 [175.11, 808.35] P=0.006\n",
      "age_at_scan_weeks: 1.42 [-6.96, 9.81] P=0.715\n",
      "embo: 21.79 [-216.12, 259.69] P=0.844\n",
      "NAR: -323.04 [-746.14, 100.05] P=0.121\n",
      "W=0.95, P=0.489\n"
     ]
    }
   ],
   "source": [
    "## A bit more about cortical flow:\n",
    "mod = smf.ols(formula=\"cortical_flow ~ age_at_scan_weeks\", data=T)\n",
    "res = mod.fit()\n",
    "print(res.summary())\n",
    "plt.hist(res.resid)\n",
    "plt.show()\n",
    "print(format_result(res))\n",
    "\n",
    "\n",
    "mod = smf.ols(formula=\"cortical_flow ~ age_at_scan_weeks + embo\", data=T)\n",
    "res = mod.fit()\n",
    "print(res.summary())\n",
    "plt.hist(res.resid)\n",
    "plt.show()\n",
    "print(format_result(res))\n",
    "\n",
    "mod = smf.ols(formula=\"cortical_flow ~ age_at_scan_weeks + embo + NAR\", data=T)\n",
    "res = mod.fit()\n",
    "print(res.summary())\n",
    "plt.hist(res.resid)\n",
    "plt.show()\n",
    "print(format_result(res))"
   ]
  },
  {
   "cell_type": "code",
   "execution_count": 18,
   "id": "15673494-9849-41f2-bd8b-9d6bb8770afe",
   "metadata": {},
   "outputs": [
    {
     "name": "stdout",
     "output_type": "stream",
     "text": [
      "                            OLS Regression Results                            \n",
      "==============================================================================\n",
      "Dep. Variable:              SSS_mlmin   R-squared:                       0.668\n",
      "Model:                            OLS   Adj. R-squared:                  0.627\n",
      "Method:                 Least Squares   F-statistic:                     16.11\n",
      "Date:                Thu, 15 Feb 2024   Prob (F-statistic):            0.00387\n",
      "Time:                        09:57:15   Log-Likelihood:                -54.159\n",
      "No. Observations:                  10   AIC:                             112.3\n",
      "Df Residuals:                       8   BIC:                             112.9\n",
      "Df Model:                           1                                         \n",
      "Covariance Type:            nonrobust                                         \n",
      "=====================================================================================\n",
      "                        coef    std err          t      P>|t|      [0.025      0.975]\n",
      "-------------------------------------------------------------------------------------\n",
      "Intercept             6.7003     30.213      0.222      0.830     -62.971      76.372\n",
      "age_at_scan_weeks     4.5077      1.123      4.014      0.004       1.918       7.097\n",
      "==============================================================================\n",
      "Omnibus:                        0.502   Durbin-Watson:                   1.203\n",
      "Prob(Omnibus):                  0.778   Jarque-Bera (JB):                0.009\n",
      "Skew:                           0.006   Prob(JB):                        0.996\n",
      "Kurtosis:                       2.855   Cond. No.                         42.3\n",
      "==============================================================================\n",
      "\n",
      "Notes:\n",
      "[1] Standard Errors assume that the covariance matrix of the errors is correctly specified.\n"
     ]
    },
    {
     "name": "stderr",
     "output_type": "stream",
     "text": [
      "/home/jeff/virtualenv/jupyterlab3/lib/python3.8/site-packages/scipy/stats/_stats_py.py:1477: UserWarning: kurtosistest only valid for n>=20 ... continuing anyway, n=10\n",
      "  warnings.warn(\"kurtosistest only valid for n>=20 ... continuing \"\n"
     ]
    },
    {
     "data": {
      "image/png": "[encoded data removed]",
      "text/plain": [
       "<Figure size 432x288 with 1 Axes>"
      ]
     },
     "metadata": {
      "needs_background": "light"
     },
     "output_type": "display_data"
    },
    {
     "name": "stdout",
     "output_type": "stream",
     "text": [
      "Intercept: 6.70 [-62.97, 76.37] P=0.830\n",
      "age_at_scan_weeks: 4.51 [1.92, 7.10] P=0.004\n",
      "W=0.98, P=0.972\n",
      "                            OLS Regression Results                            \n",
      "==============================================================================\n",
      "Dep. Variable:              SSS_mlmin   R-squared:                       0.737\n",
      "Model:                            OLS   Adj. R-squared:                  0.661\n",
      "Method:                 Least Squares   F-statistic:                     9.794\n",
      "Date:                Thu, 15 Feb 2024   Prob (F-statistic):            0.00936\n",
      "Time:                        09:57:16   Log-Likelihood:                -53.003\n",
      "No. Observations:                  10   AIC:                             112.0\n",
      "Df Residuals:                       7   BIC:                             112.9\n",
      "Df Model:                           2                                         \n",
      "Covariance Type:            nonrobust                                         \n",
      "=====================================================================================\n",
      "                        coef    std err          t      P>|t|      [0.025      0.975]\n",
      "-------------------------------------------------------------------------------------\n",
      "Intercept           -33.5784     41.463     -0.810      0.445    -131.623      64.466\n",
      "age_at_scan_weeks     5.1460      1.169      4.401      0.003       2.381       7.911\n",
      "embo                 54.0778     40.081      1.349      0.219     -40.699     148.855\n",
      "==============================================================================\n",
      "Omnibus:                        0.652   Durbin-Watson:                   1.340\n",
      "Prob(Omnibus):                  0.722   Jarque-Bera (JB):                0.541\n",
      "Skew:                           0.031   Prob(JB):                        0.763\n",
      "Kurtosis:                       1.862   Cond. No.                         78.6\n",
      "==============================================================================\n",
      "\n",
      "Notes:\n",
      "[1] Standard Errors assume that the covariance matrix of the errors is correctly specified.\n"
     ]
    },
    {
     "name": "stderr",
     "output_type": "stream",
     "text": [
      "/home/jeff/virtualenv/jupyterlab3/lib/python3.8/site-packages/scipy/stats/_stats_py.py:1477: UserWarning: kurtosistest only valid for n>=20 ... continuing anyway, n=10\n",
      "  warnings.warn(\"kurtosistest only valid for n>=20 ... continuing \"\n"
     ]
    },
    {
     "data": {
      "image/png": "[encoded data removed]",
      "text/plain": [
       "<Figure size 432x288 with 1 Axes>"
      ]
     },
     "metadata": {
      "needs_background": "light"
     },
     "output_type": "display_data"
    },
    {
     "name": "stdout",
     "output_type": "stream",
     "text": [
      "Intercept: -33.58 [-131.62, 64.47] P=0.445\n",
      "age_at_scan_weeks: 5.15 [2.38, 7.91] P=0.003\n",
      "embo: 54.08 [-40.70, 148.86] P=0.219\n",
      "W=0.96, P=0.758\n",
      "                            OLS Regression Results                            \n",
      "==============================================================================\n",
      "Dep. Variable:              SSS_mlmin   R-squared:                       0.788\n",
      "Model:                            OLS   Adj. R-squared:                  0.682\n",
      "Method:                 Least Squares   F-statistic:                     7.441\n",
      "Date:                Thu, 15 Feb 2024   Prob (F-statistic):             0.0191\n",
      "Time:                        09:57:16   Log-Likelihood:                -51.916\n",
      "No. Observations:                  10   AIC:                             111.8\n",
      "Df Residuals:                       6   BIC:                             113.0\n",
      "Df Model:                           3                                         \n",
      "Covariance Type:            nonrobust                                         \n",
      "=====================================================================================\n",
      "                        coef    std err          t      P>|t|      [0.025      0.975]\n",
      "-------------------------------------------------------------------------------------\n",
      "Intercept           -79.6108     55.389     -1.437      0.201    -215.144      55.922\n",
      "age_at_scan_weeks     6.3022      1.484      4.248      0.005       2.672       9.932\n",
      "embo                 70.1105     41.042      1.708      0.138     -30.315     170.536\n",
      "NAR                  70.1694     58.130      1.207      0.273     -72.068     212.407\n",
      "==============================================================================\n",
      "Omnibus:                        2.967   Durbin-Watson:                   1.422\n",
      "Prob(Omnibus):                  0.227   Jarque-Bera (JB):                1.018\n",
      "Skew:                           0.212   Prob(JB):                        0.601\n",
      "Kurtosis:                       1.496   Cond. No.                         118.\n",
      "==============================================================================\n",
      "\n",
      "Notes:\n",
      "[1] Standard Errors assume that the covariance matrix of the errors is correctly specified.\n"
     ]
    },
    {
     "name": "stderr",
     "output_type": "stream",
     "text": [
      "/home/jeff/virtualenv/jupyterlab3/lib/python3.8/site-packages/scipy/stats/_stats_py.py:1477: UserWarning: kurtosistest only valid for n>=20 ... continuing anyway, n=10\n",
      "  warnings.warn(\"kurtosistest only valid for n>=20 ... continuing \"\n"
     ]
    },
    {
     "data": {
      "image/png": "[encoded data removed]",
      "text/plain": [
       "<Figure size 432x288 with 1 Axes>"
      ]
     },
     "metadata": {
      "needs_background": "light"
     },
     "output_type": "display_data"
    },
    {
     "name": "stdout",
     "output_type": "stream",
     "text": [
      "Intercept: -79.61 [-215.14, 55.92] P=0.201\n",
      "age_at_scan_weeks: 6.30 [2.67, 9.93] P=0.005\n",
      "embo: 70.11 [-30.32, 170.54] P=0.138\n",
      "NAR: 70.17 [-72.07, 212.41] P=0.273\n",
      "W=0.89, P=0.172\n"
     ]
    }
   ],
   "source": [
    "## SSS \n",
    "mod = smf.ols(formula=\"SSS_mlmin ~ age_at_scan_weeks\", data=T) # And embo is not significant (Does that make sense?)\n",
    "res = mod.fit()\n",
    "print(res.summary())\n",
    "plt.hist(res.resid)\n",
    "plt.show()\n",
    "print(format_result(res))\n",
    "\n",
    "## So relating falcine flow to SSMD including a categorical effect of embolizaiton works really well without Labady, and with him still looks alright\n",
    "mod = smf.ols(formula=\"SSS_mlmin ~ age_at_scan_weeks + embo\", data=T) # And embo is not significant (Does that make sense?)\n",
    "res = mod.fit()\n",
    "print(res.summary())\n",
    "plt.hist(res.resid)\n",
    "plt.show()\n",
    "print(format_result(res))\n",
    "\n",
    "## Probably a stretch, but nearly significant\n",
    "mod = smf.ols(formula=\"SSS_mlmin ~ age_at_scan_weeks + embo + NAR\", data=T) # And embo is not significant (Does that make sense?)\n",
    "res = mod.fit()\n",
    "print(res.summary())\n",
    "plt.hist(res.resid)\n",
    "plt.show()\n",
    "print(format_result(res))\n",
    "\n"
   ]
  },
  {
   "cell_type": "code",
   "execution_count": 19,
   "id": "78bdfc93-6ba3-49ed-b8ac-b19f1e2dd759",
   "metadata": {},
   "outputs": [],
   "source": [
    "## I would really like to know how the MCA/PCA ratio looks"
   ]
  },
  {
   "cell_type": "code",
   "execution_count": 20,
   "id": "0f6dbd36-03b2-4ba3-afcd-e0abdd9ef52f",
   "metadata": {},
   "outputs": [],
   "source": [
    "# Now that you have PCA flows, calc the ratio\n",
    "T.keys()\n",
    "T['R_PCAMCA'] = T['RPCA'] / T['RMCA']\n",
    "T['L_PCAMCA'] = T['LPCA'] / T['LMCA']"
   ]
  },
  {
   "cell_type": "code",
   "execution_count": 21,
   "id": "35b0f367-a92b-47e7-ad92-af3bf4332a74",
   "metadata": {},
   "outputs": [
    {
     "data": {
      "image/png": "[encoded data removed]",
      "text/plain": [
       "<Figure size 432x288 with 1 Axes>"
      ]
     },
     "metadata": {
      "needs_background": "light"
     },
     "output_type": "display_data"
    }
   ],
   "source": [
    "## RPCMCA versus GA. \n",
    "\n",
    "# plt.plot(T['age_at_scan_weeks'], T['SSS']*60, 'ko')\n",
    "plt.plot(T.loc[T['embo']==0, 'age_at_scan_weeks'], T.loc[T['embo']==0, 'R_PCAMCA'], 'ko', fillstyle='none',)\n",
    "plt.plot(T.loc[T['embo']==1, 'age_at_scan_weeks'], T.loc[T['embo']==1, 'R_PCAMCA'], 'ko')\n",
    "plt.xlabel('Age at scan (weeks)', fontsize=18)\n",
    "plt.ylabel('right PCA/MCA', fontsize=18)\n",
    "plt.ylim([0, 16])\n",
    "plt.xlim([-1, 65])\n",
    "plt.xticks(fontsize=18)\n",
    "plt.yticks(fontsize=18)\n",
    "plt.grid()\n",
    "\n",
    "# # Trendline\n",
    "T_nan = T.dropna(subset=['R_PCAMCA']) # This wasn't plotting, becasue of nan in the SSS column\n",
    "d = np.polyfit(T_nan['age_at_scan_weeks'], T_nan['R_PCAMCA'], 1)\n",
    "f = np.poly1d(d)\n",
    "plot_x = [np.min(T_nan['age_at_scan_weeks']), np.max(T_nan['age_at_scan_weeks'])]\n",
    "plt.plot(plot_x, f(plot_x), 'k-')\n",
    "\n",
    "# ax = plt.gca()\n",
    "# # ax.axhspan(100, 550, xmin=0, xmax=1, alpha=0.2, color='black')\n",
    "\n",
    "# for i, x in enumerate(T['SS-MD']):\n",
    "#     plt.annotate('%i' % (i+1), (T['age_at_scan_weeks'][i]+1, (T['SSS'][i]+0.1)*60))\n",
    "for i, x in enumerate(T['ID_N']):\n",
    "    if i == 1: # move it down a bit\n",
    "        plt.annotate('%i' % x, (T['age_at_scan_weeks'][i]+1, T['R_PCAMCA'][i] + 0.4))\n",
    "    elif i == 4: # move it down a bit\n",
    "        plt.annotate('%i' % x, (T['age_at_scan_weeks'][i]+1, T['R_PCAMCA'][i] - 0.4))\n",
    "    else:\n",
    "        plt.annotate('%i' % x, (T['age_at_scan_weeks'][i]+1, T['R_PCAMCA'][i]))\n",
    "\n",
    "# # SSS from Can Wu\n",
    "# sss_data = pd.read_excel('Vessel Blood Flow Can Wu 2017.xlsx', header=3)\n",
    "# # plt.plot(52 * sss_data.loc[sss_data['Age [Y]']<1.6, 'Age [Y]'], 60 * sss_data.loc[sss_data['Age [Y]']<1.6, 'SSS'], 'kx')\n",
    "# # plt.xlim([-1, 70])\n",
    "# plt.ylim([-20, 450])\n",
    "# ax.axhspan(np.min(sss_data.loc[sss_data['Age [Y]']<1.6, 'SSS'])*60, np.max(sss_data.loc[sss_data['Age [Y]']<1.6, 'SSS'])*60, alpha=0.2, color='black')\n",
    "        \n",
    "fig = plt.gcf()\n",
    "plt.tight_layout()\n",
    "fig.savefig('fig3f_excld12.png')"
   ]
  },
  {
   "cell_type": "code",
   "execution_count": 22,
   "id": "a9e901e7-c8b2-4187-bd6b-e5ec4c4fc194",
   "metadata": {},
   "outputs": [
    {
     "data": {
      "image/png": "[encoded data removed]",
      "text/plain": [
       "<Figure size 432x288 with 1 Axes>"
      ]
     },
     "metadata": {
      "needs_background": "light"
     },
     "output_type": "display_data"
    }
   ],
   "source": [
    "## LPCMCA versus GA. \n",
    "\n",
    "# plt.plot(T['age_at_scan_weeks'], T['SSS']*60, 'ko')\n",
    "plt.plot(T.loc[T['embo']==0, 'age_at_scan_weeks'], T.loc[T['embo']==0, 'L_PCAMCA'], 'ko', fillstyle='none',)\n",
    "plt.plot(T.loc[T['embo']==1, 'age_at_scan_weeks'], T.loc[T['embo']==1, 'L_PCAMCA'], 'ko')\n",
    "plt.xlabel('Age at scan (weeks)', fontsize=18)\n",
    "plt.ylabel('left PCA/MCA', fontsize=18)\n",
    "plt.ylim([0, 16.5])\n",
    "plt.xlim([-1, 65])\n",
    "plt.xticks(fontsize=18)\n",
    "plt.yticks(fontsize=18)\n",
    "plt.grid()\n",
    "\n",
    "# # Trendline\n",
    "T_nan = T.dropna(subset=['L_PCAMCA']) # This wasn't plotting, becasue of nan in the SSS column\n",
    "d = np.polyfit(T_nan['age_at_scan_weeks'], T_nan['L_PCAMCA'], 1)\n",
    "f = np.poly1d(d)\n",
    "plot_x = [np.min(T_nan['age_at_scan_weeks']), np.max(T_nan['age_at_scan_weeks'])]\n",
    "plt.plot(plot_x, f(plot_x), 'k-')\n",
    "\n",
    "# ax = plt.gca()\n",
    "# # ax.axhspan(100, 550, xmin=0, xmax=1, alpha=0.2, color='black')\n",
    "\n",
    "# for i, x in enumerate(T['SS-MD']):\n",
    "#     plt.annotate('%i' % (i+1), (T['age_at_scan_weeks'][i]+1, (T['SSS'][i]+0.1)*60))\n",
    "for i, x in enumerate(T['ID_N']):\n",
    "    if i == 11: # move it down a bit\n",
    "        plt.annotate('%i' % x, (T['age_at_scan_weeks'][i]+1, T['L_PCAMCA'][i]-0.5))\n",
    "    elif x == 11 and i == 11:\n",
    "        plt.annotate('%i' % x, (T['age_at_scan_weeks'][i]+1, T['L_PCAMCA'][i]))\n",
    "    else:\n",
    "        plt.annotate('%i' % x, (T['age_at_scan_weeks'][i]+1, T['L_PCAMCA'][i]))\n",
    "        \n",
    "fig = plt.gcf()\n",
    "plt.tight_layout()\n",
    "fig.savefig('fig3e_excld12.png')"
   ]
  },
  {
   "cell_type": "code",
   "execution_count": 23,
   "id": "d3a3a18e-f662-49ae-b8a5-784d953ebf32",
   "metadata": {},
   "outputs": [
    {
     "data": {
      "text/plain": [
       "0      1.048485\n",
       "1      3.429185\n",
       "2           NaN\n",
       "3           NaN\n",
       "4      0.986301\n",
       "5      1.068259\n",
       "6     11.590909\n",
       "7     15.384615\n",
       "8           NaN\n",
       "9      2.441718\n",
       "10     4.040984\n",
       "11     1.235537\n",
       "12     1.635135\n",
       "13     1.954128\n",
       "14     1.046053\n",
       "Name: L_PCAMCA, dtype: float64"
      ]
     },
     "execution_count": 23,
     "metadata": {},
     "output_type": "execute_result"
    }
   ],
   "source": [
    "T['L_PCAMCA']"
   ]
  },
  {
   "cell_type": "code",
   "execution_count": 24,
   "id": "f973a38f-0571-4dcb-adf3-6df836b01bf1",
   "metadata": {},
   "outputs": [
    {
     "data": {
      "image/png": "[encoded data removed]",
      "text/plain": [
       "<Figure size 432x288 with 1 Axes>"
      ]
     },
     "metadata": {
      "needs_background": "light"
     },
     "output_type": "display_data"
    }
   ],
   "source": [
    "### PCA/MCA versus time after embo\n",
    "\n",
    "# Falcine versus day of embo.\n",
    "# So this is an interesting plot when compared with Wu et al. 2016\n",
    "\n",
    "T_plot = T.loc[(T['ID_N']==2) | (T['ID_N']==11)].reset_index(drop=True)\n",
    "\n",
    "plt.plot(T_plot.loc[T_plot['embo']==0, 'embo_time_days'], T_plot.loc[T_plot['embo']==0, 'L_PCAMCA'], 'ko', fillstyle='none',)\n",
    "plt.plot(T_plot.loc[T_plot['embo']==1, 'embo_time_days'], T_plot.loc[T_plot['embo']==1, 'L_PCAMCA'], 'ko')\n",
    "\n",
    "plt.xlabel('Time after embolization (days)', fontsize=18)\n",
    "plt.ylabel('left PCA/MCA', fontsize=18)\n",
    "plt.ylim([0, 4])\n",
    "# plt.xlim([-1, 65])\n",
    "plt.xticks(fontsize=18)\n",
    "plt.yticks(fontsize=18)\n",
    "plt.grid(axis=\"both\")\n",
    "\n",
    "ax1 = plt.gca()\n",
    "for i, x in enumerate(T_plot['ID_N']):\n",
    "    ax1.annotate('%i' % x, (T_plot['embo_time_days'][i]+3, (T_plot['L_PCAMCA'][i])))\n",
    "\n",
    "\n",
    "fig = plt.gcf()\n",
    "plt.tight_layout()\n",
    "fig.savefig('fig3g_excld12.png')"
   ]
  },
  {
   "cell_type": "code",
   "execution_count": 25,
   "id": "0ae0558e-40cb-4e4e-93fe-07a9fbca863d",
   "metadata": {},
   "outputs": [
    {
     "data": {
      "image/png": "[encoded data removed]",
      "text/plain": [
       "<Figure size 432x288 with 1 Axes>"
      ]
     },
     "metadata": {
      "needs_background": "light"
     },
     "output_type": "display_data"
    }
   ],
   "source": [
    "# Falcine versus day of embo.\n",
    "# So this is an interesting plot when compared with Wu et al. 2016\n",
    "\n",
    "T_plot = T.loc[(T['ID_N']==2) | (T['ID_N']==11)].reset_index(drop=True)\n",
    "\n",
    "plt.plot(T_plot.loc[T_plot['embo']==0, 'embo_time_days'], T_plot.loc[T_plot['embo']==0, 'R_PCAMCA'], 'ko', fillstyle='none',)\n",
    "plt.plot(T_plot.loc[T_plot['embo']==1, 'embo_time_days'], T_plot.loc[T_plot['embo']==1, 'R_PCAMCA'], 'ko')\n",
    "\n",
    "plt.xlabel('Time after embolization (days)', fontsize=18)\n",
    "plt.ylabel('right PCA/MCA', fontsize=18)\n",
    "plt.ylim([0, 4])\n",
    "# plt.xlim([-1, 65])\n",
    "plt.xticks(fontsize=18)\n",
    "plt.yticks(fontsize=18)\n",
    "plt.grid(axis=\"both\")\n",
    "\n",
    "ax1 = plt.gca()\n",
    "for i, x in enumerate(T_plot['ID_N']):\n",
    "    ax1.annotate('%i' % x, (T_plot['embo_time_days'][i]+3, (T_plot['R_PCAMCA'][i])))\n",
    "\n",
    "\n",
    "fig = plt.gcf()\n",
    "plt.tight_layout()\n",
    "fig.savefig('fig3h_excld12.png')"
   ]
  },
  {
   "cell_type": "code",
   "execution_count": 26,
   "id": "dadb4cbf-8bcd-4518-a1f8-e28f29a3f69b",
   "metadata": {},
   "outputs": [
    {
     "data": {
      "image/png": "[encoded data removed]",
      "text/plain": [
       "<Figure size 432x288 with 1 Axes>"
      ]
     },
     "metadata": {
      "needs_background": "light"
     },
     "output_type": "display_data"
    }
   ],
   "source": [
    "## PCA versus GA. \n",
    "\n",
    "# plt.plot(T['age_at_scan_weeks'], T['SSS']*60, 'ko')\n",
    "plt.plot(T.loc[T['embo']==0, 'age_at_scan_weeks'], T.loc[T['embo']==0, 'RPCA']*60, 'ro', fillstyle='none',)\n",
    "plt.plot(T.loc[T['embo']==1, 'age_at_scan_weeks'], T.loc[T['embo']==1, 'RPCA']*60, 'ro')\n",
    "\n",
    "plt.plot(T.loc[T['embo']==0, 'age_at_scan_weeks'], T.loc[T['embo']==0, 'LPCA']*60, 'bo', fillstyle='none',)\n",
    "plt.plot(T.loc[T['embo']==1, 'age_at_scan_weeks'], T.loc[T['embo']==1, 'LPCA']*60, 'bo')\n",
    "\n",
    "plt.xlabel('Age at scan (weeks)', fontsize=18)\n",
    "plt.ylabel('PCA (ml/min)', fontsize=18)\n",
    "# plt.ylim([-20, 300])\n",
    "plt.xlim([-1, 65])\n",
    "plt.xticks(fontsize=18)\n",
    "plt.yticks(fontsize=18)\n",
    "plt.grid()\n",
    "\n",
    "# # Trendline\n",
    "# T_nan = T.dropna(subset=['SSS']) # This wasn't plotting, becasue of nan in the SSS column\n",
    "# d = np.polyfit(T_nan['age_at_scan_weeks'], T_nan['SSS_mlmin'], 1)\n",
    "# f = np.poly1d(d)\n",
    "# plot_x = [np.min(T_nan['age_at_scan_weeks']), np.max(T_nan['age_at_scan_weeks'])]\n",
    "# plt.plot(plot_x, f(plot_x), 'k-')\n",
    "\n",
    "# ax = plt.gca()\n",
    "# # ax.axhspan(100, 550, xmin=0, xmax=1, alpha=0.2, color='black')\n",
    "\n",
    "# # for i, x in enumerate(T['SS-MD']):\n",
    "# #     plt.annotate('%i' % (i+1), (T['age_at_scan_weeks'][i]+1, (T['SSS'][i]+0.1)*60))\n",
    "# for i, x in enumerate(T['ID_N']):\n",
    "#     if i == 11: # move it down a bit\n",
    "#         plt.annotate('%i' % x, (T['age_at_scan_weeks'][i]+1, T['L_PCAMCA'][i]-0.5))\n",
    "#     elif x == 11 and i == 11:\n",
    "#         plt.annotate('%i' % x, (T['age_at_scan_weeks'][i]+1, T['L_PCAMCA'][i]))\n",
    "#     else:\n",
    "#         plt.annotate('%i' % x, (T['age_at_scan_weeks'][i]+1, T['L_PCAMCA'][i]))\n",
    "\n",
    "# # SSS from Can Wu\n",
    "# sss_data = pd.read_excel('Vessel Blood Flow Can Wu 2017.xlsx', header=3)\n",
    "# # plt.plot(52 * sss_data.loc[sss_data['Age [Y]']<1.6, 'Age [Y]'], 60 * sss_data.loc[sss_data['Age [Y]']<1.6, 'SSS'], 'kx')\n",
    "# # plt.xlim([-1, 70])\n",
    "# plt.ylim([-20, 450])\n",
    "# ax.axhspan(np.min(sss_data.loc[sss_data['Age [Y]']<1.6, 'SSS'])*60, np.max(sss_data.loc[sss_data['Age [Y]']<1.6, 'SSS'])*60, alpha=0.2, color='black')\n",
    "        \n",
    "fig = plt.gcf()\n",
    "plt.tight_layout()\n",
    "fig.savefig('fig3d_excld12.png')"
   ]
  },
  {
   "cell_type": "code",
   "execution_count": 27,
   "id": "d625ac52-5ce0-4bc6-be62-f4e1dd134825",
   "metadata": {},
   "outputs": [
    {
     "data": {
      "image/png": "[encoded data removed]",
      "text/plain": [
       "<Figure size 432x288 with 1 Axes>"
      ]
     },
     "metadata": {
      "needs_background": "light"
     },
     "output_type": "display_data"
    }
   ],
   "source": [
    "## PCA versus GA. \n",
    "\n",
    "# plt.plot(T['age_at_scan_weeks'], T['SSS']*60, 'ko')\n",
    "plt.plot(T.loc[T['embo']==0, 'age_at_scan_weeks'], T.loc[T['embo']==0, 'RMCA']*60, 'ro', fillstyle='none',)\n",
    "plt.plot(T.loc[T['embo']==1, 'age_at_scan_weeks'], T.loc[T['embo']==1, 'RMCA']*60, 'ro')\n",
    "\n",
    "plt.plot(T.loc[T['embo']==0, 'age_at_scan_weeks'], T.loc[T['embo']==0, 'LMCA']*60, 'bo', fillstyle='none',)\n",
    "plt.plot(T.loc[T['embo']==1, 'age_at_scan_weeks'], T.loc[T['embo']==1, 'LMCA']*60, 'bo')\n",
    "\n",
    "plt.xlabel('Age at scan (weeks)', fontsize=18)\n",
    "plt.ylabel('MCA (ml/min)', fontsize=18)\n",
    "# plt.ylim([-20, 300])\n",
    "plt.xlim([-1, 65])\n",
    "plt.xticks(fontsize=18)\n",
    "plt.yticks(fontsize=18)\n",
    "plt.grid()\n",
    "\n",
    "# # Trendline\n",
    "# T_nan = T.dropna(subset=['SSS']) # This wasn't plotting, becasue of nan in the SSS column\n",
    "# d = np.polyfit(T_nan['age_at_scan_weeks'], T_nan['SSS_mlmin'], 1)\n",
    "# f = np.poly1d(d)\n",
    "# plot_x = [np.min(T_nan['age_at_scan_weeks']), np.max(T_nan['age_at_scan_weeks'])]\n",
    "# plt.plot(plot_x, f(plot_x), 'k-')\n",
    "\n",
    "# ax = plt.gca()\n",
    "# # ax.axhspan(100, 550, xmin=0, xmax=1, alpha=0.2, color='black')\n",
    "\n",
    "# # for i, x in enumerate(T['SS-MD']):\n",
    "# #     plt.annotate('%i' % (i+1), (T['age_at_scan_weeks'][i]+1, (T['SSS'][i]+0.1)*60))\n",
    "# for i, x in enumerate(T['ID_N']):\n",
    "#     if i == 11: # move it down a bit\n",
    "#         plt.annotate('%i' % x, (T['age_at_scan_weeks'][i]+1, T['L_PCAMCA'][i]-0.5))\n",
    "#     elif x == 11 and i == 11:\n",
    "#         plt.annotate('%i' % x, (T['age_at_scan_weeks'][i]+1, T['L_PCAMCA'][i]))\n",
    "#     else:\n",
    "#         plt.annotate('%i' % x, (T['age_at_scan_weeks'][i]+1, T['L_PCAMCA'][i]))\n",
    "\n",
    "# # SSS from Can Wu\n",
    "# sss_data = pd.read_excel('Vessel Blood Flow Can Wu 2017.xlsx', header=3)\n",
    "# # plt.plot(52 * sss_data.loc[sss_data['Age [Y]']<1.6, 'Age [Y]'], 60 * sss_data.loc[sss_data['Age [Y]']<1.6, 'SSS'], 'kx')\n",
    "# # plt.xlim([-1, 70])\n",
    "# plt.ylim([-20, 450])\n",
    "# ax.axhspan(np.min(sss_data.loc[sss_data['Age [Y]']<1.6, 'SSS'])*60, np.max(sss_data.loc[sss_data['Age [Y]']<1.6, 'SSS'])*60, alpha=0.2, color='black')\n",
    "        \n",
    "fig = plt.gcf()\n",
    "plt.tight_layout()\n",
    "fig.savefig('fig3c_excld12.png')"
   ]
  },
  {
   "cell_type": "code",
   "execution_count": 28,
   "id": "74eb040f-4020-4fe9-a589-014568e34ef6",
   "metadata": {},
   "outputs": [
    {
     "name": "stdout",
     "output_type": "stream",
     "text": [
      "                            OLS Regression Results                            \n",
      "==============================================================================\n",
      "Dep. Variable:               R_PCAMCA   R-squared:                       0.335\n",
      "Model:                            OLS   Adj. R-squared:                  0.274\n",
      "Method:                 Least Squares   F-statistic:                     5.532\n",
      "Date:                Thu, 15 Feb 2024   Prob (F-statistic):             0.0384\n",
      "Time:                        09:57:16   Log-Likelihood:                -37.901\n",
      "No. Observations:                  13   AIC:                             79.80\n",
      "Df Residuals:                      11   BIC:                             80.93\n",
      "Df Model:                           1                                         \n",
      "Covariance Type:            nonrobust                                         \n",
      "=====================================================================================\n",
      "                        coef    std err          t      P>|t|      [0.025      0.975]\n",
      "-------------------------------------------------------------------------------------\n",
      "Intercept             8.6781      2.505      3.464      0.005       3.164      14.192\n",
      "age_at_scan_weeks    -0.1802      0.077     -2.352      0.038      -0.349      -0.012\n",
      "==============================================================================\n",
      "Omnibus:                        3.758   Durbin-Watson:                   2.241\n",
      "Prob(Omnibus):                  0.153   Jarque-Bera (JB):                2.162\n",
      "Skew:                           0.998   Prob(JB):                        0.339\n",
      "Kurtosis:                       2.905   Cond. No.                         60.9\n",
      "==============================================================================\n",
      "\n",
      "Notes:\n",
      "[1] Standard Errors assume that the covariance matrix of the errors is correctly specified.\n"
     ]
    },
    {
     "name": "stderr",
     "output_type": "stream",
     "text": [
      "/home/jeff/virtualenv/jupyterlab3/lib/python3.8/site-packages/scipy/stats/_stats_py.py:1477: UserWarning: kurtosistest only valid for n>=20 ... continuing anyway, n=13\n",
      "  warnings.warn(\"kurtosistest only valid for n>=20 ... continuing \"\n"
     ]
    },
    {
     "data": {
      "image/png": "[encoded data removed]",
      "text/plain": [
       "<Figure size 432x288 with 1 Axes>"
      ]
     },
     "metadata": {
      "needs_background": "light"
     },
     "output_type": "display_data"
    },
    {
     "name": "stdout",
     "output_type": "stream",
     "text": [
      "Intercept: 8.68 [3.16, 14.19] P=0.005\n",
      "age_at_scan_weeks: -0.18 [-0.35, -0.01] P=0.038\n",
      "W=0.88, P=0.063\n",
      "                            OLS Regression Results                            \n",
      "==============================================================================\n",
      "Dep. Variable:               R_PCAMCA   R-squared:                       0.336\n",
      "Model:                            OLS   Adj. R-squared:                  0.203\n",
      "Method:                 Least Squares   F-statistic:                     2.529\n",
      "Date:                Thu, 15 Feb 2024   Prob (F-statistic):              0.129\n",
      "Time:                        09:57:17   Log-Likelihood:                -37.888\n",
      "No. Observations:                  13   AIC:                             81.78\n",
      "Df Residuals:                      10   BIC:                             83.47\n",
      "Df Model:                           2                                         \n",
      "Covariance Type:            nonrobust                                         \n",
      "=====================================================================================\n",
      "                        coef    std err          t      P>|t|      [0.025      0.975]\n",
      "-------------------------------------------------------------------------------------\n",
      "Intercept             8.5055      2.898      2.935      0.015       2.048      14.963\n",
      "age_at_scan_weeks    -0.1806      0.080     -2.248      0.048      -0.360      -0.002\n",
      "embo                  0.3979      2.832      0.141      0.891      -5.912       6.708\n",
      "==============================================================================\n",
      "Omnibus:                        3.381   Durbin-Watson:                   2.187\n",
      "Prob(Omnibus):                  0.184   Jarque-Bera (JB):                1.971\n",
      "Skew:                           0.950   Prob(JB):                        0.373\n",
      "Kurtosis:                       2.838   Cond. No.                         79.3\n",
      "==============================================================================\n",
      "\n",
      "Notes:\n",
      "[1] Standard Errors assume that the covariance matrix of the errors is correctly specified.\n"
     ]
    },
    {
     "name": "stderr",
     "output_type": "stream",
     "text": [
      "/home/jeff/virtualenv/jupyterlab3/lib/python3.8/site-packages/scipy/stats/_stats_py.py:1477: UserWarning: kurtosistest only valid for n>=20 ... continuing anyway, n=13\n",
      "  warnings.warn(\"kurtosistest only valid for n>=20 ... continuing \"\n"
     ]
    },
    {
     "data": {
      "image/png": "[encoded data removed]",
      "text/plain": [
       "<Figure size 432x288 with 1 Axes>"
      ]
     },
     "metadata": {
      "needs_background": "light"
     },
     "output_type": "display_data"
    },
    {
     "name": "stderr",
     "output_type": "stream",
     "text": [
      "/home/jeff/virtualenv/jupyterlab3/lib/python3.8/site-packages/scipy/stats/_stats_py.py:1477: UserWarning: kurtosistest only valid for n>=20 ... continuing anyway, n=12\n",
      "  warnings.warn(\"kurtosistest only valid for n>=20 ... continuing \"\n"
     ]
    },
    {
     "name": "stdout",
     "output_type": "stream",
     "text": [
      "Intercept: 8.51 [2.05, 14.96] P=0.015\n",
      "age_at_scan_weeks: -0.18 [-0.36, -0.00] P=0.048\n",
      "embo: 0.40 [-5.91, 6.71] P=0.891\n",
      "W=0.89, P=0.101\n",
      "                            OLS Regression Results                            \n",
      "==============================================================================\n",
      "Dep. Variable:               L_PCAMCA   R-squared:                       0.465\n",
      "Model:                            OLS   Adj. R-squared:                  0.412\n",
      "Method:                 Least Squares   F-statistic:                     8.696\n",
      "Date:                Thu, 15 Feb 2024   Prob (F-statistic):             0.0146\n",
      "Time:                        09:57:17   Log-Likelihood:                -31.301\n",
      "No. Observations:                  12   AIC:                             66.60\n",
      "Df Residuals:                      10   BIC:                             67.57\n",
      "Df Model:                           1                                         \n",
      "Covariance Type:            nonrobust                                         \n",
      "=====================================================================================\n",
      "                        coef    std err          t      P>|t|      [0.025      0.975]\n",
      "-------------------------------------------------------------------------------------\n",
      "Intercept             8.5597      1.913      4.474      0.001       4.297      12.823\n",
      "age_at_scan_weeks    -0.1685      0.057     -2.949      0.015      -0.296      -0.041\n",
      "==============================================================================\n",
      "Omnibus:                        0.760   Durbin-Watson:                   1.894\n",
      "Prob(Omnibus):                  0.684   Jarque-Bera (JB):                0.634\n",
      "Skew:                           0.466   Prob(JB):                        0.728\n",
      "Kurtosis:                       2.369   Cond. No.                         61.7\n",
      "==============================================================================\n",
      "\n",
      "Notes:\n",
      "[1] Standard Errors assume that the covariance matrix of the errors is correctly specified.\n"
     ]
    },
    {
     "data": {
      "image/png": "[encoded data removed]",
      "text/plain": [
       "<Figure size 432x288 with 1 Axes>"
      ]
     },
     "metadata": {
      "needs_background": "light"
     },
     "output_type": "display_data"
    },
    {
     "name": "stdout",
     "output_type": "stream",
     "text": [
      "Intercept: 8.56 [4.30, 12.82] P=0.001\n",
      "age_at_scan_weeks: -0.17 [-0.30, -0.04] P=0.015\n",
      "W=0.94, P=0.541\n",
      "                            OLS Regression Results                            \n",
      "==============================================================================\n",
      "Dep. Variable:               L_PCAMCA   R-squared:                       0.466\n",
      "Model:                            OLS   Adj. R-squared:                  0.347\n",
      "Method:                 Least Squares   F-statistic:                     3.925\n",
      "Date:                Thu, 15 Feb 2024   Prob (F-statistic):             0.0595\n",
      "Time:                        09:57:17   Log-Likelihood:                -31.292\n",
      "No. Observations:                  12   AIC:                             68.58\n",
      "Df Residuals:                       9   BIC:                             70.04\n",
      "Df Model:                           2                                         \n",
      "Covariance Type:            nonrobust                                         \n",
      "=====================================================================================\n",
      "                        coef    std err          t      P>|t|      [0.025      0.975]\n",
      "-------------------------------------------------------------------------------------\n",
      "Intercept             8.6809      2.288      3.794      0.004       3.505      13.857\n",
      "age_at_scan_weeks    -0.1685      0.060     -2.799      0.021      -0.305      -0.032\n",
      "embo                 -0.2448      2.189     -0.112      0.913      -5.196       4.706\n",
      "==============================================================================\n",
      "Omnibus:                        0.929   Durbin-Watson:                   1.915\n",
      "Prob(Omnibus):                  0.629   Jarque-Bera (JB):                0.682\n",
      "Skew:                           0.515   Prob(JB):                        0.711\n",
      "Kurtosis:                       2.449   Cond. No.                         83.2\n",
      "==============================================================================\n",
      "\n",
      "Notes:\n",
      "[1] Standard Errors assume that the covariance matrix of the errors is correctly specified.\n"
     ]
    },
    {
     "name": "stderr",
     "output_type": "stream",
     "text": [
      "/home/jeff/virtualenv/jupyterlab3/lib/python3.8/site-packages/scipy/stats/_stats_py.py:1477: UserWarning: kurtosistest only valid for n>=20 ... continuing anyway, n=12\n",
      "  warnings.warn(\"kurtosistest only valid for n>=20 ... continuing \"\n"
     ]
    },
    {
     "data": {
      "image/png": "[encoded data removed]",
      "text/plain": [
       "<Figure size 432x288 with 1 Axes>"
      ]
     },
     "metadata": {
      "needs_background": "light"
     },
     "output_type": "display_data"
    },
    {
     "name": "stdout",
     "output_type": "stream",
     "text": [
      "Intercept: 8.68 [3.51, 13.86] P=0.004\n",
      "age_at_scan_weeks: -0.17 [-0.30, -0.03] P=0.021\n",
      "embo: -0.24 [-5.20, 4.71] P=0.913\n",
      "W=0.93, P=0.432\n",
      "                            OLS Regression Results                            \n",
      "==============================================================================\n",
      "Dep. Variable:             LMCA_mlmin   R-squared:                       0.254\n",
      "Model:                            OLS   Adj. R-squared:                  0.196\n",
      "Method:                 Least Squares   F-statistic:                     4.422\n",
      "Date:                Thu, 15 Feb 2024   Prob (F-statistic):             0.0555\n",
      "Time:                        09:57:17   Log-Likelihood:                -78.210\n",
      "No. Observations:                  15   AIC:                             160.4\n",
      "Df Residuals:                      13   BIC:                             161.8\n",
      "Df Model:                           1                                         \n",
      "Covariance Type:            nonrobust                                         \n",
      "=====================================================================================\n",
      "                        coef    std err          t      P>|t|      [0.025      0.975]\n",
      "-------------------------------------------------------------------------------------\n",
      "Intercept            64.8524     22.034      2.943      0.011      17.252     112.453\n",
      "age_at_scan_weeks     1.5071      0.717      2.103      0.056      -0.041       3.056\n",
      "==============================================================================\n",
      "Omnibus:                        1.415   Durbin-Watson:                   1.734\n",
      "Prob(Omnibus):                  0.493   Jarque-Bera (JB):                1.018\n",
      "Skew:                           0.380   Prob(JB):                        0.601\n",
      "Kurtosis:                       1.976   Cond. No.                         54.9\n",
      "==============================================================================\n",
      "\n",
      "Notes:\n",
      "[1] Standard Errors assume that the covariance matrix of the errors is correctly specified.\n"
     ]
    },
    {
     "name": "stderr",
     "output_type": "stream",
     "text": [
      "/home/jeff/virtualenv/jupyterlab3/lib/python3.8/site-packages/scipy/stats/_stats_py.py:1477: UserWarning: kurtosistest only valid for n>=20 ... continuing anyway, n=15\n",
      "  warnings.warn(\"kurtosistest only valid for n>=20 ... continuing \"\n"
     ]
    },
    {
     "data": {
      "image/png": "[encoded data removed]",
      "text/plain": [
       "<Figure size 432x288 with 1 Axes>"
      ]
     },
     "metadata": {
      "needs_background": "light"
     },
     "output_type": "display_data"
    },
    {
     "name": "stdout",
     "output_type": "stream",
     "text": [
      "Intercept: 64.85 [17.25, 112.45] P=0.011\n",
      "age_at_scan_weeks: 1.51 [-0.04, 3.06] P=0.056\n",
      "W=0.92, P=0.191\n",
      "                            OLS Regression Results                            \n",
      "==============================================================================\n",
      "Dep. Variable:             LMCA_mlmin   R-squared:                       0.267\n",
      "Model:                            OLS   Adj. R-squared:                  0.144\n",
      "Method:                 Least Squares   F-statistic:                     2.180\n",
      "Date:                Thu, 15 Feb 2024   Prob (F-statistic):              0.156\n",
      "Time:                        09:57:17   Log-Likelihood:                -78.081\n",
      "No. Observations:                  15   AIC:                             162.2\n",
      "Df Residuals:                      12   BIC:                             164.3\n",
      "Df Model:                           2                                         \n",
      "Covariance Type:            nonrobust                                         \n",
      "=====================================================================================\n",
      "                        coef    std err          t      P>|t|      [0.025      0.975]\n",
      "-------------------------------------------------------------------------------------\n",
      "Intercept            57.9092     27.360      2.117      0.056      -1.702     117.521\n",
      "age_at_scan_weeks     1.5351      0.742      2.068      0.061      -0.082       3.152\n",
      "embo                 11.6825     25.605      0.456      0.656     -44.107      67.472\n",
      "==============================================================================\n",
      "Omnibus:                        1.582   Durbin-Watson:                   1.748\n",
      "Prob(Omnibus):                  0.453   Jarque-Bera (JB):                0.950\n",
      "Skew:                           0.249   Prob(JB):                        0.622\n",
      "Kurtosis:                       1.873   Cond. No.                         79.9\n",
      "==============================================================================\n",
      "\n",
      "Notes:\n",
      "[1] Standard Errors assume that the covariance matrix of the errors is correctly specified.\n"
     ]
    },
    {
     "name": "stderr",
     "output_type": "stream",
     "text": [
      "/home/jeff/virtualenv/jupyterlab3/lib/python3.8/site-packages/scipy/stats/_stats_py.py:1477: UserWarning: kurtosistest only valid for n>=20 ... continuing anyway, n=15\n",
      "  warnings.warn(\"kurtosistest only valid for n>=20 ... continuing \"\n"
     ]
    },
    {
     "data": {
      "image/png": "[encoded data removed]",
      "text/plain": [
       "<Figure size 432x288 with 1 Axes>"
      ]
     },
     "metadata": {
      "needs_background": "light"
     },
     "output_type": "display_data"
    },
    {
     "name": "stdout",
     "output_type": "stream",
     "text": [
      "Intercept: 57.91 [-1.70, 117.52] P=0.056\n",
      "age_at_scan_weeks: 1.54 [-0.08, 3.15] P=0.061\n",
      "embo: 11.68 [-44.11, 67.47] P=0.656\n",
      "W=0.95, P=0.528\n",
      "                            OLS Regression Results                            \n",
      "==============================================================================\n",
      "Dep. Variable:             RMCA_mlmin   R-squared:                       0.152\n",
      "Model:                            OLS   Adj. R-squared:                  0.087\n",
      "Method:                 Least Squares   F-statistic:                     2.338\n",
      "Date:                Thu, 15 Feb 2024   Prob (F-statistic):              0.150\n",
      "Time:                        09:57:17   Log-Likelihood:                -81.858\n",
      "No. Observations:                  15   AIC:                             167.7\n",
      "Df Residuals:                      13   BIC:                             169.1\n",
      "Df Model:                           1                                         \n",
      "Covariance Type:            nonrobust                                         \n",
      "=====================================================================================\n",
      "                        coef    std err          t      P>|t|      [0.025      0.975]\n",
      "-------------------------------------------------------------------------------------\n",
      "Intercept            77.6040     28.099      2.762      0.016      16.900     138.308\n",
      "age_at_scan_weeks     1.3975      0.914      1.529      0.150      -0.577       3.372\n",
      "==============================================================================\n",
      "Omnibus:                        1.639   Durbin-Watson:                   2.551\n",
      "Prob(Omnibus):                  0.441   Jarque-Bera (JB):                1.313\n",
      "Skew:                           0.606   Prob(JB):                        0.519\n",
      "Kurtosis:                       2.204   Cond. No.                         54.9\n",
      "==============================================================================\n",
      "\n",
      "Notes:\n",
      "[1] Standard Errors assume that the covariance matrix of the errors is correctly specified.\n"
     ]
    },
    {
     "name": "stderr",
     "output_type": "stream",
     "text": [
      "/home/jeff/virtualenv/jupyterlab3/lib/python3.8/site-packages/scipy/stats/_stats_py.py:1477: UserWarning: kurtosistest only valid for n>=20 ... continuing anyway, n=15\n",
      "  warnings.warn(\"kurtosistest only valid for n>=20 ... continuing \"\n"
     ]
    },
    {
     "data": {
      "image/png": "[encoded data removed]",
      "text/plain": [
       "<Figure size 432x288 with 1 Axes>"
      ]
     },
     "metadata": {
      "needs_background": "light"
     },
     "output_type": "display_data"
    },
    {
     "name": "stdout",
     "output_type": "stream",
     "text": [
      "Intercept: 77.60 [16.90, 138.31] P=0.016\n",
      "age_at_scan_weeks: 1.40 [-0.58, 3.37] P=0.150\n",
      "W=0.90, P=0.092\n",
      "                            OLS Regression Results                            \n",
      "==============================================================================\n",
      "Dep. Variable:             RMCA_mlmin   R-squared:                       0.155\n",
      "Model:                            OLS   Adj. R-squared:                  0.015\n",
      "Method:                 Least Squares   F-statistic:                     1.104\n",
      "Date:                Thu, 15 Feb 2024   Prob (F-statistic):              0.363\n",
      "Time:                        09:57:17   Log-Likelihood:                -81.831\n",
      "No. Observations:                  15   AIC:                             169.7\n",
      "Df Residuals:                      12   BIC:                             171.8\n",
      "Df Model:                           2                                         \n",
      "Covariance Type:            nonrobust                                         \n",
      "=====================================================================================\n",
      "                        coef    std err          t      P>|t|      [0.025      0.975]\n",
      "-------------------------------------------------------------------------------------\n",
      "Intercept            81.5999     35.132      2.323      0.039       5.055     158.145\n",
      "age_at_scan_weeks     1.3814      0.953      1.450      0.173      -0.695       3.458\n",
      "embo                 -6.7233     32.879     -0.204      0.841     -78.361      64.914\n",
      "==============================================================================\n",
      "Omnibus:                        1.681   Durbin-Watson:                   2.547\n",
      "Prob(Omnibus):                  0.432   Jarque-Bera (JB):                1.343\n",
      "Skew:                           0.621   Prob(JB):                        0.511\n",
      "Kurtosis:                       2.222   Cond. No.                         79.9\n",
      "==============================================================================\n",
      "\n",
      "Notes:\n",
      "[1] Standard Errors assume that the covariance matrix of the errors is correctly specified.\n"
     ]
    },
    {
     "name": "stderr",
     "output_type": "stream",
     "text": [
      "/home/jeff/virtualenv/jupyterlab3/lib/python3.8/site-packages/scipy/stats/_stats_py.py:1477: UserWarning: kurtosistest only valid for n>=20 ... continuing anyway, n=15\n",
      "  warnings.warn(\"kurtosistest only valid for n>=20 ... continuing \"\n"
     ]
    },
    {
     "data": {
      "image/png": "[encoded data removed]",
      "text/plain": [
       "<Figure size 432x288 with 1 Axes>"
      ]
     },
     "metadata": {
      "needs_background": "light"
     },
     "output_type": "display_data"
    },
    {
     "name": "stdout",
     "output_type": "stream",
     "text": [
      "Intercept: 81.60 [5.05, 158.14] P=0.039\n",
      "age_at_scan_weeks: 1.38 [-0.69, 3.46] P=0.173\n",
      "embo: -6.72 [-78.36, 64.91] P=0.841\n",
      "W=0.90, P=0.108\n",
      "                            OLS Regression Results                            \n",
      "==============================================================================\n",
      "Dep. Variable:             LPCA_mlmin   R-squared:                       0.126\n",
      "Model:                            OLS   Adj. R-squared:                  0.039\n",
      "Method:                 Least Squares   F-statistic:                     1.441\n",
      "Date:                Thu, 15 Feb 2024   Prob (F-statistic):              0.258\n",
      "Time:                        09:57:17   Log-Likelihood:                -71.095\n",
      "No. Observations:                  12   AIC:                             146.2\n",
      "Df Residuals:                      10   BIC:                             147.2\n",
      "Df Model:                           1                                         \n",
      "Covariance Type:            nonrobust                                         \n",
      "=====================================================================================\n",
      "                        coef    std err          t      P>|t|      [0.025      0.975]\n",
      "-------------------------------------------------------------------------------------\n",
      "Intercept           291.8376     52.720      5.536      0.000     174.370     409.305\n",
      "age_at_scan_weeks    -1.8901      1.574     -1.200      0.258      -5.398       1.618\n",
      "==============================================================================\n",
      "Omnibus:                        6.964   Durbin-Watson:                   2.583\n",
      "Prob(Omnibus):                  0.031   Jarque-Bera (JB):                3.151\n",
      "Skew:                           1.138   Prob(JB):                        0.207\n",
      "Kurtosis:                       4.060   Cond. No.                         61.7\n",
      "==============================================================================\n",
      "\n",
      "Notes:\n",
      "[1] Standard Errors assume that the covariance matrix of the errors is correctly specified.\n"
     ]
    },
    {
     "name": "stderr",
     "output_type": "stream",
     "text": [
      "/home/jeff/virtualenv/jupyterlab3/lib/python3.8/site-packages/scipy/stats/_stats_py.py:1477: UserWarning: kurtosistest only valid for n>=20 ... continuing anyway, n=12\n",
      "  warnings.warn(\"kurtosistest only valid for n>=20 ... continuing \"\n"
     ]
    },
    {
     "data": {
      "image/png": "[encoded data removed]",
      "text/plain": [
       "<Figure size 432x288 with 1 Axes>"
      ]
     },
     "metadata": {
      "needs_background": "light"
     },
     "output_type": "display_data"
    },
    {
     "name": "stdout",
     "output_type": "stream",
     "text": [
      "Intercept: 291.84 [174.37, 409.31] P=0.000\n",
      "age_at_scan_weeks: -1.89 [-5.40, 1.62] P=0.258\n",
      "W=0.90, P=0.182\n",
      "                            OLS Regression Results                            \n",
      "==============================================================================\n",
      "Dep. Variable:             LPCA_mlmin   R-squared:                       0.285\n",
      "Model:                            OLS   Adj. R-squared:                  0.127\n",
      "Method:                 Least Squares   F-statistic:                     1.797\n",
      "Date:                Thu, 15 Feb 2024   Prob (F-statistic):              0.220\n",
      "Time:                        09:57:17   Log-Likelihood:                -69.886\n",
      "No. Observations:                  12   AIC:                             145.8\n",
      "Df Residuals:                       9   BIC:                             147.2\n",
      "Df Model:                           2                                         \n",
      "Covariance Type:            nonrobust                                         \n",
      "=====================================================================================\n",
      "                        coef    std err          t      P>|t|      [0.025      0.975]\n",
      "-------------------------------------------------------------------------------------\n",
      "Intercept           330.1059     57.045      5.787      0.000     201.061     459.150\n",
      "age_at_scan_weeks    -1.8760      1.501     -1.250      0.243      -5.271       1.519\n",
      "embo                -77.3284     54.569     -1.417      0.190    -200.771      46.114\n",
      "==============================================================================\n",
      "Omnibus:                        4.238   Durbin-Watson:                   2.722\n",
      "Prob(Omnibus):                  0.120   Jarque-Bera (JB):                2.092\n",
      "Skew:                           1.020   Prob(JB):                        0.351\n",
      "Kurtosis:                       3.156   Cond. No.                         83.2\n",
      "==============================================================================\n",
      "\n",
      "Notes:\n",
      "[1] Standard Errors assume that the covariance matrix of the errors is correctly specified.\n"
     ]
    },
    {
     "name": "stderr",
     "output_type": "stream",
     "text": [
      "/home/jeff/virtualenv/jupyterlab3/lib/python3.8/site-packages/scipy/stats/_stats_py.py:1477: UserWarning: kurtosistest only valid for n>=20 ... continuing anyway, n=12\n",
      "  warnings.warn(\"kurtosistest only valid for n>=20 ... continuing \"\n"
     ]
    },
    {
     "data": {
      "image/png": "[encoded data removed]",
      "text/plain": [
       "<Figure size 432x288 with 1 Axes>"
      ]
     },
     "metadata": {
      "needs_background": "light"
     },
     "output_type": "display_data"
    },
    {
     "name": "stdout",
     "output_type": "stream",
     "text": [
      "Intercept: 330.11 [201.06, 459.15] P=0.000\n",
      "age_at_scan_weeks: -1.88 [-5.27, 1.52] P=0.243\n",
      "embo: -77.33 [-200.77, 46.11] P=0.190\n",
      "W=0.89, P=0.121\n",
      "                            OLS Regression Results                            \n",
      "==============================================================================\n",
      "Dep. Variable:             RPCA_mlmin   R-squared:                       0.169\n",
      "Model:                            OLS   Adj. R-squared:                  0.094\n",
      "Method:                 Least Squares   F-statistic:                     2.238\n",
      "Date:                Thu, 15 Feb 2024   Prob (F-statistic):              0.163\n",
      "Time:                        09:57:17   Log-Likelihood:                -81.958\n",
      "No. Observations:                  13   AIC:                             167.9\n",
      "Df Residuals:                      11   BIC:                             169.0\n",
      "Df Model:                           1                                         \n",
      "Covariance Type:            nonrobust                                         \n",
      "=====================================================================================\n",
      "                        coef    std err          t      P>|t|      [0.025      0.975]\n",
      "-------------------------------------------------------------------------------------\n",
      "Intercept           287.6514     74.243      3.874      0.003     124.243     451.060\n",
      "age_at_scan_weeks    -3.3973      2.271     -1.496      0.163      -8.396       1.601\n",
      "==============================================================================\n",
      "Omnibus:                        1.235   Durbin-Watson:                   1.460\n",
      "Prob(Omnibus):                  0.539   Jarque-Bera (JB):                0.842\n",
      "Skew:                           0.578   Prob(JB):                        0.656\n",
      "Kurtosis:                       2.534   Cond. No.                         60.9\n",
      "==============================================================================\n",
      "\n",
      "Notes:\n",
      "[1] Standard Errors assume that the covariance matrix of the errors is correctly specified.\n"
     ]
    },
    {
     "name": "stderr",
     "output_type": "stream",
     "text": [
      "/home/jeff/virtualenv/jupyterlab3/lib/python3.8/site-packages/scipy/stats/_stats_py.py:1477: UserWarning: kurtosistest only valid for n>=20 ... continuing anyway, n=13\n",
      "  warnings.warn(\"kurtosistest only valid for n>=20 ... continuing \"\n"
     ]
    },
    {
     "data": {
      "image/png": "[encoded data removed]",
      "text/plain": [
       "<Figure size 432x288 with 1 Axes>"
      ]
     },
     "metadata": {
      "needs_background": "light"
     },
     "output_type": "display_data"
    },
    {
     "name": "stdout",
     "output_type": "stream",
     "text": [
      "Intercept: 287.65 [124.24, 451.06] P=0.003\n",
      "age_at_scan_weeks: -3.40 [-8.40, 1.60] P=0.163\n",
      "W=0.94, P=0.518\n",
      "                            OLS Regression Results                            \n",
      "==============================================================================\n",
      "Dep. Variable:             RPCA_mlmin   R-squared:                       0.254\n",
      "Model:                            OLS   Adj. R-squared:                  0.104\n",
      "Method:                 Least Squares   F-statistic:                     1.700\n",
      "Date:                Thu, 15 Feb 2024   Prob (F-statistic):              0.231\n",
      "Time:                        09:57:17   Log-Likelihood:                -81.259\n",
      "No. Observations:                  13   AIC:                             168.5\n",
      "Df Residuals:                      10   BIC:                             170.2\n",
      "Df Model:                           2                                         \n",
      "Covariance Type:            nonrobust                                         \n",
      "=====================================================================================\n",
      "                        coef    std err          t      P>|t|      [0.025      0.975]\n",
      "-------------------------------------------------------------------------------------\n",
      "Intercept           324.4495     81.476      3.982      0.003     142.909     505.990\n",
      "age_at_scan_weeks    -3.3121      2.259     -1.466      0.173      -8.345       1.721\n",
      "embo                -84.8194     79.617     -1.065      0.312    -262.217      92.578\n",
      "==============================================================================\n",
      "Omnibus:                        2.141   Durbin-Watson:                   1.557\n",
      "Prob(Omnibus):                  0.343   Jarque-Bera (JB):                1.319\n",
      "Skew:                           0.528   Prob(JB):                        0.517\n",
      "Kurtosis:                       1.852   Cond. No.                         79.3\n",
      "==============================================================================\n",
      "\n",
      "Notes:\n",
      "[1] Standard Errors assume that the covariance matrix of the errors is correctly specified.\n"
     ]
    },
    {
     "name": "stderr",
     "output_type": "stream",
     "text": [
      "/home/jeff/virtualenv/jupyterlab3/lib/python3.8/site-packages/scipy/stats/_stats_py.py:1477: UserWarning: kurtosistest only valid for n>=20 ... continuing anyway, n=13\n",
      "  warnings.warn(\"kurtosistest only valid for n>=20 ... continuing \"\n"
     ]
    },
    {
     "data": {
      "image/png": "[encoded data removed]",
      "text/plain": [
       "<Figure size 432x288 with 1 Axes>"
      ]
     },
     "metadata": {
      "needs_background": "light"
     },
     "output_type": "display_data"
    },
    {
     "name": "stdout",
     "output_type": "stream",
     "text": [
      "Intercept: 324.45 [142.91, 505.99] P=0.003\n",
      "age_at_scan_weeks: -3.31 [-8.34, 1.72] P=0.173\n",
      "embo: -84.82 [-262.22, 92.58] P=0.312\n",
      "W=0.86, P=0.034\n"
     ]
    }
   ],
   "source": [
    "## For Table 2\n",
    "T['LMCA_mlmin'] = T['LMCA'] * 60\n",
    "T['RMCA_mlmin'] = T['RMCA'] * 60\n",
    "T['LPCA_mlmin'] = T['LPCA'] * 60\n",
    "T['RPCA_mlmin'] = T['RPCA'] * 60\n",
    "\n",
    "mod = smf.ols(formula=\"R_PCAMCA ~ age_at_scan_weeks\", data=T)\n",
    "res = mod.fit()\n",
    "print(res.summary())\n",
    "plt.hist(res.resid)\n",
    "plt.show()\n",
    "print(format_result(res))\n",
    "\n",
    "mod = smf.ols(formula=\"R_PCAMCA ~ age_at_scan_weeks + embo\", data=T)\n",
    "res = mod.fit()\n",
    "print(res.summary())\n",
    "plt.hist(res.resid)\n",
    "plt.show()\n",
    "print(format_result(res))\n",
    "mod = smf.ols(formula=\"L_PCAMCA ~ age_at_scan_weeks\", data=T)\n",
    "res = mod.fit()\n",
    "print(res.summary())\n",
    "plt.hist(res.resid)\n",
    "plt.show()\n",
    "print(format_result(res))\n",
    "mod = smf.ols(formula=\"L_PCAMCA ~ age_at_scan_weeks + embo\", data=T)\n",
    "res = mod.fit()\n",
    "print(res.summary())\n",
    "plt.hist(res.resid)\n",
    "plt.show()\n",
    "print(format_result(res))\n",
    "\n",
    "mod = smf.ols(formula=\"LMCA_mlmin ~ age_at_scan_weeks\", data=T)\n",
    "res = mod.fit()\n",
    "print(res.summary())\n",
    "plt.hist(res.resid)\n",
    "plt.show()\n",
    "print(format_result(res))\n",
    "mod = smf.ols(formula=\"LMCA_mlmin ~ age_at_scan_weeks + embo\", data=T)\n",
    "res = mod.fit()\n",
    "print(res.summary())\n",
    "plt.hist(res.resid)\n",
    "plt.show()\n",
    "print(format_result(res))\n",
    "\n",
    "mod = smf.ols(formula=\"RMCA_mlmin ~ age_at_scan_weeks\", data=T)\n",
    "res = mod.fit()\n",
    "print(res.summary())\n",
    "plt.hist(res.resid)\n",
    "plt.show()\n",
    "print(format_result(res))\n",
    "mod = smf.ols(formula=\"RMCA_mlmin ~ age_at_scan_weeks + embo\", data=T)\n",
    "res = mod.fit()\n",
    "print(res.summary())\n",
    "plt.hist(res.resid)\n",
    "plt.show()\n",
    "print(format_result(res))\n",
    "\n",
    "mod = smf.ols(formula=\"LPCA_mlmin ~ age_at_scan_weeks\", data=T)\n",
    "res = mod.fit()\n",
    "print(res.summary())\n",
    "plt.hist(res.resid)\n",
    "plt.show()\n",
    "print(format_result(res))\n",
    "mod = smf.ols(formula=\"LPCA_mlmin ~ age_at_scan_weeks + embo\", data=T)\n",
    "res = mod.fit()\n",
    "print(res.summary())\n",
    "plt.hist(res.resid)\n",
    "plt.show()\n",
    "print(format_result(res))\n",
    "\n",
    "mod = smf.ols(formula=\"RPCA_mlmin ~ age_at_scan_weeks\", data=T)\n",
    "res = mod.fit()\n",
    "print(res.summary())\n",
    "plt.hist(res.resid)\n",
    "plt.show()\n",
    "print(format_result(res))\n",
    "mod = smf.ols(formula=\"RPCA_mlmin ~ age_at_scan_weeks + embo\", data=T)\n",
    "res = mod.fit()\n",
    "print(res.summary())\n",
    "plt.hist(res.resid)\n",
    "plt.show()\n",
    "print(format_result(res))"
   ]
  },
  {
   "cell_type": "code",
   "execution_count": null,
   "id": "c6323dad-bfba-4de3-851e-865cdea8c3c5",
   "metadata": {},
   "outputs": [],
   "source": []
  }
 ],
 "metadata": {
  "kernelspec": {
   "display_name": "Python 3",
   "language": "python",
   "name": "python3"
  },
  "language_info": {
   "codemirror_mode": {
    "name": "ipython",
    "version": 3
   },
   "file_extension": ".py",
   "mimetype": "text/x-python",
   "name": "python",
   "nbconvert_exporter": "python",
   "pygments_lexer": "ipython3",
   "version": "3.8.10"
  }
 },
 "nbformat": 4,
 "nbformat_minor": 5
}
